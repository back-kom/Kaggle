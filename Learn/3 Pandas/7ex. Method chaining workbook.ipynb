{
  "cells": [
    {
      "metadata": {
        "_uuid": "58335a1bb472e68aaddc32827fdb99d9d44e4ab2",
        "_cell_guid": "14c68aad-0435-454b-8bc7-6556f60b034e"
      },
      "cell_type": "markdown",
      "source": "# Method chaining workbook\n\n## Introduction\n\nThis is the workbook component of the \"Method chaining\" section of the tutorial. For the reference component, click [here](https://www.kaggle.com/residentmario/method-chaining-reference).\n\n* [Method Chaining Section of the Modern Pandas Tutorial](https://tomaugspurger.github.io/method-chaining.html) - http://archive.is/Jl7JW\n\nThis is the last workbook in the tutorial. Congratulations! In this section we will put all of the things that we learned together to do some truly interesting things with some datasets. The exercises in this section are therefore also quite difficult! Try using method chaining syntax while working through the examples that follow, and make studious use of the hints that we provide."
    },
    {
      "metadata": {
        "_uuid": "a4f1f60fb1c5c7d744bc9089fc58b4be8d082947",
        "_cell_guid": "0559dd85-e762-4699-95d6-28840f18e910",
        "trusted": true
      },
      "cell_type": "code",
      "source": "import pandas as pd\npd.set_option('max_rows', 5)\nfrom learntools.advanced_pandas.method_chaining import *\n\nchess_games = pd.read_csv(\"../input/chess/games.csv\")",
      "execution_count": 52,
      "outputs": []
    },
    {
      "metadata": {
        "_uuid": "2477f759f3c11e964f50c583f211f6e324bad518",
        "_cell_guid": "3070c6b9-5ac4-4604-91f7-5fe9128ccfb2"
      },
      "cell_type": "markdown",
      "source": "# Checking Answers\n\n**Check your answers in each exercise using the  `check_qN` function** (replacing `N` with the number of the exercise). For example here's how you would check an incorrect answer to exercise 1:"
    },
    {
      "metadata": {
        "_uuid": "b8490e33adb514ab0bd4b92911fb4d1c9e018b51",
        "_cell_guid": "47ec828b-f315-4126-a534-5d0b5af6f973",
        "trusted": true
      },
      "cell_type": "code",
      "source": "check_q1(pd.DataFrame())",
      "execution_count": 53,
      "outputs": [
        {
          "output_type": "execute_result",
          "execution_count": 53,
          "data": {
            "text/plain": "False"
          },
          "metadata": {}
        }
      ]
    },
    {
      "metadata": {
        "_uuid": "dd23107bed53e3ab1ece7a091ed29d2dd826c6c5",
        "_cell_guid": "96b7eed1-d290-4da7-aeb0-92e7381e7db1"
      },
      "cell_type": "markdown",
      "source": "If you get stuck, **use the `answer_qN` function to see the code with the correct answer.**\n\nFor the first set of questions, running the `check_qN` on the correct answer returns `True`.\n\nFor the second set of questions, using this function to check a correct answer will present an informative graph."
    },
    {
      "metadata": {
        "_uuid": "76a8860fa325d3324028437fa4b6ec392e7a279e",
        "_cell_guid": "0d4748cd-9a43-4928-9ba3-9c42a4bfbb0d"
      },
      "cell_type": "markdown",
      "source": "## Exercises\n\nView your data by running the cell below"
    },
    {
      "metadata": {
        "_uuid": "34bb03034a84edb302cdb4bdff4854aa25a17dae",
        "_cell_guid": "543c4672-bc57-4fd4-9e70-9ccbf43fd4c0",
        "trusted": true
      },
      "cell_type": "code",
      "source": "chess_games.head()",
      "execution_count": 54,
      "outputs": [
        {
          "output_type": "execute_result",
          "execution_count": 54,
          "data": {
            "text/plain": "         id     ...       opening_ply\n0  TZJHLljE     ...                 5\n1  l1NXvwaE     ...                 4\n2  mIICvQHh     ...                 3\n3  kWKvrqYL     ...                 3\n4  9tXo1AUZ     ...                 5\n\n[5 rows x 16 columns]",
            "text/html": "<div>\n<style scoped>\n    .dataframe tbody tr th:only-of-type {\n        vertical-align: middle;\n    }\n\n    .dataframe tbody tr th {\n        vertical-align: top;\n    }\n\n    .dataframe thead th {\n        text-align: right;\n    }\n</style>\n<table border=\"1\" class=\"dataframe\">\n  <thead>\n    <tr style=\"text-align: right;\">\n      <th></th>\n      <th>id</th>\n      <th>rated</th>\n      <th>created_at</th>\n      <th>last_move_at</th>\n      <th>turns</th>\n      <th>victory_status</th>\n      <th>winner</th>\n      <th>increment_code</th>\n      <th>white_id</th>\n      <th>white_rating</th>\n      <th>black_id</th>\n      <th>black_rating</th>\n      <th>moves</th>\n      <th>opening_eco</th>\n      <th>opening_name</th>\n      <th>opening_ply</th>\n    </tr>\n  </thead>\n  <tbody>\n    <tr>\n      <th>0</th>\n      <td>TZJHLljE</td>\n      <td>False</td>\n      <td>1.504210e+12</td>\n      <td>1.504210e+12</td>\n      <td>13</td>\n      <td>outoftime</td>\n      <td>white</td>\n      <td>15+2</td>\n      <td>bourgris</td>\n      <td>1500</td>\n      <td>a-00</td>\n      <td>1191</td>\n      <td>d4 d5 c4 c6 cxd5 e6 dxe6 fxe6 Nf3 Bb4+ Nc3 Ba5...</td>\n      <td>D10</td>\n      <td>Slav Defense: Exchange Variation</td>\n      <td>5</td>\n    </tr>\n    <tr>\n      <th>1</th>\n      <td>l1NXvwaE</td>\n      <td>True</td>\n      <td>1.504130e+12</td>\n      <td>1.504130e+12</td>\n      <td>16</td>\n      <td>resign</td>\n      <td>black</td>\n      <td>5+10</td>\n      <td>a-00</td>\n      <td>1322</td>\n      <td>skinnerua</td>\n      <td>1261</td>\n      <td>d4 Nc6 e4 e5 f4 f6 dxe5 fxe5 fxe5 Nxe5 Qd4 Nc6...</td>\n      <td>B00</td>\n      <td>Nimzowitsch Defense: Kennedy Variation</td>\n      <td>4</td>\n    </tr>\n    <tr>\n      <th>2</th>\n      <td>mIICvQHh</td>\n      <td>True</td>\n      <td>1.504130e+12</td>\n      <td>1.504130e+12</td>\n      <td>61</td>\n      <td>mate</td>\n      <td>white</td>\n      <td>5+10</td>\n      <td>ischia</td>\n      <td>1496</td>\n      <td>a-00</td>\n      <td>1500</td>\n      <td>e4 e5 d3 d6 Be3 c6 Be2 b5 Nd2 a5 a4 c5 axb5 Nc...</td>\n      <td>C20</td>\n      <td>King's Pawn Game: Leonardis Variation</td>\n      <td>3</td>\n    </tr>\n    <tr>\n      <th>3</th>\n      <td>kWKvrqYL</td>\n      <td>True</td>\n      <td>1.504110e+12</td>\n      <td>1.504110e+12</td>\n      <td>61</td>\n      <td>mate</td>\n      <td>white</td>\n      <td>20+0</td>\n      <td>daniamurashov</td>\n      <td>1439</td>\n      <td>adivanov2009</td>\n      <td>1454</td>\n      <td>d4 d5 Nf3 Bf5 Nc3 Nf6 Bf4 Ng4 e3 Nc6 Be2 Qd7 O...</td>\n      <td>D02</td>\n      <td>Queen's Pawn Game: Zukertort Variation</td>\n      <td>3</td>\n    </tr>\n    <tr>\n      <th>4</th>\n      <td>9tXo1AUZ</td>\n      <td>True</td>\n      <td>1.504030e+12</td>\n      <td>1.504030e+12</td>\n      <td>95</td>\n      <td>mate</td>\n      <td>white</td>\n      <td>30+3</td>\n      <td>nik221107</td>\n      <td>1523</td>\n      <td>adivanov2009</td>\n      <td>1469</td>\n      <td>e4 e5 Nf3 d6 d4 Nc6 d5 Nb4 a3 Na6 Nc3 Be7 b4 N...</td>\n      <td>C41</td>\n      <td>Philidor Defense</td>\n      <td>5</td>\n    </tr>\n  </tbody>\n</table>\n</div>"
          },
          "metadata": {}
        }
      ]
    },
    {
      "metadata": {
        "_uuid": "9404e800ee7ca838451d8f420fa23f828fbc06f1",
        "_cell_guid": "be821524-d37d-4128-9d72-105ad898cb48"
      },
      "cell_type": "markdown",
      "source": "**Exercise 1**: It's well-known that in the game of chess, white has a slight first-mover advantage against black. Can you measure this effect in this dataset? Use the `winner` column to create a `pandas` `Series` showing how often white wins, how often black wins, and how often the result is a tie, as a ratio of total games played. In other words, a `Series` that looks something like this:\n\n    white    0.48\n    black    0.44\n    draw     0.08\n    Name: winner, dtype: float64\n    \nHint: use `len` to get the length of the initial `DataFrame`, e.g. the count of all games played."
    },
    {
      "metadata": {
        "_uuid": "e06e76a60dea3fb40799c213167f2dbfde052cc9",
        "_cell_guid": "9a89d5ac-5294-4714-a02f-71aa02cb3b95",
        "trusted": true
      },
      "cell_type": "code",
      "source": "chess_games['winner'].value_counts() / len(chess_games)",
      "execution_count": 55,
      "outputs": [
        {
          "output_type": "execute_result",
          "execution_count": 55,
          "data": {
            "text/plain": "white    0.498604\nblack    0.454033\ndraw     0.047363\nName: winner, dtype: float64"
          },
          "metadata": {}
        }
      ]
    },
    {
      "metadata": {
        "trusted": true,
        "_uuid": "b885e5285a98e55561fa0dc4c67d995d35030aba"
      },
      "cell_type": "code",
      "source": "print(check_q1(chess_games['winner'].value_counts() / len(chess_games)))",
      "execution_count": 56,
      "outputs": [
        {
          "output_type": "stream",
          "text": "True\n",
          "name": "stdout"
        }
      ]
    },
    {
      "metadata": {
        "trusted": true,
        "_uuid": "4841b6ebe167f2f1641bdbdf7b34e7f3f5030a21"
      },
      "cell_type": "code",
      "source": "print(answer_q1())",
      "execution_count": 57,
      "outputs": [
        {
          "output_type": "stream",
          "text": "chess_games['winner'].value_counts() / len(chess_games)\nNone\n",
          "name": "stdout"
        }
      ]
    },
    {
      "metadata": {
        "_uuid": "0afa1a01f6339744f117e40bc564bb8199117fba",
        "_cell_guid": "9e7cc907-78c8-4771-8767-433b26a501fe"
      },
      "cell_type": "markdown",
      "source": "**Exercise 2**: The `opening_name` field of the `chess_games` dataset provides interesting data on what the most commonly used chess openings are.  However, it gives a bit _too_ much detail, including information on the variation used for the most common opening types. For example, rather than giving `Queen's Pawn Game`, the dataset often includes `Queen's Pawn Game: Zukertort Variation`.\n\nThis makes it a bit difficult to use for categorical purposes. Here's a function that can be used to separate out the \"opening archetype\":\n\n ```python\n lambda n: n.split(\":\")[0].split(\"|\")[0].split(\"#\")[0].strip()\n ```\n\nUse this function to parse the `opening_name` field and generate a `pandas` `Series` counting how many times each of the \"opening archetypes\" gets used. Hint: use a map."
    },
    {
      "metadata": {
        "_uuid": "0a87e4d43aacdbc602c45edebd2cbc17828a8215",
        "_cell_guid": "bec47114-46d5-4224-8fe8-a892672e087a",
        "trusted": true
      },
      "cell_type": "code",
      "source": "(chess_games\n    .opening_name\n    .map(lambda n: n.split(\":\")[0].split(\"|\")[0].split(\"#\")[0].strip())\n    .value_counts()\n)",
      "execution_count": 58,
      "outputs": [
        {
          "output_type": "execute_result",
          "execution_count": 58,
          "data": {
            "text/plain": "Sicilian Defense       2632\nFrench Defense         1412\n                       ... \nValencia Opening          1\nPterodactyl Defense       1\nName: opening_name, Length: 143, dtype: int64"
          },
          "metadata": {}
        }
      ]
    },
    {
      "metadata": {
        "trusted": true,
        "_uuid": "771a57081f96c1ec4cc9206f6e2526938d5f2d1f"
      },
      "cell_type": "code",
      "source": "print(check_q2((chess_games\n    .opening_name\n    .map(lambda n: n.split(\":\")[0].split(\"|\")[0].split(\"#\")[0].strip())\n    .value_counts()\n)))",
      "execution_count": 59,
      "outputs": [
        {
          "output_type": "stream",
          "text": "True\n",
          "name": "stdout"
        }
      ]
    },
    {
      "metadata": {
        "trusted": true,
        "_uuid": "7748a5ea8d6ec5c4a419aea9b680cfe7dd4cda5f"
      },
      "cell_type": "code",
      "source": "print(answer_q2())",
      "execution_count": 60,
      "outputs": [
        {
          "output_type": "stream",
          "text": "(chess_games\n    .opening_name\n    .map(lambda n: n.split(\":\")[0].split(\"|\")[0].split(\"#\")[0].strip())\n    .value_counts()\n)\nNone\n",
          "name": "stdout"
        }
      ]
    },
    {
      "metadata": {
        "_uuid": "4c00c11c77310fbbb1d80c7ab0b9c2cec6a85d8c",
        "_cell_guid": "77d52589-e77b-4f2a-8368-b648542d7cfd"
      },
      "cell_type": "markdown",
      "source": "**Exercise 3**: In this dataset various players play variably number of games. Group the games by `{white_id, victory_status}` and count how many times each white player ended the game in `mate` , `draw`, `resign`, etcetera. The name of the column counting how many times each outcome occurred should be `n` (hint: `rename` or `assign` may help)."
    },
    {
      "metadata": {
        "_uuid": "4c1d624a0e13e0084618a0b07eee93a63e547c51",
        "_cell_guid": "5bf66581-b084-4759-95a0-5bcb3eb7add3",
        "trusted": true
      },
      "cell_type": "code",
      "source": "(chess_games\n    .assign(n=0)\n    .groupby(['white_id', 'victory_status'])\n    .n\n    .apply(len)\n    .reset_index()\n)",
      "execution_count": 61,
      "outputs": [
        {
          "output_type": "execute_result",
          "execution_count": 61,
          "data": {
            "text/plain": "                  white_id victory_status  n\n0                  --jim--           mate  1\n1      -l-_jedi_knight_-l-           mate  1\n...                    ...            ... ..\n11487               zzzbbb         resign  1\n11488              zzzimon         resign  1\n\n[11489 rows x 3 columns]",
            "text/html": "<div>\n<style scoped>\n    .dataframe tbody tr th:only-of-type {\n        vertical-align: middle;\n    }\n\n    .dataframe tbody tr th {\n        vertical-align: top;\n    }\n\n    .dataframe thead th {\n        text-align: right;\n    }\n</style>\n<table border=\"1\" class=\"dataframe\">\n  <thead>\n    <tr style=\"text-align: right;\">\n      <th></th>\n      <th>white_id</th>\n      <th>victory_status</th>\n      <th>n</th>\n    </tr>\n  </thead>\n  <tbody>\n    <tr>\n      <th>0</th>\n      <td>--jim--</td>\n      <td>mate</td>\n      <td>1</td>\n    </tr>\n    <tr>\n      <th>1</th>\n      <td>-l-_jedi_knight_-l-</td>\n      <td>mate</td>\n      <td>1</td>\n    </tr>\n    <tr>\n      <th>...</th>\n      <td>...</td>\n      <td>...</td>\n      <td>...</td>\n    </tr>\n    <tr>\n      <th>11487</th>\n      <td>zzzbbb</td>\n      <td>resign</td>\n      <td>1</td>\n    </tr>\n    <tr>\n      <th>11488</th>\n      <td>zzzimon</td>\n      <td>resign</td>\n      <td>1</td>\n    </tr>\n  </tbody>\n</table>\n<p>11489 rows × 3 columns</p>\n</div>"
          },
          "metadata": {}
        }
      ]
    },
    {
      "metadata": {
        "trusted": true,
        "_uuid": "77a4bb83ff10845c7f04eddae00cc10853da7934"
      },
      "cell_type": "code",
      "source": "print(check_q3((chess_games\n    .assign(n=0)\n    .groupby(['white_id', 'victory_status'])\n    .n\n    .apply(len)\n    .reset_index()\n)))",
      "execution_count": 62,
      "outputs": [
        {
          "output_type": "stream",
          "text": "True\n",
          "name": "stdout"
        }
      ]
    },
    {
      "metadata": {
        "trusted": true,
        "_uuid": "9fec15be2a42f242f0ac4dc4ed5c2e200fe1d8ba"
      },
      "cell_type": "code",
      "source": "print(answer_q3())",
      "execution_count": 63,
      "outputs": [
        {
          "output_type": "stream",
          "text": "(chess_games\n    .assign(n=0)\n    .groupby(['white_id', 'victory_status'])\n    .n\n    .apply(len)\n    .reset_index()\n)\nNone\n",
          "name": "stdout"
        }
      ]
    },
    {
      "metadata": {
        "_uuid": "d8270a4063738d6a9cfc1f475e0b5b94e36689a2",
        "_cell_guid": "fbb9dbed-4013-43d2-aa6a-23b4b3553e41"
      },
      "cell_type": "markdown",
      "source": "**Exercise 4**: There are a lot of players in the dataset who have only played one or a small handful of games. Create a `DataFrame` like the one in the previous exercise, but only include users who are in the top 20 users by number of games played. See if you can do this using method chaining alone! Hint: reuse the code from the previous example. Then, use `pipe`."
    },
    {
      "metadata": {
        "_uuid": "94205b5e1b027801f096d329be50202c6c25e48c",
        "_cell_guid": "a1174d88-e96a-4045-880d-9b7cf23a2ebf",
        "trusted": true
      },
      "cell_type": "code",
      "source": "(chess_games\n    .assign(n=0)\n    .groupby(['white_id', 'victory_status'])\n    .n\n    .apply(len)\n    .reset_index()\n    .pipe(lambda df: df.loc[df.white_id.isin(chess_games.white_id.value_counts().head(20).index)]) \n)",
      "execution_count": 64,
      "outputs": [
        {
          "output_type": "execute_result",
          "execution_count": 64,
          "data": {
            "text/plain": "         white_id victory_status   n\n9      1240100948           draw   3\n10     1240100948           mate   7\n...           ...            ...  ..\n10907    vovkakuz      outoftime   4\n10908    vovkakuz         resign  23\n\n[72 rows x 3 columns]",
            "text/html": "<div>\n<style scoped>\n    .dataframe tbody tr th:only-of-type {\n        vertical-align: middle;\n    }\n\n    .dataframe tbody tr th {\n        vertical-align: top;\n    }\n\n    .dataframe thead th {\n        text-align: right;\n    }\n</style>\n<table border=\"1\" class=\"dataframe\">\n  <thead>\n    <tr style=\"text-align: right;\">\n      <th></th>\n      <th>white_id</th>\n      <th>victory_status</th>\n      <th>n</th>\n    </tr>\n  </thead>\n  <tbody>\n    <tr>\n      <th>9</th>\n      <td>1240100948</td>\n      <td>draw</td>\n      <td>3</td>\n    </tr>\n    <tr>\n      <th>10</th>\n      <td>1240100948</td>\n      <td>mate</td>\n      <td>7</td>\n    </tr>\n    <tr>\n      <th>...</th>\n      <td>...</td>\n      <td>...</td>\n      <td>...</td>\n    </tr>\n    <tr>\n      <th>10907</th>\n      <td>vovkakuz</td>\n      <td>outoftime</td>\n      <td>4</td>\n    </tr>\n    <tr>\n      <th>10908</th>\n      <td>vovkakuz</td>\n      <td>resign</td>\n      <td>23</td>\n    </tr>\n  </tbody>\n</table>\n<p>72 rows × 3 columns</p>\n</div>"
          },
          "metadata": {}
        }
      ]
    },
    {
      "metadata": {
        "trusted": true,
        "_uuid": "3537f21bad1d1a10a9d111fb776db6c28685bb20"
      },
      "cell_type": "code",
      "source": "print(check_q4((chess_games\n    .assign(n=0)\n    .groupby(['white_id', 'victory_status'])\n    .n\n    .apply(len)\n    .reset_index()\n    .pipe(lambda df: df.loc[df.white_id.isin(chess_games.white_id.value_counts().head(20).index)]) \n)))",
      "execution_count": 65,
      "outputs": [
        {
          "output_type": "stream",
          "text": "True\n",
          "name": "stdout"
        }
      ]
    },
    {
      "metadata": {
        "trusted": true,
        "_uuid": "96d959579aa873a66b651d8865f1f03e57f6d662"
      },
      "cell_type": "code",
      "source": "print(answer_q4())",
      "execution_count": 66,
      "outputs": [
        {
          "output_type": "stream",
          "text": "(chess_games\n    .assign(n=0)\n    .groupby(['white_id', 'victory_status'])\n    .n\n    .apply(len)\n    .reset_index()\n    .pipe(lambda df: df.loc[df.white_id.isin(chess_games.white_id.value_counts().head(20).index)]) \n)\nNone\n",
          "name": "stdout"
        }
      ]
    },
    {
      "metadata": {
        "_uuid": "c28a91527be0920116c8bf017a766fd28bf3343c",
        "_cell_guid": "bd59912b-744e-4d7b-8f86-e787d7121d46"
      },
      "cell_type": "markdown",
      "source": "Next, let's do some visual exercises.\n\nThe next exercise uses the following dataset:"
    },
    {
      "metadata": {
        "_uuid": "96a82b2ab00aeeb1c69806201713de3ab31c64e2",
        "_cell_guid": "f5ac1f2a-4bc5-4c6a-9e77-9f1836aa9f27",
        "trusted": true
      },
      "cell_type": "code",
      "source": "kepler = pd.read_csv(\"../input/kepler-exoplanet-search-results/cumulative.csv\")\nkepler",
      "execution_count": 67,
      "outputs": [
        {
          "output_type": "execute_result",
          "execution_count": 67,
          "data": {
            "text/plain": "      rowid     kepid kepoi_name    ...             ra        dec koi_kepmag\n0         1  10797460  K00752.01    ...      291.93423  48.141651     15.347\n1         2  10797460  K00752.02    ...      291.93423  48.141651     15.347\n...     ...       ...        ...    ...            ...        ...        ...\n9562   9563  10147276  K07987.01    ...      294.16489  47.176281     15.385\n9563   9564  10156110  K07989.01    ...      297.00977  47.121021     14.826\n\n[9564 rows x 50 columns]",
            "text/html": "<div>\n<style scoped>\n    .dataframe tbody tr th:only-of-type {\n        vertical-align: middle;\n    }\n\n    .dataframe tbody tr th {\n        vertical-align: top;\n    }\n\n    .dataframe thead th {\n        text-align: right;\n    }\n</style>\n<table border=\"1\" class=\"dataframe\">\n  <thead>\n    <tr style=\"text-align: right;\">\n      <th></th>\n      <th>rowid</th>\n      <th>kepid</th>\n      <th>kepoi_name</th>\n      <th>kepler_name</th>\n      <th>koi_disposition</th>\n      <th>koi_pdisposition</th>\n      <th>koi_score</th>\n      <th>koi_fpflag_nt</th>\n      <th>koi_fpflag_ss</th>\n      <th>koi_fpflag_co</th>\n      <th>koi_fpflag_ec</th>\n      <th>koi_period</th>\n      <th>koi_period_err1</th>\n      <th>koi_period_err2</th>\n      <th>koi_time0bk</th>\n      <th>koi_time0bk_err1</th>\n      <th>koi_time0bk_err2</th>\n      <th>koi_impact</th>\n      <th>koi_impact_err1</th>\n      <th>koi_impact_err2</th>\n      <th>koi_duration</th>\n      <th>koi_duration_err1</th>\n      <th>koi_duration_err2</th>\n      <th>koi_depth</th>\n      <th>koi_depth_err1</th>\n      <th>koi_depth_err2</th>\n      <th>koi_prad</th>\n      <th>koi_prad_err1</th>\n      <th>koi_prad_err2</th>\n      <th>koi_teq</th>\n      <th>koi_teq_err1</th>\n      <th>koi_teq_err2</th>\n      <th>koi_insol</th>\n      <th>koi_insol_err1</th>\n      <th>koi_insol_err2</th>\n      <th>koi_model_snr</th>\n      <th>koi_tce_plnt_num</th>\n      <th>koi_tce_delivname</th>\n      <th>koi_steff</th>\n      <th>koi_steff_err1</th>\n      <th>koi_steff_err2</th>\n      <th>koi_slogg</th>\n      <th>koi_slogg_err1</th>\n      <th>koi_slogg_err2</th>\n      <th>koi_srad</th>\n      <th>koi_srad_err1</th>\n      <th>koi_srad_err2</th>\n      <th>ra</th>\n      <th>dec</th>\n      <th>koi_kepmag</th>\n    </tr>\n  </thead>\n  <tbody>\n    <tr>\n      <th>0</th>\n      <td>1</td>\n      <td>10797460</td>\n      <td>K00752.01</td>\n      <td>Kepler-227 b</td>\n      <td>CONFIRMED</td>\n      <td>CANDIDATE</td>\n      <td>1.000</td>\n      <td>0</td>\n      <td>0</td>\n      <td>0</td>\n      <td>0</td>\n      <td>9.488036</td>\n      <td>0.000028</td>\n      <td>-0.000028</td>\n      <td>170.53875</td>\n      <td>0.00216</td>\n      <td>-0.00216</td>\n      <td>0.146</td>\n      <td>0.318</td>\n      <td>-0.146</td>\n      <td>2.9575</td>\n      <td>0.0819</td>\n      <td>-0.0819</td>\n      <td>615.8</td>\n      <td>19.5</td>\n      <td>-19.5</td>\n      <td>2.26</td>\n      <td>0.26</td>\n      <td>-0.15</td>\n      <td>793.0</td>\n      <td>NaN</td>\n      <td>NaN</td>\n      <td>93.59</td>\n      <td>29.45</td>\n      <td>-16.65</td>\n      <td>35.8</td>\n      <td>1.0</td>\n      <td>q1_q17_dr25_tce</td>\n      <td>5455.0</td>\n      <td>81.0</td>\n      <td>-81.0</td>\n      <td>4.467</td>\n      <td>0.064</td>\n      <td>-0.096</td>\n      <td>0.927</td>\n      <td>0.105</td>\n      <td>-0.061</td>\n      <td>291.93423</td>\n      <td>48.141651</td>\n      <td>15.347</td>\n    </tr>\n    <tr>\n      <th>1</th>\n      <td>2</td>\n      <td>10797460</td>\n      <td>K00752.02</td>\n      <td>Kepler-227 c</td>\n      <td>CONFIRMED</td>\n      <td>CANDIDATE</td>\n      <td>0.969</td>\n      <td>0</td>\n      <td>0</td>\n      <td>0</td>\n      <td>0</td>\n      <td>54.418383</td>\n      <td>0.000248</td>\n      <td>-0.000248</td>\n      <td>162.51384</td>\n      <td>0.00352</td>\n      <td>-0.00352</td>\n      <td>0.586</td>\n      <td>0.059</td>\n      <td>-0.443</td>\n      <td>4.5070</td>\n      <td>0.1160</td>\n      <td>-0.1160</td>\n      <td>874.8</td>\n      <td>35.5</td>\n      <td>-35.5</td>\n      <td>2.83</td>\n      <td>0.32</td>\n      <td>-0.19</td>\n      <td>443.0</td>\n      <td>NaN</td>\n      <td>NaN</td>\n      <td>9.11</td>\n      <td>2.87</td>\n      <td>-1.62</td>\n      <td>25.8</td>\n      <td>2.0</td>\n      <td>q1_q17_dr25_tce</td>\n      <td>5455.0</td>\n      <td>81.0</td>\n      <td>-81.0</td>\n      <td>4.467</td>\n      <td>0.064</td>\n      <td>-0.096</td>\n      <td>0.927</td>\n      <td>0.105</td>\n      <td>-0.061</td>\n      <td>291.93423</td>\n      <td>48.141651</td>\n      <td>15.347</td>\n    </tr>\n    <tr>\n      <th>...</th>\n      <td>...</td>\n      <td>...</td>\n      <td>...</td>\n      <td>...</td>\n      <td>...</td>\n      <td>...</td>\n      <td>...</td>\n      <td>...</td>\n      <td>...</td>\n      <td>...</td>\n      <td>...</td>\n      <td>...</td>\n      <td>...</td>\n      <td>...</td>\n      <td>...</td>\n      <td>...</td>\n      <td>...</td>\n      <td>...</td>\n      <td>...</td>\n      <td>...</td>\n      <td>...</td>\n      <td>...</td>\n      <td>...</td>\n      <td>...</td>\n      <td>...</td>\n      <td>...</td>\n      <td>...</td>\n      <td>...</td>\n      <td>...</td>\n      <td>...</td>\n      <td>...</td>\n      <td>...</td>\n      <td>...</td>\n      <td>...</td>\n      <td>...</td>\n      <td>...</td>\n      <td>...</td>\n      <td>...</td>\n      <td>...</td>\n      <td>...</td>\n      <td>...</td>\n      <td>...</td>\n      <td>...</td>\n      <td>...</td>\n      <td>...</td>\n      <td>...</td>\n      <td>...</td>\n      <td>...</td>\n      <td>...</td>\n      <td>...</td>\n    </tr>\n    <tr>\n      <th>9562</th>\n      <td>9563</td>\n      <td>10147276</td>\n      <td>K07987.01</td>\n      <td>NaN</td>\n      <td>FALSE POSITIVE</td>\n      <td>FALSE POSITIVE</td>\n      <td>0.021</td>\n      <td>0</td>\n      <td>0</td>\n      <td>1</td>\n      <td>0</td>\n      <td>0.681402</td>\n      <td>0.000002</td>\n      <td>-0.000002</td>\n      <td>132.18175</td>\n      <td>0.00285</td>\n      <td>-0.00285</td>\n      <td>0.147</td>\n      <td>0.309</td>\n      <td>-0.147</td>\n      <td>0.8650</td>\n      <td>0.1620</td>\n      <td>-0.1620</td>\n      <td>103.6</td>\n      <td>14.7</td>\n      <td>-14.7</td>\n      <td>1.07</td>\n      <td>0.36</td>\n      <td>-0.11</td>\n      <td>2218.0</td>\n      <td>NaN</td>\n      <td>NaN</td>\n      <td>5713.41</td>\n      <td>5675.74</td>\n      <td>-1836.94</td>\n      <td>12.3</td>\n      <td>1.0</td>\n      <td>q1_q17_dr25_tce</td>\n      <td>6173.0</td>\n      <td>193.0</td>\n      <td>-236.0</td>\n      <td>4.447</td>\n      <td>0.056</td>\n      <td>-0.224</td>\n      <td>1.041</td>\n      <td>0.341</td>\n      <td>-0.114</td>\n      <td>294.16489</td>\n      <td>47.176281</td>\n      <td>15.385</td>\n    </tr>\n    <tr>\n      <th>9563</th>\n      <td>9564</td>\n      <td>10156110</td>\n      <td>K07989.01</td>\n      <td>NaN</td>\n      <td>FALSE POSITIVE</td>\n      <td>FALSE POSITIVE</td>\n      <td>0.000</td>\n      <td>0</td>\n      <td>0</td>\n      <td>1</td>\n      <td>1</td>\n      <td>4.856035</td>\n      <td>0.000064</td>\n      <td>-0.000064</td>\n      <td>135.99330</td>\n      <td>0.01080</td>\n      <td>-0.01080</td>\n      <td>0.134</td>\n      <td>0.323</td>\n      <td>-0.134</td>\n      <td>3.0780</td>\n      <td>0.2830</td>\n      <td>-0.2830</td>\n      <td>76.7</td>\n      <td>10.8</td>\n      <td>-10.8</td>\n      <td>1.05</td>\n      <td>0.36</td>\n      <td>-0.12</td>\n      <td>1266.0</td>\n      <td>NaN</td>\n      <td>NaN</td>\n      <td>607.42</td>\n      <td>600.39</td>\n      <td>-194.33</td>\n      <td>8.2</td>\n      <td>1.0</td>\n      <td>q1_q17_dr25_tce</td>\n      <td>6469.0</td>\n      <td>158.0</td>\n      <td>-225.0</td>\n      <td>4.385</td>\n      <td>0.054</td>\n      <td>-0.216</td>\n      <td>1.193</td>\n      <td>0.410</td>\n      <td>-0.137</td>\n      <td>297.00977</td>\n      <td>47.121021</td>\n      <td>14.826</td>\n    </tr>\n  </tbody>\n</table>\n<p>9564 rows × 50 columns</p>\n</div>"
          },
          "metadata": {}
        }
      ]
    },
    {
      "metadata": {
        "_uuid": "4e97a338fe718b61703699a4f6b8e81c238f63b6",
        "_cell_guid": "ed30c948-bf7d-4014-b46e-e6764b32887c"
      },
      "cell_type": "markdown",
      "source": "**Exercise 5**: The Kepler space observatory is in the business of finding potential exoplanets (planets orbiting stars other suns) and, after collecting the evidence, generating whether or not to confirm, decline to confirm, or deny that a given space body is, in fact, an exoplanet. In the dataset above, the \"before\" status of the body is `koi_pdisposition`, and the \"after\" status is `koi_disposition`. \n\nUsing the dataset above, generate a `Series` counting all of the possible transitions between pre-disposition and post-disposition. In other words, generate a `Series` whose index is a `MultiIndex` based on the `{koi_pdisposition, koi_disposition}` fields, and whose values is a count of how many times each possible combination occurred."
    },
    {
      "metadata": {
        "trusted": true,
        "_uuid": "b2243b0be50d69438e5a1087cbe46d27906e2332"
      },
      "cell_type": "code",
      "source": "kepler.assign(n=0).groupby(['koi_pdisposition', 'koi_disposition']).n.count()",
      "execution_count": 68,
      "outputs": [
        {
          "output_type": "execute_result",
          "execution_count": 68,
          "data": {
            "text/plain": "koi_pdisposition  koi_disposition\nCANDIDATE         CANDIDATE          2248\n                  CONFIRMED          2248\nFALSE POSITIVE    CONFIRMED            45\n                  FALSE POSITIVE     5023\nName: n, dtype: int64"
          },
          "metadata": {}
        }
      ]
    },
    {
      "metadata": {
        "_uuid": "04f4696abbce980b6c265715ce6af24c055f837a",
        "_cell_guid": "c7f220fc-638f-49e8-bd4d-52e14e451ce7",
        "trusted": true
      },
      "cell_type": "code",
      "source": "print(check_q5(kepler.assign(n=0).groupby(['koi_pdisposition', 'koi_disposition']).n.count()))",
      "execution_count": 69,
      "outputs": [
        {
          "output_type": "stream",
          "text": "AxesSubplot(0.125,0.125;0.775x0.755)\n",
          "name": "stdout"
        },
        {
          "output_type": "display_data",
          "data": {
            "text/plain": "<Figure size 432x288 with 1 Axes>",
            "image/png": "[encoded data removed]"
          },
          "metadata": {
            "needs_background": "light"
          }
        }
      ]
    },
    {
      "metadata": {
        "trusted": true,
        "_uuid": "9fbd2a1756170a14c861cb12acb358169313ab9a"
      },
      "cell_type": "code",
      "source": "print(answer_q5())",
      "execution_count": 70,
      "outputs": [
        {
          "output_type": "stream",
          "text": "kepler.assign(n=0).groupby(['koi_pdisposition', 'koi_disposition']).n.count()\nNone\n",
          "name": "stdout"
        }
      ]
    },
    {
      "metadata": {
        "collapsed": true,
        "_uuid": "ceececcbd0f41b807d173ced0672320933cfa99c",
        "_cell_guid": "7225ca0a-2fa8-4bd2-b286-2731bdac0982"
      },
      "cell_type": "markdown",
      "source": "The next few exercises use the following datasets:"
    },
    {
      "metadata": {
        "_uuid": "c776c108c02cce4fd1152b6330ccdac899ce8b55",
        "_cell_guid": "fda2b4e8-08e2-44b0-abc9-2160e63e64bc",
        "trusted": true
      },
      "cell_type": "code",
      "source": "wine_reviews = pd.read_csv(\"../input/wine-reviews/winemag-data-130k-v2.csv\", index_col=0)\nramen_reviews = pd.read_csv(\"../input/ramen-ratings/ramen-ratings.csv\", index_col=0)\nprint(wine_reviews.head())\nprint(ramen_reviews.head())",
      "execution_count": 71,
      "outputs": [
        {
          "output_type": "stream",
          "text": "    country         ...                        winery\n0     Italy         ...                       Nicosia\n1  Portugal         ...           Quinta dos Avidagos\n2        US         ...                     Rainstorm\n3        US         ...                    St. Julian\n4        US         ...                  Sweet Cheeks\n\n[5 rows x 13 columns]\n                   Brand   ...   Top Ten\nReview #                   ...          \n2580           New Touch   ...       NaN\n2579            Just Way   ...       NaN\n2578              Nissin   ...       NaN\n2577             Wei Lih   ...       NaN\n2576      Ching's Secret   ...       NaN\n\n[5 rows x 6 columns]\n",
          "name": "stdout"
        }
      ]
    },
    {
      "metadata": {
        "_uuid": "a26f10615034d4bd565f56764bf7a62b4ff0544e",
        "_cell_guid": "c8eae2c9-5dad-4969-8250-8738f763a909"
      },
      "cell_type": "markdown",
      "source": "**Exercise 6**: As we demonstrated in previous workbooks, the `points` column in the `wine_reviews` dataset is measured on a 20-point scale between 80 and 100. Create a `Series` which normalizes the ratings so that they fit on a 1-to-5 scale instead (e.g. a score of 80 translates to 1 star, while a score of 100 is five stars). Set the `Series` name to \"Wine Ratings\", and sort by index value (ascending)."
    },
    {
      "metadata": {
        "_uuid": "b694074c3711bf9be8eafa45a0d48b3478afe257",
        "_cell_guid": "54717874-8186-4b2b-bd5e-2f2883d1ab8e",
        "trusted": true
      },
      "cell_type": "code",
      "source": "(((wine_reviews['points'].dropna() - 80) / 4)\n    .value_counts()\n    .sort_index()\n    .rename_axis(\"Wine Ratings\")\n)",
      "execution_count": 72,
      "outputs": [
        {
          "output_type": "execute_result",
          "execution_count": 72,
          "data": {
            "text/plain": "Wine Ratings\n0.00    397\n0.25    692\n       ... \n4.75     33\n5.00     19\nName: points, Length: 21, dtype: int64"
          },
          "metadata": {}
        }
      ]
    },
    {
      "metadata": {
        "trusted": true,
        "_uuid": "c92c898dbf8f3ee1459c82e3c77842c1813d06ac"
      },
      "cell_type": "code",
      "source": "print(check_q6((((wine_reviews['points'].dropna() - 80) / 4)\n    .value_counts()\n    .sort_index()\n    .rename_axis(\"Wine Ratings\")\n)))",
      "execution_count": 73,
      "outputs": [
        {
          "output_type": "stream",
          "text": "AxesSubplot(0.125,0.125;0.775x0.755)\n",
          "name": "stdout"
        },
        {
          "output_type": "display_data",
          "data": {
            "text/plain": "<Figure size 432x288 with 1 Axes>",
            "image/png": "[encoded data removed]"
          },
          "metadata": {
            "needs_background": "light"
          }
        }
      ]
    },
    {
      "metadata": {
        "trusted": true,
        "_uuid": "79cd74e06dd5c7b5916ea8b42be8721ea89cba96"
      },
      "cell_type": "code",
      "source": "print(answer_q6())",
      "execution_count": 74,
      "outputs": [
        {
          "output_type": "stream",
          "text": "(((wine_reviews['points'].dropna() - 80) / 4)\n    .value_counts()\n    .sort_index()\n    .rename_axis(\"Wine Ratings\")\n)\nNone\n",
          "name": "stdout"
        }
      ]
    },
    {
      "metadata": {
        "_uuid": "b1d5ffc806de05d79260977923dba80468db7c79",
        "_cell_guid": "0e73353b-5091-43c3-83db-50e8b9e42759"
      },
      "cell_type": "markdown",
      "source": "**Exercise 7**: The `Stars` column in the `ramen_reviews` dataset is the ramen equivalent to the similar data points in `wine_reviews`. Luckily it is already on a 0-to-5 scale, but it has some different problems...create a `Series` counting how many ramens earned each of the possible scores in the dataset. Convert the `Series` to the `float64` dtype and drop rames whose rating is `\"Unrated\"`. Set the name of the `Series` to \"Ramen Ratings\". Sort by index value (ascending)."
    },
    {
      "metadata": {
        "_uuid": "85c2e6a18fcaabadaaa89ee3cb634db5e5e1a2e3",
        "_cell_guid": "1c591a14-c68c-42de-bcd8-04c2317571b2",
        "trusted": true
      },
      "cell_type": "code",
      "source": "(ramen_reviews\n    .Stars\n    .replace('Unrated', None)\n    .dropna()\n    .astype('float64')\n    .value_counts()\n    .rename_axis(\"Ramen Reviews\")\n    .sort_index())",
      "execution_count": 75,
      "outputs": [
        {
          "output_type": "execute_result",
          "execution_count": 75,
          "data": {
            "text/plain": "Ramen Reviews\n0.00     26\n0.10      1\n       ... \n4.75     64\n5.00    386\nName: Stars, Length: 42, dtype: int64"
          },
          "metadata": {}
        }
      ]
    },
    {
      "metadata": {
        "trusted": true,
        "_uuid": "38b55f49de6defb6364d9d60ea4d750543414017"
      },
      "cell_type": "code",
      "source": "print(check_q7((ramen_reviews\n    .Stars\n    .replace('Unrated', None)\n    .dropna()\n    .astype('float64')\n    .value_counts()\n    .rename_axis(\"Ramen Reviews\")\n    .sort_index())))",
      "execution_count": 76,
      "outputs": [
        {
          "output_type": "stream",
          "text": "AxesSubplot(0.125,0.125;0.775x0.755)\n",
          "name": "stdout"
        },
        {
          "output_type": "display_data",
          "data": {
            "text/plain": "<Figure size 432x288 with 1 Axes>",
            "image/png": "[encoded data removed]"
          },
          "metadata": {
            "needs_background": "light"
          }
        }
      ]
    },
    {
      "metadata": {
        "trusted": true,
        "_uuid": "aca4470de2ebf5ff8c0415bc85a5bbedca9911fa"
      },
      "cell_type": "code",
      "source": "print(answer_q7())",
      "execution_count": 77,
      "outputs": [
        {
          "output_type": "stream",
          "text": "(ramen_reviews\n    .Stars\n    .replace('Unrated', None)\n    .dropna()\n    .astype('float64')\n    .value_counts()\n    .rename_axis(\"Ramen Reviews\")\n    .sort_index())\nNone\n",
          "name": "stdout"
        }
      ]
    },
    {
      "metadata": {
        "collapsed": true,
        "_uuid": "a80054f5a7bfa75c7bfbeacc65a480837291ab1d",
        "_cell_guid": "0cba2cab-5315-4a3c-b1f4-8f07da6901a4"
      },
      "cell_type": "markdown",
      "source": "**Exercise 8:**: We can see from the result of the previous exercise that whilst the wine reviewers stick to a strict 20-point scale, ramen reviews occassionally deviate into fractional numbers. Modify your answer to the previous exercise by rounding review scores to the nearest half-point (so 0, 0.5, 1, 1.5, 2, 2.5, 3, 3.5, 4, 4.5, or 5)."
    },
    {
      "metadata": {
        "_uuid": "b27106dfbd02957b9257e4d11066e8ac16701c87",
        "_cell_guid": "f9e20b2c-4e22-44bf-9693-5ad7de555b9f",
        "trusted": true
      },
      "cell_type": "code",
      "source": "(ramen_reviews\n     .Stars\n     .replace('Unrated', None)\n     .dropna()\n     .astype('float64')\n     .map(lambda v: round(v * 2) / 2)\n     .value_counts()\n     .rename_axis(\"Ramen Reviews\")\n     .sort_index()\n)",
      "execution_count": 78,
      "outputs": [
        {
          "output_type": "execute_result",
          "execution_count": 78,
          "data": {
            "text/plain": "Ramen Reviews\n0.0     38\n0.5     14\n      ... \n4.5    140\n5.0    450\nName: Stars, Length: 11, dtype: int64"
          },
          "metadata": {}
        }
      ]
    },
    {
      "metadata": {
        "trusted": true,
        "scrolled": true,
        "_uuid": "3326002aebd233f97e2a1fe301f10ff3e65015aa"
      },
      "cell_type": "code",
      "source": "print(check_q8((ramen_reviews\n     .Stars\n     .replace('Unrated', None)\n     .dropna()\n     .astype('float64')\n     .map(lambda v: round(v * 2) / 2)\n     .value_counts()\n     .rename_axis(\"Ramen Reviews\")\n     .sort_index()\n)))",
      "execution_count": 79,
      "outputs": [
        {
          "output_type": "stream",
          "text": "AxesSubplot(0.125,0.125;0.775x0.755)\n",
          "name": "stdout"
        },
        {
          "output_type": "display_data",
          "data": {
            "text/plain": "<Figure size 432x288 with 1 Axes>",
            "image/png": "[encoded data removed]"
          },
          "metadata": {
            "needs_background": "light"
          }
        }
      ]
    },
    {
      "metadata": {
        "trusted": true,
        "_uuid": "8bd6d1e49faab43e9550ea71f7cba2caaeda870f"
      },
      "cell_type": "code",
      "source": "print(answer_q8())",
      "execution_count": 80,
      "outputs": [
        {
          "output_type": "stream",
          "text": "(ramen_reviews\n     .Stars\n     .replace('Unrated', None)\n     .dropna()\n     .astype('float64')\n     .map(lambda v: round(v * 2) / 2)\n     .value_counts()\n     .rename_axis(\"Ramen Reviews\")\n     .sort_index()\n)\nNone\n",
          "name": "stdout"
        }
      ]
    },
    {
      "metadata": {
        "_uuid": "b625a31d8580c32b17db77ef838c6dbe9de5eb23",
        "_cell_guid": "a82d9542-13c4-42b7-a71d-d02682947216"
      },
      "cell_type": "markdown",
      "source": "# Congratulations\n\nYou've finished the Pandas track.  Many data scientist feel efficiency with Pandas is the most useful and practical skill they have, because it allows you to progress quickly in any project you have.\n\nYou can take advantage of your Pandas skills by entering a [Kaggle Competition](https://www.kaggle.com/competitions) or answering a question you find interesting using [Kaggle Datasets](https://www.kaggle.com/datasets)."
    }
  ],
  "metadata": {
    "language_info": {
      "name": "python",
      "version": "3.6.6",
      "mimetype": "text/x-python",
      "codemirror_mode": {
        "name": "ipython",
        "version": 3
      },
      "pygments_lexer": "ipython3",
      "nbconvert_exporter": "python",
      "file_extension": ".py"
    },
    "kernelspec": {
      "display_name": "Python 3",
      "language": "python",
      "name": "python3"
    }
  },
  "nbformat": 4,
  "nbformat_minor": 1
}