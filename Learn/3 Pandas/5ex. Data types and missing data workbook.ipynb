{
  "cells": [
    {
      "metadata": {
        "_cell_guid": "7cca0db1-ca74-47d1-b111-8af30b9a2c7b",
        "_uuid": "289d1910a57950801bde143195a7e937e8d24f97",
        "collapsed": true
      },
      "cell_type": "markdown",
      "source": "# Data types and missing data workbook\n\n## Introduction\n\nThis is the workbook component of the \"Data types and missing data\" section of the tutorial.\n\n# Relevant Resources\n- [Data Types and Missing Data Reference](https://www.kaggle.com/residentmario/data-types-and-missing-data-reference)\n- [Intro to Data Structures](https://pandas.pydata.org/pandas-docs/stable/dsintro.html) - http://archive.is/DP18t\n- [Working with missing data](https://pandas.pydata.org/pandas-docs/stable/missing_data.html) - http://archive.is/QEHk9\n\n# Set Up\n\nRun the following cell to load your data and some utility functions"
    },
    {
      "metadata": {
        "_cell_guid": "4dfdbb83-a16a-4ad3-ad8d-3bdd8074eb8b",
        "_uuid": "e5e93394edacb7f659c779a188f0a67fa6a63698",
        "trusted": true
      },
      "cell_type": "code",
      "source": "import pandas as pd\nimport seaborn as sns\nfrom learntools.advanced_pandas.data_types_missing_data import *\n\nreviews = pd.read_csv(\"../input/wine-reviews/winemag-data-130k-v2.csv\", index_col=0)\npd.set_option('max_rows', 5)",
      "execution_count": 19,
      "outputs": []
    },
    {
      "metadata": {
        "_cell_guid": "c1c0c73d-a98a-43ee-9574-fc2cbe21c10b",
        "_uuid": "cc188a91c361db215008684a4b5613b5be2eb75e"
      },
      "cell_type": "markdown",
      "source": "# Checking Answers\n\n**Check your answers in each exercise using the  `check_qN` function** (replacing `N` with the number of the exercise). For example here's how you would check an incorrect answer to exercise 1:"
    },
    {
      "metadata": {
        "_cell_guid": "005e1813-7239-4639-8c98-647cdd510284",
        "_uuid": "fc7dafb535e9041971967163e861157c1413d5c5",
        "trusted": true
      },
      "cell_type": "code",
      "source": "check_q1(pd.DataFrame())",
      "execution_count": 20,
      "outputs": [
        {
          "output_type": "execute_result",
          "execution_count": 20,
          "data": {
            "text/plain": "False"
          },
          "metadata": {}
        }
      ]
    },
    {
      "metadata": {
        "_cell_guid": "c97444e5-dd02-4761-86ec-03bb83297c45",
        "_uuid": "f466a6df2ed46421685268f0f161146f9c57c4dd"
      },
      "cell_type": "markdown",
      "source": "If you get stuck, **use the `answer_qN` function to see the code with the correct answer.**\n\nFor the first set of questions, running the `check_qN` on the correct answer returns `True`.\n\nFor the second set of questions, using this function to check a correct answer will present an informative graph!"
    },
    {
      "metadata": {
        "trusted": true,
        "_uuid": "7811ad4c9263098bc0046bd343eba178e27606cc"
      },
      "cell_type": "code",
      "source": "reviews.head()",
      "execution_count": 21,
      "outputs": [
        {
          "output_type": "execute_result",
          "execution_count": 21,
          "data": {
            "text/plain": "    country         ...                        winery\n0     Italy         ...                       Nicosia\n1  Portugal         ...           Quinta dos Avidagos\n2        US         ...                     Rainstorm\n3        US         ...                    St. Julian\n4        US         ...                  Sweet Cheeks\n\n[5 rows x 13 columns]",
            "text/html": "<div>\n<style scoped>\n    .dataframe tbody tr th:only-of-type {\n        vertical-align: middle;\n    }\n\n    .dataframe tbody tr th {\n        vertical-align: top;\n    }\n\n    .dataframe thead th {\n        text-align: right;\n    }\n</style>\n<table border=\"1\" class=\"dataframe\">\n  <thead>\n    <tr style=\"text-align: right;\">\n      <th></th>\n      <th>country</th>\n      <th>description</th>\n      <th>designation</th>\n      <th>points</th>\n      <th>price</th>\n      <th>province</th>\n      <th>region_1</th>\n      <th>region_2</th>\n      <th>taster_name</th>\n      <th>taster_twitter_handle</th>\n      <th>title</th>\n      <th>variety</th>\n      <th>winery</th>\n    </tr>\n  </thead>\n  <tbody>\n    <tr>\n      <th>0</th>\n      <td>Italy</td>\n      <td>Aromas include tropical fruit, broom, brimston...</td>\n      <td>Vulkà Bianco</td>\n      <td>87</td>\n      <td>NaN</td>\n      <td>Sicily &amp; Sardinia</td>\n      <td>Etna</td>\n      <td>NaN</td>\n      <td>Kerin O’Keefe</td>\n      <td>@kerinokeefe</td>\n      <td>Nicosia 2013 Vulkà Bianco  (Etna)</td>\n      <td>White Blend</td>\n      <td>Nicosia</td>\n    </tr>\n    <tr>\n      <th>1</th>\n      <td>Portugal</td>\n      <td>This is ripe and fruity, a wine that is smooth...</td>\n      <td>Avidagos</td>\n      <td>87</td>\n      <td>15.0</td>\n      <td>Douro</td>\n      <td>NaN</td>\n      <td>NaN</td>\n      <td>Roger Voss</td>\n      <td>@vossroger</td>\n      <td>Quinta dos Avidagos 2011 Avidagos Red (Douro)</td>\n      <td>Portuguese Red</td>\n      <td>Quinta dos Avidagos</td>\n    </tr>\n    <tr>\n      <th>2</th>\n      <td>US</td>\n      <td>Tart and snappy, the flavors of lime flesh and...</td>\n      <td>NaN</td>\n      <td>87</td>\n      <td>14.0</td>\n      <td>Oregon</td>\n      <td>Willamette Valley</td>\n      <td>Willamette Valley</td>\n      <td>Paul Gregutt</td>\n      <td>@paulgwine</td>\n      <td>Rainstorm 2013 Pinot Gris (Willamette Valley)</td>\n      <td>Pinot Gris</td>\n      <td>Rainstorm</td>\n    </tr>\n    <tr>\n      <th>3</th>\n      <td>US</td>\n      <td>Pineapple rind, lemon pith and orange blossom ...</td>\n      <td>Reserve Late Harvest</td>\n      <td>87</td>\n      <td>13.0</td>\n      <td>Michigan</td>\n      <td>Lake Michigan Shore</td>\n      <td>NaN</td>\n      <td>Alexander Peartree</td>\n      <td>NaN</td>\n      <td>St. Julian 2013 Reserve Late Harvest Riesling ...</td>\n      <td>Riesling</td>\n      <td>St. Julian</td>\n    </tr>\n    <tr>\n      <th>4</th>\n      <td>US</td>\n      <td>Much like the regular bottling from 2012, this...</td>\n      <td>Vintner's Reserve Wild Child Block</td>\n      <td>87</td>\n      <td>65.0</td>\n      <td>Oregon</td>\n      <td>Willamette Valley</td>\n      <td>Willamette Valley</td>\n      <td>Paul Gregutt</td>\n      <td>@paulgwine</td>\n      <td>Sweet Cheeks 2012 Vintner's Reserve Wild Child...</td>\n      <td>Pinot Noir</td>\n      <td>Sweet Cheeks</td>\n    </tr>\n  </tbody>\n</table>\n</div>"
          },
          "metadata": {}
        }
      ]
    },
    {
      "metadata": {
        "_cell_guid": "af123726-607f-4344-912d-0602a54b2483",
        "_uuid": "f5d9c7ec505fcdfe2631231a65a7e70ecb346858"
      },
      "cell_type": "markdown",
      "source": "# Exercises"
    },
    {
      "metadata": {
        "_cell_guid": "cfeb1cd2-1eb3-4e97-a159-33ed0e55796d",
        "_uuid": "866e792da2ba35ed10ad4ebf7df6b8e70ff0f174"
      },
      "cell_type": "markdown",
      "source": "**Exercise 1**: What is the data type of the `points` column in the dataset?"
    },
    {
      "metadata": {
        "_cell_guid": "5ef1aa29-3b6c-4c98-95b1-f8f5beff80df",
        "_uuid": "a86159e79b1723be259de83d46805177d88aa290",
        "trusted": true
      },
      "cell_type": "code",
      "source": "reviews.points.dtype",
      "execution_count": 22,
      "outputs": [
        {
          "output_type": "execute_result",
          "execution_count": 22,
          "data": {
            "text/plain": "dtype('int64')"
          },
          "metadata": {}
        }
      ]
    },
    {
      "metadata": {
        "trusted": true,
        "_uuid": "98648e113385fa0bbddd9360fb5e2343a22903b9"
      },
      "cell_type": "code",
      "source": "print(check_q1(reviews.points.dtype))\nprint('-------')\nprint(answer_q1())",
      "execution_count": 23,
      "outputs": [
        {
          "output_type": "stream",
          "text": "True\n-------\nreviews.points.dtype\nNone\n",
          "name": "stdout"
        }
      ]
    },
    {
      "metadata": {
        "_cell_guid": "f29b7905-b694-4304-982a-6ae614b4db0f",
        "_uuid": "ac053dbdbfc9a3727955e891eab55fe5778811fd"
      },
      "cell_type": "markdown",
      "source": "**Exercise 2**: Create a `Series` from entries in the `price` column, but convert the entries to strings. Hint: strings are `str` in native Python."
    },
    {
      "metadata": {
        "_cell_guid": "8fd55c35-2654-486e-8fa3-87857e3070dd",
        "_uuid": "137fef2ea29471c0cdbcaf18fa718f5e781f9e23",
        "trusted": true
      },
      "cell_type": "code",
      "source": "reviews.price.astype('str')",
      "execution_count": 24,
      "outputs": [
        {
          "output_type": "execute_result",
          "execution_count": 24,
          "data": {
            "text/plain": "0          nan\n1         15.0\n          ... \n129969    32.0\n129970    21.0\nName: price, Length: 129971, dtype: object"
          },
          "metadata": {}
        }
      ]
    },
    {
      "metadata": {
        "trusted": true,
        "_uuid": "0b0882e18a038fb33eb9adfad17d483b26a7e2c4"
      },
      "cell_type": "code",
      "source": "print(check_q2(reviews.price.astype('str')))\nprint('-------')\nprint(answer_q2())",
      "execution_count": 25,
      "outputs": [
        {
          "output_type": "stream",
          "text": "True\n-------\nreviews.price.astype(str)\nNone\n",
          "name": "stdout"
        }
      ]
    },
    {
      "metadata": {
        "_cell_guid": "9bd9a7fe-22a8-4ebf-86f4-bfaefdccc207",
        "_uuid": "e019e377bb4aa3933641a0ce27cdead35cac07dc"
      },
      "cell_type": "markdown",
      "source": "Here are a few visual exercises on missing data.\n\n**Exercise 3**: Some wines do not list a price. How often does this occur? Generate a `Series`that, for each review in the dataset, states whether the wine reviewed has a null `price`."
    },
    {
      "metadata": {
        "_cell_guid": "683a0721-08dd-48c9-ad98-2ef711353fed",
        "_uuid": "c8eb98ff4b269d7f80001df982af1842b484c272",
        "trusted": true
      },
      "cell_type": "code",
      "source": "reviews.price.isnull()",
      "execution_count": 26,
      "outputs": [
        {
          "output_type": "execute_result",
          "execution_count": 26,
          "data": {
            "text/plain": "0          True\n1         False\n          ...  \n129969    False\n129970    False\nName: price, Length: 129971, dtype: bool"
          },
          "metadata": {}
        }
      ]
    },
    {
      "metadata": {
        "trusted": true,
        "_uuid": "b97904345e70bb044d0b46a45266ff1cacbec311"
      },
      "cell_type": "code",
      "source": "print(check_q3(reviews.price.isnull()))\nprint('-------')\nprint(answer_q3())",
      "execution_count": 27,
      "outputs": [
        {
          "output_type": "stream",
          "text": "AxesSubplot(0.125,0.125;0.775x0.755)\n-------\nreviews.price.isnull()\nNone\n",
          "name": "stdout"
        },
        {
          "output_type": "display_data",
          "data": {
            "text/plain": "<Figure size 432x288 with 1 Axes>",
            "image/png": "[encoded data removed]"
          },
          "metadata": {
            "needs_background": "light"
          }
        }
      ]
    },
    {
      "metadata": {
        "_cell_guid": "ca0e4317-1db0-4b1a-8c62-6ab89ba2549f",
        "_uuid": "2814d97e0aa5b5167f1b023f75f3705afbfa933f"
      },
      "cell_type": "markdown",
      "source": "**Exercise 4**: What are the most common wine-producing regions? Create a `Series` counting the number of times each value occurs in the `region_1` field. This field is often missing data, so replace missing values with `Unknown`. Sort in descending order.  Your output should look something like this:\n\n```\nUnknown                    21247\nNapa Valley                 4480\n                           ...  \nBardolino Superiore            1\nPrimitivo del Tarantino        1\nName: region_1, Length: 1230, dtype: int64\n```"
    },
    {
      "metadata": {
        "_cell_guid": "51499784-a100-4990-8033-f837146c577b",
        "_uuid": "00876754dfa4d9a5a992ea4c9135d3b9ffab7152",
        "trusted": true
      },
      "cell_type": "code",
      "source": "reviews.region_1.fillna(\"Unknown\").value_counts()",
      "execution_count": 28,
      "outputs": [
        {
          "output_type": "execute_result",
          "execution_count": 28,
          "data": {
            "text/plain": "Unknown                  21247\nNapa Valley               4480\n                         ...  \nAustralia-New Zealand        1\nTexoma                       1\nName: region_1, Length: 1230, dtype: int64"
          },
          "metadata": {}
        }
      ]
    },
    {
      "metadata": {
        "trusted": true,
        "_uuid": "dc12c521e8df570244d54b645d4e6d9babeb48f2"
      },
      "cell_type": "code",
      "source": "print(check_q4(reviews.region_1.fillna(\"Unknown\").value_counts()))\nprint('-------')\nprint(answer_q4())",
      "execution_count": 29,
      "outputs": [
        {
          "output_type": "stream",
          "text": "AxesSubplot(0.125,0.125;0.775x0.755)\n-------\nreviews.region_1.fillna(\"Unknown\").value_counts()\nNone\n",
          "name": "stdout"
        },
        {
          "output_type": "display_data",
          "data": {
            "text/plain": "<Figure size 432x288 with 1 Axes>",
            "image/png": "[encoded data removed]"
          },
          "metadata": {
            "needs_background": "light"
          }
        }
      ]
    },
    {
      "metadata": {
        "_cell_guid": "2eca8be4-d277-4c27-b488-3b0809ed7ea4",
        "_uuid": "5810dc50846cfdfc98108f8a32f7e1a94f5599a5"
      },
      "cell_type": "markdown",
      "source": "**Exercise 5**: A neat property of boolean data types, like the ones created by the `isnull()` method, is that `False` gets treated as 0 and `True` as 1 when performing math on the values. Thus, the `sum()` of a list of boolean values will return how many times `True` appears in that list.\nCreate a `pandas` `Series` showing how many times each of the columns in the dataset contains null values. Your result should look something like this:\n\n```\ncountry        63\ndescription     0\n               ..\nvariety         1\nwinery          0\nLength: 13, dtype: int64\n```\n\nHint: write a map that will extract the vintage of each wine in the dataset. The vintages reviewed range from 2000 to 2017, no earlier or later. Use `fillna` to impute the missing values."
    },
    {
      "metadata": {
        "_cell_guid": "9ec8f6f7-78e2-46ca-8f19-daf3e9c37f1a",
        "_uuid": "6e715428e768fb77db3dcf28650639962562bf70",
        "trusted": true
      },
      "cell_type": "code",
      "source": "reviews.isnull().sum()",
      "execution_count": 30,
      "outputs": [
        {
          "output_type": "execute_result",
          "execution_count": 30,
          "data": {
            "text/plain": "country        63\ndescription     0\n               ..\nvariety         1\nwinery          0\nLength: 13, dtype: int64"
          },
          "metadata": {}
        }
      ]
    },
    {
      "metadata": {
        "trusted": true,
        "_uuid": "64663c55eb55496595463d935d53712bf20051dc"
      },
      "cell_type": "code",
      "source": "print(check_q5(reviews.isnull().sum()))\nprint('-------')\nprint(answer_q5())",
      "execution_count": 31,
      "outputs": [
        {
          "output_type": "stream",
          "text": "AxesSubplot(0.125,0.125;0.775x0.755)\n-------\nreviews.isnull().sum()\nNone\n",
          "name": "stdout"
        },
        {
          "output_type": "display_data",
          "data": {
            "text/plain": "<Figure size 432x288 with 1 Axes>",
            "image/png": "[encoded data removed]"
          },
          "metadata": {
            "needs_background": "light"
          }
        }
      ]
    },
    {
      "metadata": {
        "_cell_guid": "5b324634-6ad9-4964-b016-adc572cb1bc8",
        "_uuid": "ed76a59f607e65f2a5093618265cfed5385d4a31"
      },
      "cell_type": "markdown",
      "source": "# Keep going\nMove on to the [**Renaming and combining workbook**](https://www.kaggle.com/kernels/fork/598826)"
    }
  ],
  "metadata": {
    "language_info": {
      "name": "python",
      "version": "3.6.6",
      "mimetype": "text/x-python",
      "codemirror_mode": {
        "name": "ipython",
        "version": 3
      },
      "pygments_lexer": "ipython3",
      "nbconvert_exporter": "python",
      "file_extension": ".py"
    },
    "kernelspec": {
      "display_name": "Python 3",
      "language": "python",
      "name": "python3"
    }
  },
  "nbformat": 4,
  "nbformat_minor": 1
}