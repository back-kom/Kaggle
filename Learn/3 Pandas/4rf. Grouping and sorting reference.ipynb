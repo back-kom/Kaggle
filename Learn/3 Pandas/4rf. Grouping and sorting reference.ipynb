{
  "cells": [
    {
      "metadata": {
        "_uuid": "21cbcc979229c256eb88f7068efd5b59d46cfb98",
        "_cell_guid": "4fb6ea17-3a9d-4d71-aa4b-dfb8aa9dd10d"
      },
      "cell_type": "markdown",
      "source": "# Grouping and sorting reference\n\nThis is the reference component to the \"Reshaping and aggregation\" section of the Advanced Pandas track. For the workbook component, click [here](https://www.kaggle.com/residentmario/grouping-and-sorting-workbook)."
    },
    {
      "metadata": {
        "_uuid": "a72ca4ed7fa04f01d3d8dcc90fa6745469a5630b",
        "_cell_guid": "d592b058-a265-4f0d-8518-f09f54e0575a",
        "trusted": true
      },
      "cell_type": "code",
      "source": "import pandas as pd\nreviews = pd.read_csv(\"../input/winemag-data-130k-v2.csv\", index_col=0)\npd.set_option(\"display.max_rows\", 5)",
      "execution_count": 1,
      "outputs": []
    },
    {
      "metadata": {
        "_cell_guid": "f6c14467-8be0-4bec-94eb-abaf661b10c3",
        "_uuid": "3637d150bb87f3312a593f2a1892ff456869a10f"
      },
      "cell_type": "markdown",
      "source": "Grouping is so important that it has its own section in the comprehensive official `pandas` documetation: [Groupby: split-apply-combine](https://pandas.pydata.org/pandas-docs/stable/groupby.html). Multi-indexes are covered extensively in the [Advanced indexing](https://pandas.pydata.org/pandas-docs/stable/advanced.html) section, and sorting is a section in [Advanced basic functionality](https://pandas.pydata.org/pandas-docs/stable/basics.html#sorting)."
    },
    {
      "metadata": {
        "_cell_guid": "81e75fd4-9dbb-477c-8957-3cf05b045802",
        "_uuid": "561b27009375d044bda8fdfb894488a1a213e627"
      },
      "cell_type": "markdown",
      "source": "## Grouping\n\nMaps allow us to transform data in a `DataFrame` or `Series` one value at a time for an entire column. However, often we want to group our data, and then do something specific to the group the data is in. To do this, we can use the `groupby` operation.\n\nFor example, one function we've been using heavily thus far is the `value_counts` function. We can replicate what `value_counts` does using `groupby` by doing the following:"
    },
    {
      "metadata": {
        "_uuid": "853f98eafbaea622615e714e17d7fb75884249a6",
        "_cell_guid": "6a18e1e4-ebf3-4dc6-8f62-cafacfedebbe",
        "scrolled": false,
        "trusted": true
      },
      "cell_type": "code",
      "source": "reviews.groupby('points').points.count()",
      "execution_count": 2,
      "outputs": [
        {
          "output_type": "execute_result",
          "execution_count": 2,
          "data": {
            "text/plain": "points\n80     397\n81     692\n      ... \n99      33\n100     19\nName: points, Length: 21, dtype: int64"
          },
          "metadata": {}
        }
      ]
    },
    {
      "metadata": {
        "_uuid": "2872bf38e94381d895b2f0471968b55f3ab0b094",
        "_cell_guid": "1a0e9620-017c-4782-8b09-0fa01a9cb323"
      },
      "cell_type": "markdown",
      "source": "`groupby` created a group of reviews which allotted the same point values to the given wines. Then, for each of these groups, we grabbed the `points` column and counted how many times it appeared.\n\n`value_counts` is just a shortcut to this `groupby` operation. We can use any of the summary functions we've used before with this data. For example, to get the cheapest wine in each point value category, we can do the following:"
    },
    {
      "metadata": {
        "_uuid": "e78424f5725b252e9cb35c95a50589dd18050bde",
        "_cell_guid": "cf605274-58c0-4b5d-8269-51b8111b88ac",
        "scrolled": true,
        "trusted": true
      },
      "cell_type": "code",
      "source": "reviews.groupby('points').price.min()",
      "execution_count": 3,
      "outputs": [
        {
          "output_type": "execute_result",
          "execution_count": 3,
          "data": {
            "text/plain": "points\n80      5.0\n81      5.0\n       ... \n99     44.0\n100    80.0\nName: price, Length: 21, dtype: float64"
          },
          "metadata": {}
        }
      ]
    },
    {
      "metadata": {
        "_uuid": "d68145df8c268d833db8612e6d07557d8f28bffe",
        "_cell_guid": "8cb2791a-e2e2-4f80-94b4-86423498232a",
        "trusted": true
      },
      "cell_type": "code",
      "source": "reviews.head()",
      "execution_count": 4,
      "outputs": [
        {
          "output_type": "execute_result",
          "execution_count": 4,
          "data": {
            "text/plain": "    country         ...                        winery\n0     Italy         ...                       Nicosia\n1  Portugal         ...           Quinta dos Avidagos\n2        US         ...                     Rainstorm\n3        US         ...                    St. Julian\n4        US         ...                  Sweet Cheeks\n\n[5 rows x 13 columns]",
            "text/html": "<div>\n<style scoped>\n    .dataframe tbody tr th:only-of-type {\n        vertical-align: middle;\n    }\n\n    .dataframe tbody tr th {\n        vertical-align: top;\n    }\n\n    .dataframe thead th {\n        text-align: right;\n    }\n</style>\n<table border=\"1\" class=\"dataframe\">\n  <thead>\n    <tr style=\"text-align: right;\">\n      <th></th>\n      <th>country</th>\n      <th>description</th>\n      <th>designation</th>\n      <th>points</th>\n      <th>price</th>\n      <th>province</th>\n      <th>region_1</th>\n      <th>region_2</th>\n      <th>taster_name</th>\n      <th>taster_twitter_handle</th>\n      <th>title</th>\n      <th>variety</th>\n      <th>winery</th>\n    </tr>\n  </thead>\n  <tbody>\n    <tr>\n      <th>0</th>\n      <td>Italy</td>\n      <td>Aromas include tropical fruit, broom, brimston...</td>\n      <td>Vulkà Bianco</td>\n      <td>87</td>\n      <td>NaN</td>\n      <td>Sicily &amp; Sardinia</td>\n      <td>Etna</td>\n      <td>NaN</td>\n      <td>Kerin O’Keefe</td>\n      <td>@kerinokeefe</td>\n      <td>Nicosia 2013 Vulkà Bianco  (Etna)</td>\n      <td>White Blend</td>\n      <td>Nicosia</td>\n    </tr>\n    <tr>\n      <th>1</th>\n      <td>Portugal</td>\n      <td>This is ripe and fruity, a wine that is smooth...</td>\n      <td>Avidagos</td>\n      <td>87</td>\n      <td>15.0</td>\n      <td>Douro</td>\n      <td>NaN</td>\n      <td>NaN</td>\n      <td>Roger Voss</td>\n      <td>@vossroger</td>\n      <td>Quinta dos Avidagos 2011 Avidagos Red (Douro)</td>\n      <td>Portuguese Red</td>\n      <td>Quinta dos Avidagos</td>\n    </tr>\n    <tr>\n      <th>2</th>\n      <td>US</td>\n      <td>Tart and snappy, the flavors of lime flesh and...</td>\n      <td>NaN</td>\n      <td>87</td>\n      <td>14.0</td>\n      <td>Oregon</td>\n      <td>Willamette Valley</td>\n      <td>Willamette Valley</td>\n      <td>Paul Gregutt</td>\n      <td>@paulgwine</td>\n      <td>Rainstorm 2013 Pinot Gris (Willamette Valley)</td>\n      <td>Pinot Gris</td>\n      <td>Rainstorm</td>\n    </tr>\n    <tr>\n      <th>3</th>\n      <td>US</td>\n      <td>Pineapple rind, lemon pith and orange blossom ...</td>\n      <td>Reserve Late Harvest</td>\n      <td>87</td>\n      <td>13.0</td>\n      <td>Michigan</td>\n      <td>Lake Michigan Shore</td>\n      <td>NaN</td>\n      <td>Alexander Peartree</td>\n      <td>NaN</td>\n      <td>St. Julian 2013 Reserve Late Harvest Riesling ...</td>\n      <td>Riesling</td>\n      <td>St. Julian</td>\n    </tr>\n    <tr>\n      <th>4</th>\n      <td>US</td>\n      <td>Much like the regular bottling from 2012, this...</td>\n      <td>Vintner's Reserve Wild Child Block</td>\n      <td>87</td>\n      <td>65.0</td>\n      <td>Oregon</td>\n      <td>Willamette Valley</td>\n      <td>Willamette Valley</td>\n      <td>Paul Gregutt</td>\n      <td>@paulgwine</td>\n      <td>Sweet Cheeks 2012 Vintner's Reserve Wild Child...</td>\n      <td>Pinot Noir</td>\n      <td>Sweet Cheeks</td>\n    </tr>\n  </tbody>\n</table>\n</div>"
          },
          "metadata": {}
        }
      ]
    },
    {
      "metadata": {
        "_uuid": "8f89491f3e78f9284a1b20fb0a15f3c7b475a1b6",
        "_cell_guid": "29d08721-cad9-4bc8-a7d8-59b43b3a8785"
      },
      "cell_type": "markdown",
      "source": "You can think of each group we generate as being a slice of our `DataFrame` containing only data with values that match. This `DataFrame` is accessible to us directly using the `apply` method, and we can then manipulate the data in any way we see fit. For example, here's one way of selecting the name of the first wine reviewed from each winery in the dataset:"
    },
    {
      "metadata": {
        "_uuid": "6a34afb890e36f8358cd4064e1cbc56a2389d1ac",
        "_cell_guid": "4dd6167d-692a-4bcb-a89a-4e68725600f0",
        "trusted": true
      },
      "cell_type": "code",
      "source": "reviews.groupby('winery').apply(lambda df: df.title.iloc[0])",
      "execution_count": 5,
      "outputs": [
        {
          "output_type": "execute_result",
          "execution_count": 5,
          "data": {
            "text/plain": "winery\n1+1=3                          1+1=3 NV Rosé Sparkling (Cava)\n10 Knots                 10 Knots 2010 Viognier (Paso Robles)\n                                  ...                        \nàMaurice    àMaurice 2013 Fred Estate Syrah (Walla Walla V...\nŠtoka                         Štoka 2009 Izbrani Teran (Kras)\nLength: 16757, dtype: object"
          },
          "metadata": {}
        }
      ]
    },
    {
      "metadata": {
        "_uuid": "6676780a8783f26a5ebf1072c6d9c749fe84b9cf",
        "_cell_guid": "82776939-95bd-43bb-a3a0-67818b29ce26"
      },
      "cell_type": "markdown",
      "source": "For even more fine-grained control, you can also group by more than one column. For an example, here's how we would pick out the best wine by country _and_ province:"
    },
    {
      "metadata": {
        "_uuid": "5bc9a4d566ec4cc005ab0eb80b64d18e7d5c1a08",
        "_cell_guid": "afe7416a-2a71-4ca3-a8ba-77a27cfa8591",
        "scrolled": false,
        "trusted": true
      },
      "cell_type": "code",
      "source": "reviews.groupby(['country', 'province']).apply(lambda df: df.loc[df.points.idxmax()])",
      "execution_count": 15,
      "outputs": [
        {
          "output_type": "execute_result",
          "execution_count": 15,
          "data": {
            "text/plain": "                              country          ...                         winery\ncountry   province                             ...                               \nArgentina Mendoza Province  Argentina          ...           Bodega Catena Zapata\n          Other             Argentina          ...                         Colomé\n...                               ...          ...                            ...\nUruguay   San Jose            Uruguay          ...                 Castillo Viejo\n          Uruguay             Uruguay          ...                        Narbona\n\n[425 rows x 13 columns]",
            "text/html": "<div>\n<style scoped>\n    .dataframe tbody tr th:only-of-type {\n        vertical-align: middle;\n    }\n\n    .dataframe tbody tr th {\n        vertical-align: top;\n    }\n\n    .dataframe thead th {\n        text-align: right;\n    }\n</style>\n<table border=\"1\" class=\"dataframe\">\n  <thead>\n    <tr style=\"text-align: right;\">\n      <th></th>\n      <th></th>\n      <th>country</th>\n      <th>description</th>\n      <th>designation</th>\n      <th>points</th>\n      <th>price</th>\n      <th>province</th>\n      <th>region_1</th>\n      <th>region_2</th>\n      <th>taster_name</th>\n      <th>taster_twitter_handle</th>\n      <th>title</th>\n      <th>variety</th>\n      <th>winery</th>\n    </tr>\n    <tr>\n      <th>country</th>\n      <th>province</th>\n      <th></th>\n      <th></th>\n      <th></th>\n      <th></th>\n      <th></th>\n      <th></th>\n      <th></th>\n      <th></th>\n      <th></th>\n      <th></th>\n      <th></th>\n      <th></th>\n      <th></th>\n    </tr>\n  </thead>\n  <tbody>\n    <tr>\n      <th rowspan=\"2\" valign=\"top\">Argentina</th>\n      <th>Mendoza Province</th>\n      <td>Argentina</td>\n      <td>If the color doesn't tell the full story, the ...</td>\n      <td>Nicasia Vineyard</td>\n      <td>97</td>\n      <td>120.0</td>\n      <td>Mendoza Province</td>\n      <td>Mendoza</td>\n      <td>NaN</td>\n      <td>Michael Schachner</td>\n      <td>@wineschach</td>\n      <td>Bodega Catena Zapata 2006 Nicasia Vineyard Mal...</td>\n      <td>Malbec</td>\n      <td>Bodega Catena Zapata</td>\n    </tr>\n    <tr>\n      <th>Other</th>\n      <td>Argentina</td>\n      <td>Take note, this could be the best wine Colomé ...</td>\n      <td>Reserva</td>\n      <td>95</td>\n      <td>90.0</td>\n      <td>Other</td>\n      <td>Salta</td>\n      <td>NaN</td>\n      <td>Michael Schachner</td>\n      <td>@wineschach</td>\n      <td>Colomé 2010 Reserva Malbec (Salta)</td>\n      <td>Malbec</td>\n      <td>Colomé</td>\n    </tr>\n    <tr>\n      <th>...</th>\n      <th>...</th>\n      <td>...</td>\n      <td>...</td>\n      <td>...</td>\n      <td>...</td>\n      <td>...</td>\n      <td>...</td>\n      <td>...</td>\n      <td>...</td>\n      <td>...</td>\n      <td>...</td>\n      <td>...</td>\n      <td>...</td>\n      <td>...</td>\n    </tr>\n    <tr>\n      <th rowspan=\"2\" valign=\"top\">Uruguay</th>\n      <th>San Jose</th>\n      <td>Uruguay</td>\n      <td>Baked, sweet, heavy aromas turn earthy with ti...</td>\n      <td>El Preciado Gran Reserva</td>\n      <td>87</td>\n      <td>50.0</td>\n      <td>San Jose</td>\n      <td>NaN</td>\n      <td>NaN</td>\n      <td>Michael Schachner</td>\n      <td>@wineschach</td>\n      <td>Castillo Viejo 2005 El Preciado Gran Reserva R...</td>\n      <td>Red Blend</td>\n      <td>Castillo Viejo</td>\n    </tr>\n    <tr>\n      <th>Uruguay</th>\n      <td>Uruguay</td>\n      <td>Cherry and berry aromas are ripe, healthy and ...</td>\n      <td>Blend 002 Limited Edition</td>\n      <td>91</td>\n      <td>22.0</td>\n      <td>Uruguay</td>\n      <td>NaN</td>\n      <td>NaN</td>\n      <td>Michael Schachner</td>\n      <td>@wineschach</td>\n      <td>Narbona NV Blend 002 Limited Edition Tannat-Ca...</td>\n      <td>Tannat-Cabernet Franc</td>\n      <td>Narbona</td>\n    </tr>\n  </tbody>\n</table>\n<p>425 rows × 13 columns</p>\n</div>"
          },
          "metadata": {}
        }
      ]
    },
    {
      "metadata": {
        "_uuid": "bd39eef7cc9669bc3883443c987c4ba900e2b8fb",
        "_cell_guid": "6471af06-95c1-4c3f-aa15-f93b66fb3093"
      },
      "cell_type": "markdown",
      "source": "Another `groupby` method worth mentioning is `agg`, which lets you run a bunch of different functions on your `DataFrame` simultaneously. For example, we can generate a simple statistical summary of the dataset as follows:"
    },
    {
      "metadata": {
        "_uuid": "8b25d502098bc7fd19a103bbad1ceb6169566730",
        "_cell_guid": "7b7f0476-b7a5-46fc-945f-941fcb851d5c",
        "trusted": true
      },
      "cell_type": "code",
      "source": "reviews.groupby(['country']).price.agg([len, min, max])",
      "execution_count": 7,
      "outputs": [
        {
          "output_type": "execute_result",
          "execution_count": 7,
          "data": {
            "text/plain": "              len   min    max\ncountry                       \nArgentina  3800.0   4.0  230.0\nArmenia       2.0  14.0   15.0\n...           ...   ...    ...\nUkraine      14.0   6.0   13.0\nUruguay     109.0  10.0  130.0\n\n[43 rows x 3 columns]",
            "text/html": "<div>\n<style scoped>\n    .dataframe tbody tr th:only-of-type {\n        vertical-align: middle;\n    }\n\n    .dataframe tbody tr th {\n        vertical-align: top;\n    }\n\n    .dataframe thead th {\n        text-align: right;\n    }\n</style>\n<table border=\"1\" class=\"dataframe\">\n  <thead>\n    <tr style=\"text-align: right;\">\n      <th></th>\n      <th>len</th>\n      <th>min</th>\n      <th>max</th>\n    </tr>\n    <tr>\n      <th>country</th>\n      <th></th>\n      <th></th>\n      <th></th>\n    </tr>\n  </thead>\n  <tbody>\n    <tr>\n      <th>Argentina</th>\n      <td>3800.0</td>\n      <td>4.0</td>\n      <td>230.0</td>\n    </tr>\n    <tr>\n      <th>Armenia</th>\n      <td>2.0</td>\n      <td>14.0</td>\n      <td>15.0</td>\n    </tr>\n    <tr>\n      <th>...</th>\n      <td>...</td>\n      <td>...</td>\n      <td>...</td>\n    </tr>\n    <tr>\n      <th>Ukraine</th>\n      <td>14.0</td>\n      <td>6.0</td>\n      <td>13.0</td>\n    </tr>\n    <tr>\n      <th>Uruguay</th>\n      <td>109.0</td>\n      <td>10.0</td>\n      <td>130.0</td>\n    </tr>\n  </tbody>\n</table>\n<p>43 rows × 3 columns</p>\n</div>"
          },
          "metadata": {}
        }
      ]
    },
    {
      "metadata": {
        "_uuid": "0a681db3751a100497fc2e15d230ac1ba667da1e",
        "_cell_guid": "763bcb03-0c41-49ce-886d-5fe2f181ae2d"
      },
      "cell_type": "markdown",
      "source": "Effective use of `groupby` will allow you to do lots of really powerful things with your dataset."
    },
    {
      "metadata": {
        "_uuid": "a61eeed4c13f16c2432c934f9249bccfc7ff3855",
        "_cell_guid": "7fe392cd-4f19-48cc-99fb-5bedba6fd09d"
      },
      "cell_type": "markdown",
      "source": "## Multi-indexes\n\nIn all of the examples we've seen thus far we've been working with `DataFrame` or `Series` objects with a single-label index. `groupby` is slightly different in the fact that, depending on the operation we run, it will sometimes result in what is called a multi-index.\n\nA multi-index differs from a regular index in that it has multiple levels. For example:"
    },
    {
      "metadata": {
        "_uuid": "54175d149e262843f6621fb612c193cb593bd13f",
        "_cell_guid": "5ffd0f5f-089a-40ec-8eaa-a61fe84bc00c",
        "scrolled": true,
        "trusted": true
      },
      "cell_type": "code",
      "source": "countries_reviewed = reviews.groupby(['country', 'province']).description.agg([len])\ncountries_reviewed",
      "execution_count": 8,
      "outputs": [
        {
          "output_type": "execute_result",
          "execution_count": 8,
          "data": {
            "text/plain": "                             len\ncountry   province              \nArgentina Mendoza Province  3264\n          Other              536\n...                          ...\nUruguay   San Jose             3\n          Uruguay             24\n\n[425 rows x 1 columns]",
            "text/html": "<div>\n<style scoped>\n    .dataframe tbody tr th:only-of-type {\n        vertical-align: middle;\n    }\n\n    .dataframe tbody tr th {\n        vertical-align: top;\n    }\n\n    .dataframe thead th {\n        text-align: right;\n    }\n</style>\n<table border=\"1\" class=\"dataframe\">\n  <thead>\n    <tr style=\"text-align: right;\">\n      <th></th>\n      <th></th>\n      <th>len</th>\n    </tr>\n    <tr>\n      <th>country</th>\n      <th>province</th>\n      <th></th>\n    </tr>\n  </thead>\n  <tbody>\n    <tr>\n      <th rowspan=\"2\" valign=\"top\">Argentina</th>\n      <th>Mendoza Province</th>\n      <td>3264</td>\n    </tr>\n    <tr>\n      <th>Other</th>\n      <td>536</td>\n    </tr>\n    <tr>\n      <th>...</th>\n      <th>...</th>\n      <td>...</td>\n    </tr>\n    <tr>\n      <th rowspan=\"2\" valign=\"top\">Uruguay</th>\n      <th>San Jose</th>\n      <td>3</td>\n    </tr>\n    <tr>\n      <th>Uruguay</th>\n      <td>24</td>\n    </tr>\n  </tbody>\n</table>\n<p>425 rows × 1 columns</p>\n</div>"
          },
          "metadata": {}
        }
      ]
    },
    {
      "metadata": {
        "_uuid": "5bbddffc5a5048a7014f1fd8522c7d619d399f9b",
        "_cell_guid": "79c8b8f9-988c-4c5f-bb7c-e6775439a849",
        "trusted": true
      },
      "cell_type": "code",
      "source": "mi = _.index\ntype(mi)",
      "execution_count": 9,
      "outputs": [
        {
          "output_type": "execute_result",
          "execution_count": 9,
          "data": {
            "text/plain": "pandas.core.indexes.multi.MultiIndex"
          },
          "metadata": {}
        }
      ]
    },
    {
      "metadata": {
        "_uuid": "7792712deb3baa2eccb3cd8d13e19c75904a7385",
        "_cell_guid": "f4fff52a-b710-454b-8e27-61761f3873d8"
      },
      "cell_type": "markdown",
      "source": "Multi-indices have several methods for dealing with their tiered structure which are absent for single-level indices. They also require two levels of labels to retrieve a value, an operation that looks something like this. Dealing with multi-index output is a common \"gotcha\" for users new to `pandas`.\n\nThe use cases for a `MultiIndex` are detailed alongside detailed instructions on using them in the [MultiIndex / Advanced Selection](https://pandas.pydata.org/pandas-docs/stable/advanced.html) section of the `pandas` documentation.\n\nHowever, in general the `MultiIndex` method you will use most often is the one for converting back to a regular index, the `reset_index` method:"
    },
    {
      "metadata": {
        "_uuid": "28359640bfef9de8f0b93ef9fb137bceca774253",
        "_cell_guid": "1409b093-e5e5-4769-8b72-d3f662fad513",
        "trusted": true
      },
      "cell_type": "code",
      "source": "countries_reviewed.reset_index()",
      "execution_count": 10,
      "outputs": [
        {
          "output_type": "execute_result",
          "execution_count": 10,
          "data": {
            "text/plain": "       country          province   len\n0    Argentina  Mendoza Province  3264\n1    Argentina             Other   536\n..         ...               ...   ...\n423    Uruguay          San Jose     3\n424    Uruguay           Uruguay    24\n\n[425 rows x 3 columns]",
            "text/html": "<div>\n<style scoped>\n    .dataframe tbody tr th:only-of-type {\n        vertical-align: middle;\n    }\n\n    .dataframe tbody tr th {\n        vertical-align: top;\n    }\n\n    .dataframe thead th {\n        text-align: right;\n    }\n</style>\n<table border=\"1\" class=\"dataframe\">\n  <thead>\n    <tr style=\"text-align: right;\">\n      <th></th>\n      <th>country</th>\n      <th>province</th>\n      <th>len</th>\n    </tr>\n  </thead>\n  <tbody>\n    <tr>\n      <th>0</th>\n      <td>Argentina</td>\n      <td>Mendoza Province</td>\n      <td>3264</td>\n    </tr>\n    <tr>\n      <th>1</th>\n      <td>Argentina</td>\n      <td>Other</td>\n      <td>536</td>\n    </tr>\n    <tr>\n      <th>...</th>\n      <td>...</td>\n      <td>...</td>\n      <td>...</td>\n    </tr>\n    <tr>\n      <th>423</th>\n      <td>Uruguay</td>\n      <td>San Jose</td>\n      <td>3</td>\n    </tr>\n    <tr>\n      <th>424</th>\n      <td>Uruguay</td>\n      <td>Uruguay</td>\n      <td>24</td>\n    </tr>\n  </tbody>\n</table>\n<p>425 rows × 3 columns</p>\n</div>"
          },
          "metadata": {}
        }
      ]
    },
    {
      "metadata": {
        "_uuid": "992d3b2473dcd3b47940a7b053ac615506083629",
        "_cell_guid": "f74407d9-84db-4045-a95f-4332d1e20f03"
      },
      "cell_type": "markdown",
      "source": "## Sorting\n\nLooking again at `countries_reviewed` we can see that grouping returns data in index order, not in value order. That is to say, when outputting the result of a `groupby`, the order of the rows is dependent on the values in the index, not in the data.\n\nTo get data in the order want it in we can sort it ourselves.  The `sort_values` method is handy for this."
    },
    {
      "metadata": {
        "_uuid": "b1b52d4648c78d13921ad434dae23e395f16b207",
        "_cell_guid": "a7c16892-0ec4-45e4-98a5-32bd5e374a25",
        "trusted": true
      },
      "cell_type": "code",
      "source": "countries_reviewed = countries_reviewed.reset_index()\ncountries_reviewed.sort_values(by='len')",
      "execution_count": 11,
      "outputs": [
        {
          "output_type": "execute_result",
          "execution_count": 11,
          "data": {
            "text/plain": "    country               province    len\n179  Greece  Muscat of Kefallonian      1\n192  Greece          Sterea Ellada      1\n..      ...                    ...    ...\n415      US             Washington   8639\n392      US             California  36247\n\n[425 rows x 3 columns]",
            "text/html": "<div>\n<style scoped>\n    .dataframe tbody tr th:only-of-type {\n        vertical-align: middle;\n    }\n\n    .dataframe tbody tr th {\n        vertical-align: top;\n    }\n\n    .dataframe thead th {\n        text-align: right;\n    }\n</style>\n<table border=\"1\" class=\"dataframe\">\n  <thead>\n    <tr style=\"text-align: right;\">\n      <th></th>\n      <th>country</th>\n      <th>province</th>\n      <th>len</th>\n    </tr>\n  </thead>\n  <tbody>\n    <tr>\n      <th>179</th>\n      <td>Greece</td>\n      <td>Muscat of Kefallonian</td>\n      <td>1</td>\n    </tr>\n    <tr>\n      <th>192</th>\n      <td>Greece</td>\n      <td>Sterea Ellada</td>\n      <td>1</td>\n    </tr>\n    <tr>\n      <th>...</th>\n      <td>...</td>\n      <td>...</td>\n      <td>...</td>\n    </tr>\n    <tr>\n      <th>415</th>\n      <td>US</td>\n      <td>Washington</td>\n      <td>8639</td>\n    </tr>\n    <tr>\n      <th>392</th>\n      <td>US</td>\n      <td>California</td>\n      <td>36247</td>\n    </tr>\n  </tbody>\n</table>\n<p>425 rows × 3 columns</p>\n</div>"
          },
          "metadata": {}
        }
      ]
    },
    {
      "metadata": {
        "_uuid": "15061472a176c19918bae01716283a4340c3fa2f",
        "_cell_guid": "a2a9b43e-6991-401a-96a2-546344ef7a67"
      },
      "cell_type": "markdown",
      "source": "`sort_values` defaults to an ascending sort, where the lowest values go first. Most of the time we want a descending sort however, where the higher numbers go first. That goes thusly:"
    },
    {
      "metadata": {
        "_uuid": "d1ec6f5e505037f0d717d9c1e34fda07e387bee9",
        "_cell_guid": "b7bc448a-33de-4187-8271-f0785f4f0934",
        "trusted": true
      },
      "cell_type": "code",
      "source": "countries_reviewed.sort_values(by='len', ascending=False)",
      "execution_count": 12,
      "outputs": [
        {
          "output_type": "execute_result",
          "execution_count": 12,
          "data": {
            "text/plain": "    country    province    len\n392      US  California  36247\n415      US  Washington   8639\n..      ...         ...    ...\n63    Chile     Coelemu      1\n149  Greece      Beotia      1\n\n[425 rows x 3 columns]",
            "text/html": "<div>\n<style scoped>\n    .dataframe tbody tr th:only-of-type {\n        vertical-align: middle;\n    }\n\n    .dataframe tbody tr th {\n        vertical-align: top;\n    }\n\n    .dataframe thead th {\n        text-align: right;\n    }\n</style>\n<table border=\"1\" class=\"dataframe\">\n  <thead>\n    <tr style=\"text-align: right;\">\n      <th></th>\n      <th>country</th>\n      <th>province</th>\n      <th>len</th>\n    </tr>\n  </thead>\n  <tbody>\n    <tr>\n      <th>392</th>\n      <td>US</td>\n      <td>California</td>\n      <td>36247</td>\n    </tr>\n    <tr>\n      <th>415</th>\n      <td>US</td>\n      <td>Washington</td>\n      <td>8639</td>\n    </tr>\n    <tr>\n      <th>...</th>\n      <td>...</td>\n      <td>...</td>\n      <td>...</td>\n    </tr>\n    <tr>\n      <th>63</th>\n      <td>Chile</td>\n      <td>Coelemu</td>\n      <td>1</td>\n    </tr>\n    <tr>\n      <th>149</th>\n      <td>Greece</td>\n      <td>Beotia</td>\n      <td>1</td>\n    </tr>\n  </tbody>\n</table>\n<p>425 rows × 3 columns</p>\n</div>"
          },
          "metadata": {}
        }
      ]
    },
    {
      "metadata": {
        "_uuid": "878367fa51d7f67acd5588b2a75bf6e100f16a7f",
        "_cell_guid": "ffacddd1-9250-48aa-8fef-14557ba0b7f2"
      },
      "cell_type": "markdown",
      "source": "To sort by index values, use the companion method `sort_index`. This method has the same arguments and default order:"
    },
    {
      "metadata": {
        "_uuid": "afc201209c8b65aa3964da6f89fb14e56c534147",
        "_cell_guid": "266f12b5-2213-4614-803a-41ba2ff5b651",
        "trusted": true
      },
      "cell_type": "code",
      "source": "countries_reviewed.sort_index()",
      "execution_count": 13,
      "outputs": [
        {
          "output_type": "execute_result",
          "execution_count": 13,
          "data": {
            "text/plain": "       country          province   len\n0    Argentina  Mendoza Province  3264\n1    Argentina             Other   536\n..         ...               ...   ...\n423    Uruguay          San Jose     3\n424    Uruguay           Uruguay    24\n\n[425 rows x 3 columns]",
            "text/html": "<div>\n<style scoped>\n    .dataframe tbody tr th:only-of-type {\n        vertical-align: middle;\n    }\n\n    .dataframe tbody tr th {\n        vertical-align: top;\n    }\n\n    .dataframe thead th {\n        text-align: right;\n    }\n</style>\n<table border=\"1\" class=\"dataframe\">\n  <thead>\n    <tr style=\"text-align: right;\">\n      <th></th>\n      <th>country</th>\n      <th>province</th>\n      <th>len</th>\n    </tr>\n  </thead>\n  <tbody>\n    <tr>\n      <th>0</th>\n      <td>Argentina</td>\n      <td>Mendoza Province</td>\n      <td>3264</td>\n    </tr>\n    <tr>\n      <th>1</th>\n      <td>Argentina</td>\n      <td>Other</td>\n      <td>536</td>\n    </tr>\n    <tr>\n      <th>...</th>\n      <td>...</td>\n      <td>...</td>\n      <td>...</td>\n    </tr>\n    <tr>\n      <th>423</th>\n      <td>Uruguay</td>\n      <td>San Jose</td>\n      <td>3</td>\n    </tr>\n    <tr>\n      <th>424</th>\n      <td>Uruguay</td>\n      <td>Uruguay</td>\n      <td>24</td>\n    </tr>\n  </tbody>\n</table>\n<p>425 rows × 3 columns</p>\n</div>"
          },
          "metadata": {}
        }
      ]
    },
    {
      "metadata": {
        "_uuid": "631f5f9ca051ce3b4c6c3232766a34c27b813bb2",
        "_cell_guid": "48a21409-15e5-453e-a291-612a0405a9be"
      },
      "cell_type": "markdown",
      "source": "Finally, know that you can sort by more than one column at a time:"
    },
    {
      "metadata": {
        "_uuid": "3c8756c529bbb3eb47d93131191fb8fde30db82a",
        "_cell_guid": "14d4f6c5-a32f-4a31-8eec-311622ea8ddb",
        "trusted": true
      },
      "cell_type": "code",
      "source": "countries_reviewed.sort_values(by=['country', 'len'])",
      "execution_count": 14,
      "outputs": [
        {
          "output_type": "execute_result",
          "execution_count": 14,
          "data": {
            "text/plain": "       country          province   len\n1    Argentina             Other   536\n0    Argentina  Mendoza Province  3264\n..         ...               ...   ...\n424    Uruguay           Uruguay    24\n419    Uruguay         Canelones    43\n\n[425 rows x 3 columns]",
            "text/html": "<div>\n<style scoped>\n    .dataframe tbody tr th:only-of-type {\n        vertical-align: middle;\n    }\n\n    .dataframe tbody tr th {\n        vertical-align: top;\n    }\n\n    .dataframe thead th {\n        text-align: right;\n    }\n</style>\n<table border=\"1\" class=\"dataframe\">\n  <thead>\n    <tr style=\"text-align: right;\">\n      <th></th>\n      <th>country</th>\n      <th>province</th>\n      <th>len</th>\n    </tr>\n  </thead>\n  <tbody>\n    <tr>\n      <th>1</th>\n      <td>Argentina</td>\n      <td>Other</td>\n      <td>536</td>\n    </tr>\n    <tr>\n      <th>0</th>\n      <td>Argentina</td>\n      <td>Mendoza Province</td>\n      <td>3264</td>\n    </tr>\n    <tr>\n      <th>...</th>\n      <td>...</td>\n      <td>...</td>\n      <td>...</td>\n    </tr>\n    <tr>\n      <th>424</th>\n      <td>Uruguay</td>\n      <td>Uruguay</td>\n      <td>24</td>\n    </tr>\n    <tr>\n      <th>419</th>\n      <td>Uruguay</td>\n      <td>Canelones</td>\n      <td>43</td>\n    </tr>\n  </tbody>\n</table>\n<p>425 rows × 3 columns</p>\n</div>"
          },
          "metadata": {}
        }
      ]
    }
  ],
  "metadata": {
    "language_info": {
      "name": "python",
      "version": "3.6.6",
      "mimetype": "text/x-python",
      "codemirror_mode": {
        "name": "ipython",
        "version": 3
      },
      "pygments_lexer": "ipython3",
      "nbconvert_exporter": "python",
      "file_extension": ".py"
    },
    "kernelspec": {
      "display_name": "Python 3",
      "language": "python",
      "name": "python3"
    }
  },
  "nbformat": 4,
  "nbformat_minor": 1
}