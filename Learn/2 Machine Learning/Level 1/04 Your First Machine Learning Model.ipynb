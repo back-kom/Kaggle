{
  "cells": [
    {
      "metadata": {
        "_cell_guid": "dc1e7b02-f022-48ca-a270-21f4b0c70835",
        "_uuid": "0696f41450f17b2e0ebbbbb30a29053cde7de211"
      },
      "cell_type": "markdown",
      "source": "**[Machine Learning Course Home Page](kaggle.com/learn/machine-learning).**\n\n---\n\n# Selecting Data for Modeling\nYour dataset had  too many variables to wrap your head around, or even to print out nicely.  How can you pare down this overwhelming amount of data to something you can understand?\n\nWe'll start by picking a few variables using our intuition. Later courses will show you statistical techniques to automatically prioritize variables.\n\nTo choose variables/columns, we'll need to see a list of all columns in the dataset. That is done with the **columns** property of the DataFrame (the bottom line of code below).\n"
    },
    {
      "metadata": {
        "_uuid": "a25994d784f42b94b83bedcda6c30866583464d4",
        "trusted": true
      },
      "cell_type": "code",
      "source": "import pandas as pd\n\nmelbourne_file_path = '../input/melbourne-housing-snapshot/melb_data.csv'\nmelbourne_data = pd.read_csv(melbourne_file_path) \nmelbourne_data.columns",
      "execution_count": 1,
      "outputs": [
        {
          "output_type": "execute_result",
          "execution_count": 1,
          "data": {
            "text/plain": "Index(['Suburb', 'Address', 'Rooms', 'Type', 'Price', 'Method', 'SellerG',\n       'Date', 'Distance', 'Postcode', 'Bedroom2', 'Bathroom', 'Car',\n       'Landsize', 'BuildingArea', 'YearBuilt', 'CouncilArea', 'Lattitude',\n       'Longtitude', 'Regionname', 'Propertycount'],\n      dtype='object')"
          },
          "metadata": {}
        }
      ]
    },
    {
      "metadata": {
        "_uuid": "59fc7d125439ec65ba9ba0e2fb0f766aa3e9d1c5",
        "trusted": true
      },
      "cell_type": "code",
      "source": "# The Melbourne data has some missing values (some houses for which some variables weren't recorded.)\n# We'll learn to handle missing values in a later tutorial.  \n# Your Iowa data doesn't have missing values in the columns you use. \n# So we will take the simplest option for now, and drop houses from our data. \n# Don't worry about this much for now, though the code is:\n\n# dropna drops missing values (think of na as \"not available\")\nmelbourne_data = melbourne_data.dropna(axis=0)",
      "execution_count": 2,
      "outputs": []
    },
    {
      "metadata": {
        "_uuid": "826da8cfb463a8b527fc41206a06c0872ecf34be"
      },
      "cell_type": "markdown",
      "source": "There are many ways to select a subset of your data. The [Pandas Course](https://www.kaggle.com/learn/pandas) covers these in more depth, but we will focus on two approaches for now.\n\n1. Dot notation, which we use to select the \"prediction target\"\n2. Selecting with a column list, which we use to select the \n\n## Selecting The Prediction Target \nYou can pull out a variable with **dot-notation**.  This single column is stored in a **Series**, which is broadly like a DataFrame with only a single column of data.  \n\nWe'll use the dot notation to select the column we want to predict, which is called the **prediction target**. By convention, the prediction target is called **y**. So the code we need to save the house prices in the Melbourne data is"
    },
    {
      "metadata": {
        "_cell_guid": "e5a6c21c-cda7-4df8-a9e9-15a2ae865026",
        "_uuid": "599dc0855ff966c6e8d84b5bd447b315bf85e339",
        "trusted": true
      },
      "cell_type": "code",
      "source": "y = melbourne_data.Price",
      "execution_count": 3,
      "outputs": []
    },
    {
      "metadata": {
        "_cell_guid": "a52b0b8d-ea0a-435b-bde1-1472f63977ba",
        "_uuid": "a0fac0889241e77f2e2deefbd63bc9f057d0c826"
      },
      "cell_type": "markdown",
      "source": "# Choosing \"Features\"\nThe columns that are inputted into our model (and later used to make predictions) are called \"features.\" In our case, those would be the columns used to determine the home price. Sometimes, you will use all columns except the target as features. Other times you'll be better off with fewer features. \n\nFor now, we'll build a model with only a few features. Later on you'll see how to iterate and compare models built with different features.\n\nWe select multiple features by providing a list of column names inside brackets. Each item in that list should be a string (with quotes).\n\nHere is an example:"
    },
    {
      "metadata": {
        "_cell_guid": "b45e6964-5379-44b5-980c-11e556f34a4f",
        "_uuid": "001553f51fbd9c115b7728e625fd6c2830852071",
        "trusted": true
      },
      "cell_type": "code",
      "source": "melbourne_features = ['Rooms', 'Bathroom', 'Landsize', 'Lattitude', 'Longtitude']",
      "execution_count": 4,
      "outputs": []
    },
    {
      "metadata": {
        "_cell_guid": "e30af6f8-45b8-4e33-9c3b-52a88266aee6",
        "_uuid": "f9d9562f7d3a41042c3bb3beb64056993703735d"
      },
      "cell_type": "markdown",
      "source": "By convention, this data is called **X**."
    },
    {
      "metadata": {
        "_cell_guid": "f3ce77d5-06e2-4433-b392-16d54014d2c8",
        "_uuid": "19b3d59d66644a58125cb8d41636a169d4c10af9",
        "trusted": true
      },
      "cell_type": "code",
      "source": "X = melbourne_data[melbourne_features]",
      "execution_count": 5,
      "outputs": []
    },
    {
      "metadata": {
        "_uuid": "409b75c6d9202471b8053bb29b6e38c8f86b35d8"
      },
      "cell_type": "markdown",
      "source": "Let's quickly review the data we'll be using to predict house prices using the `describe` method and the `head` method, which shows the top few rows."
    },
    {
      "metadata": {
        "_uuid": "e7df4659162db553b58cdffb9bbdcc512ed43405",
        "trusted": true
      },
      "cell_type": "code",
      "source": "X.describe()",
      "execution_count": 6,
      "outputs": [
        {
          "output_type": "execute_result",
          "execution_count": 6,
          "data": {
            "text/plain": "             Rooms     Bathroom     ...         Lattitude   Longtitude\ncount  6196.000000  6196.000000     ...       6196.000000  6196.000000\nmean      2.931407     1.576340     ...        -37.807904   144.990201\nstd       0.971079     0.711362     ...          0.075850     0.099165\nmin       1.000000     1.000000     ...        -38.164920   144.542370\n25%       2.000000     1.000000     ...        -37.855438   144.926198\n50%       3.000000     1.000000     ...        -37.802250   144.995800\n75%       4.000000     2.000000     ...        -37.758200   145.052700\nmax       8.000000     8.000000     ...        -37.457090   145.526350\n\n[8 rows x 5 columns]",
            "text/html": "<div>\n<style scoped>\n    .dataframe tbody tr th:only-of-type {\n        vertical-align: middle;\n    }\n\n    .dataframe tbody tr th {\n        vertical-align: top;\n    }\n\n    .dataframe thead th {\n        text-align: right;\n    }\n</style>\n<table border=\"1\" class=\"dataframe\">\n  <thead>\n    <tr style=\"text-align: right;\">\n      <th></th>\n      <th>Rooms</th>\n      <th>Bathroom</th>\n      <th>Landsize</th>\n      <th>Lattitude</th>\n      <th>Longtitude</th>\n    </tr>\n  </thead>\n  <tbody>\n    <tr>\n      <th>count</th>\n      <td>6196.000000</td>\n      <td>6196.000000</td>\n      <td>6196.000000</td>\n      <td>6196.000000</td>\n      <td>6196.000000</td>\n    </tr>\n    <tr>\n      <th>mean</th>\n      <td>2.931407</td>\n      <td>1.576340</td>\n      <td>471.006940</td>\n      <td>-37.807904</td>\n      <td>144.990201</td>\n    </tr>\n    <tr>\n      <th>std</th>\n      <td>0.971079</td>\n      <td>0.711362</td>\n      <td>897.449881</td>\n      <td>0.075850</td>\n      <td>0.099165</td>\n    </tr>\n    <tr>\n      <th>min</th>\n      <td>1.000000</td>\n      <td>1.000000</td>\n      <td>0.000000</td>\n      <td>-38.164920</td>\n      <td>144.542370</td>\n    </tr>\n    <tr>\n      <th>25%</th>\n      <td>2.000000</td>\n      <td>1.000000</td>\n      <td>152.000000</td>\n      <td>-37.855438</td>\n      <td>144.926198</td>\n    </tr>\n    <tr>\n      <th>50%</th>\n      <td>3.000000</td>\n      <td>1.000000</td>\n      <td>373.000000</td>\n      <td>-37.802250</td>\n      <td>144.995800</td>\n    </tr>\n    <tr>\n      <th>75%</th>\n      <td>4.000000</td>\n      <td>2.000000</td>\n      <td>628.000000</td>\n      <td>-37.758200</td>\n      <td>145.052700</td>\n    </tr>\n    <tr>\n      <th>max</th>\n      <td>8.000000</td>\n      <td>8.000000</td>\n      <td>37000.000000</td>\n      <td>-37.457090</td>\n      <td>145.526350</td>\n    </tr>\n  </tbody>\n</table>\n</div>"
          },
          "metadata": {}
        }
      ]
    },
    {
      "metadata": {
        "_uuid": "45710a5bbb6743402302b4d5dfb189c1018a6d4a",
        "trusted": true
      },
      "cell_type": "code",
      "source": "X.head()",
      "execution_count": 7,
      "outputs": [
        {
          "output_type": "execute_result",
          "execution_count": 7,
          "data": {
            "text/plain": "   Rooms  Bathroom  Landsize  Lattitude  Longtitude\n1      2       1.0     156.0   -37.8079    144.9934\n2      3       2.0     134.0   -37.8093    144.9944\n4      4       1.0     120.0   -37.8072    144.9941\n6      3       2.0     245.0   -37.8024    144.9993\n7      2       1.0     256.0   -37.8060    144.9954",
            "text/html": "<div>\n<style scoped>\n    .dataframe tbody tr th:only-of-type {\n        vertical-align: middle;\n    }\n\n    .dataframe tbody tr th {\n        vertical-align: top;\n    }\n\n    .dataframe thead th {\n        text-align: right;\n    }\n</style>\n<table border=\"1\" class=\"dataframe\">\n  <thead>\n    <tr style=\"text-align: right;\">\n      <th></th>\n      <th>Rooms</th>\n      <th>Bathroom</th>\n      <th>Landsize</th>\n      <th>Lattitude</th>\n      <th>Longtitude</th>\n    </tr>\n  </thead>\n  <tbody>\n    <tr>\n      <th>1</th>\n      <td>2</td>\n      <td>1.0</td>\n      <td>156.0</td>\n      <td>-37.8079</td>\n      <td>144.9934</td>\n    </tr>\n    <tr>\n      <th>2</th>\n      <td>3</td>\n      <td>2.0</td>\n      <td>134.0</td>\n      <td>-37.8093</td>\n      <td>144.9944</td>\n    </tr>\n    <tr>\n      <th>4</th>\n      <td>4</td>\n      <td>1.0</td>\n      <td>120.0</td>\n      <td>-37.8072</td>\n      <td>144.9941</td>\n    </tr>\n    <tr>\n      <th>6</th>\n      <td>3</td>\n      <td>2.0</td>\n      <td>245.0</td>\n      <td>-37.8024</td>\n      <td>144.9993</td>\n    </tr>\n    <tr>\n      <th>7</th>\n      <td>2</td>\n      <td>1.0</td>\n      <td>256.0</td>\n      <td>-37.8060</td>\n      <td>144.9954</td>\n    </tr>\n  </tbody>\n</table>\n</div>"
          },
          "metadata": {}
        }
      ]
    },
    {
      "metadata": {
        "_uuid": "df2197a606fcb1d61fc91a5b260138f97e6aeb9c"
      },
      "cell_type": "markdown",
      "source": "Visually checking your data with these commands is an important part of a data scientist's job.  You'll frequently find surprises in the dataset that deserve further inspection."
    },
    {
      "metadata": {
        "_cell_guid": "acd7ddac-58c4-403c-b39f-d648a6bd271c",
        "_uuid": "8a4f43b00b0243645d5d12ef0ae402c8106bf10f"
      },
      "cell_type": "markdown",
      "source": "---\n# Building Your Model\n\nYou will use the **scikit-learn** library to create your models.  When coding, this library is written as **sklearn**, as you will see in the sample code. Scikit-learn is easily the most popular library for modeling the types of data typically stored in DataFrames. \n\nThe steps to building and using a model are:\n* **Define:** What type of model will it be?  A decision tree?  Some other type of model? Some other parameters of the model type are specified too.\n* **Fit:** Capture patterns from provided data. This is the heart of modeling.\n* **Predict:** Just what it sounds like\n* **Evaluate**: Determine how accurate the model's predictions are.\n\nHere is an example of defining a decision tree model with scikit-learn and fitting it with the features and target variable."
    },
    {
      "metadata": {
        "_cell_guid": "8a390b1d-ae2a-4b73-b524-0dfde22879f7",
        "_uuid": "4d35fb0ec4c75f00d91f1d7d668af4afdd6d19fe",
        "trusted": true
      },
      "cell_type": "code",
      "source": "from sklearn.tree import DecisionTreeRegressor\n\n# Define model. Specify a number for random_state to ensure same results each run\nmelbourne_model = DecisionTreeRegressor(random_state=1)\n\n# Fit model\nmelbourne_model.fit(X, y)",
      "execution_count": 8,
      "outputs": [
        {
          "output_type": "execute_result",
          "execution_count": 8,
          "data": {
            "text/plain": "DecisionTreeRegressor(criterion='mse', max_depth=None, max_features=None,\n           max_leaf_nodes=None, min_impurity_decrease=0.0,\n           min_impurity_split=None, min_samples_leaf=1,\n           min_samples_split=2, min_weight_fraction_leaf=0.0,\n           presort=False, random_state=1, splitter='best')"
          },
          "metadata": {}
        }
      ]
    },
    {
      "metadata": {
        "_cell_guid": "60aade6d-4f6c-482e-9e93-bffa1bc51e7b",
        "_uuid": "1ff19fb070af2b731ce8343dbfea16708ce437bb"
      },
      "cell_type": "markdown",
      "source": "Many machine learning models allow some randomness in model training. Specifying a number for `random_state` ensures you get the same results in each run. This is considered a good practice. You use any number, and model quality won't depend meaningfully on exactly what value you choose.\n\nWe now have a fitted model that we can use to make predictions.\n\nIn practice, you'll want to make predictions for new houses coming on the market rather than the houses we already have prices for. But we'll make predictions for the first few rows of the training data to see how the predict function works.\n"
    },
    {
      "metadata": {
        "_cell_guid": "cd6bded9-35a7-478a-8616-9d37e7a2a783",
        "_uuid": "19bb827c7aa5a17feeef4dc368cc8da95cc9b09a",
        "trusted": true
      },
      "cell_type": "code",
      "source": "print(\"Making predictions for the following 5 houses:\")\nprint(X.head())\nprint(\"The predictions are\")\nprint(melbourne_model.predict(X.head()))",
      "execution_count": 9,
      "outputs": [
        {
          "output_type": "stream",
          "text": "Making predictions for the following 5 houses:\n   Rooms  Bathroom  Landsize  Lattitude  Longtitude\n1      2       1.0     156.0   -37.8079    144.9934\n2      3       2.0     134.0   -37.8093    144.9944\n4      4       1.0     120.0   -37.8072    144.9941\n6      3       2.0     245.0   -37.8024    144.9993\n7      2       1.0     256.0   -37.8060    144.9954\nThe predictions are\n[1035000. 1465000. 1600000. 1876000. 1636000.]\n",
          "name": "stdout"
        }
      ]
    },
    {
      "metadata": {
        "_cell_guid": "ab6189e0-8a2c-4cc2-89dc-ac71ffac5e7c",
        "_uuid": "ee8a624a186babbcdc09655089ba2067e206118e"
      },
      "cell_type": "markdown",
      "source": "# Your Turn\nTry it out yourself in the **[Model Building Exercise](https://www.kaggle.com/kernels/fork/400771)**\n\n\n---\n**[Course Home Page](https://www.kaggle.com/learn/machine-learning)**\n"
    }
  ],
  "metadata": {
    "kernelspec": {
      "display_name": "Python 3",
      "language": "python",
      "name": "python3"
    },
    "language_info": {
      "name": "python",
      "version": "3.6.6",
      "mimetype": "text/x-python",
      "codemirror_mode": {
        "name": "ipython",
        "version": 3
      },
      "pygments_lexer": "ipython3",
      "nbconvert_exporter": "python",
      "file_extension": ".py"
    }
  },
  "nbformat": 4,
  "nbformat_minor": 1
}