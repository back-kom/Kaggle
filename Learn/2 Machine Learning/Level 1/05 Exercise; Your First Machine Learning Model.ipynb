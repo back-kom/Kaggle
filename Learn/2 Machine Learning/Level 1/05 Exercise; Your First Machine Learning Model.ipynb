{
  "cells": [
    {
      "metadata": {
        "_uuid": "2cbac3fb03ecf8947fac1ad0f52eccebb7985dff"
      },
      "cell_type": "markdown",
      "source": "## Recap\nSo far, you have loaded your data and reviewed it with the following code. Run this cell to set up your coding environment where the previous step left off."
    },
    {
      "metadata": {
        "_uuid": "3a558a2f9a3fde195f85a186b40370530f658d63",
        "trusted": true
      },
      "cell_type": "code",
      "source": "# Code you have previously used to load data\nimport pandas as pd\n\n# Path of the file to read\niowa_file_path = '../input/home-data-for-ml-course/train.csv'\n\nhome_data = pd.read_csv(iowa_file_path)\n\n# Set up code checking\nfrom learntools.core import binder\nbinder.bind(globals())\nfrom learntools.machine_learning.ex3 import *\n\nprint(\"Setup Complete\")",
      "execution_count": null,
      "outputs": []
    },
    {
      "metadata": {
        "_uuid": "77e7a08e8c75dd41824e9fd760b4569ebf6de584"
      },
      "cell_type": "markdown",
      "source": "# Exercises\n\n## Step 1: Specify Prediction Target\nSelect the target variable, which corresponds to the sales price. Save this to a new variable called `y`. You'll need to print a list of the columns to find the name of the column you need.\n"
    },
    {
      "metadata": {
        "_uuid": "82f96ca1add9bf1ec25365ebeae7ebe56f311a60",
        "trusted": true
      },
      "cell_type": "code",
      "source": "# print the list of columns in the dataset to find the name of the prediction target\nhome_data.columns",
      "execution_count": null,
      "outputs": []
    },
    {
      "metadata": {
        "_uuid": "0a14520574d7b522a4881ea7c0baa6930ef550f7",
        "trusted": true
      },
      "cell_type": "code",
      "source": "y = home_data.SalePrice\nstep_1.check()",
      "execution_count": null,
      "outputs": []
    },
    {
      "metadata": {
        "_uuid": "5529a54d69381d68fb7a3a4d29b318db3c704e6d",
        "trusted": true
      },
      "cell_type": "code",
      "source": "# The lines below will show you a hint or the solution.\nstep_1.hint() \nstep_1.solution()\n",
      "execution_count": null,
      "outputs": []
    },
    {
      "metadata": {
        "_uuid": "9be530775115efc65c179e15ae6ac64a4d20c9af"
      },
      "cell_type": "markdown",
      "source": "## Step 2: Create X\nNow you will create a DataFrame called `X` holding the predictive features.\n\nSince you want only some columns from the original data, you'll first create a list with the names of the columns you want in `X`.\n\nYou'll use just the following columns in the list (you can copy and paste the whole list to save some typing, though you'll still need to add quotes):\n    * LotArea\n    * YearBuilt\n    * 1stFlrSF\n    * 2ndFlrSF\n    * FullBath\n    * BedroomAbvGr\n    * TotRmsAbvGrd\n\nAfter you've created that list of features, use it to create the DataFrame that you'll use to fit the model."
    },
    {
      "metadata": {
        "_uuid": "3c991db635be799a84f39bbc66f0b97c3c71ff96",
        "trusted": true
      },
      "cell_type": "code",
      "source": "# Create the list of features below\nfeature_names = ['LotArea', 'YearBuilt', '1stFlrSF', '2ndFlrSF', 'FullBath', 'BedroomAbvGr', 'TotRmsAbvGrd']\n\n# select data corresponding to features in feature_names\nX = home_data[feature_names]\n\nstep_2.check()",
      "execution_count": null,
      "outputs": []
    },
    {
      "metadata": {
        "_uuid": "9a6046fb817093c2a90b2f4df1ebe8641789d81a",
        "trusted": true
      },
      "cell_type": "code",
      "source": "step_2.hint()\nstep_2.solution()",
      "execution_count": null,
      "outputs": []
    },
    {
      "metadata": {
        "_uuid": "0ce8836393eb36ab2e754ecb2e49687683950619"
      },
      "cell_type": "markdown",
      "source": "## Review Data\nBefore building a model, take a quick look at **X** to verify it looks sensible"
    },
    {
      "metadata": {
        "_uuid": "a907f24127fadc966ba983b635bac4f516f5a98d",
        "trusted": true
      },
      "cell_type": "code",
      "source": "# Review data\n# print description or statistics from X\n# print(X)\nX.describe()\n\n# print the top few lines\n# print(X.head())\n# X.head()\n",
      "execution_count": null,
      "outputs": []
    },
    {
      "metadata": {
        "_uuid": "731b80ea12d5179ccaf15f4914b9f04a32f312cd"
      },
      "cell_type": "markdown",
      "source": "## Step 3: Specify and Fit Model\nCreate a `DecisionTreeRegressor` and save it iowa_model. Ensure you've done the relevant import from sklearn to run this command.\n\nThen fit the model you just created using the data in `X` and `y` that you saved above."
    },
    {
      "metadata": {
        "_uuid": "4af98bedb0cf7be8c5d7bd14f7a72c8c0204edb9",
        "trusted": true
      },
      "cell_type": "code",
      "source": "from sklearn.tree import DecisionTreeRegressor\n#specify the model. \n#For model reproducibility, set a numeric value for random_state when specifying the model\niowa_model = DecisionTreeRegressor(random_state=1)\n\n# Fit the model\niowa_model.fit(X, y)\n\nstep_3.check()",
      "execution_count": null,
      "outputs": []
    },
    {
      "metadata": {
        "_uuid": "ab92f217e5abf34ae5f16d8f15f0d3c5f33de2a9",
        "trusted": true
      },
      "cell_type": "code",
      "source": "step_3.hint()\nstep_3.solution()",
      "execution_count": null,
      "outputs": []
    },
    {
      "metadata": {
        "_uuid": "9bc231ca035fb707b1d031145e65a18c1cd57a9d"
      },
      "cell_type": "markdown",
      "source": "## Step 4: Make Predictions\nMake predictions with the model's `predict` command using `X` as the data. Save the results to a variable called `predictions`."
    },
    {
      "metadata": {
        "_uuid": "b6e596e7a9a7b4ed611c7d6fd0a5850460f2971d",
        "trusted": true
      },
      "cell_type": "code",
      "source": "print(X.head())\npredictions = iowa_model.predict(X)\nprint(predictions)\nstep_4.check()",
      "execution_count": null,
      "outputs": []
    },
    {
      "metadata": {
        "_uuid": "a7686cb011d13735a42d7ebcdd0bfadc9fdc444f",
        "trusted": true
      },
      "cell_type": "code",
      "source": "step_4.hint()\nstep_4.solution()",
      "execution_count": null,
      "outputs": []
    },
    {
      "metadata": {
        "_uuid": "3d37ccbc050cb18223c2569420adbea2fad9cd97"
      },
      "cell_type": "markdown",
      "source": "## Think About Your Results\n\nUse the `head` method to compare the top few predictions to the actual home values (in `y`) for those same homes. Anything surprising?\n\nYou'll understand why this happened if you keep going."
    },
    {
      "metadata": {
        "_uuid": "6ddc2ed5c7ce3e8c5b78d96b0ca68f4ccb3c97bf"
      },
      "cell_type": "markdown",
      "source": "\n## Keep Going\nYou've built a decision tree model.  It's natural to ask how accurate the model's predictions will be and how you can improve that. Learn how to do that with **[Model Validation](https://www.kaggle.com/dansbecker/model-validation)**.\n\n---\n**[Course Home Page](https://www.kaggle.com/learn/machine-learning)**\n\n\n"
    }
  ],
  "metadata": {
    "kernelspec": {
      "display_name": "Python 3",
      "language": "python",
      "name": "python3"
    },
    "language_info": {
      "name": "python",
      "version": "3.6.6",
      "mimetype": "text/x-python",
      "codemirror_mode": {
        "name": "ipython",
        "version": 3
      },
      "pygments_lexer": "ipython3",
      "nbconvert_exporter": "python",
      "file_extension": ".py"
    }
  },
  "nbformat": 4,
  "nbformat_minor": 1
}