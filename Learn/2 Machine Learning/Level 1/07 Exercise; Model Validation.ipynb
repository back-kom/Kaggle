{
  "cells": [
    {
      "metadata": {
        "_uuid": "36f169b364dfd3b00f0df23f2041d17bd82931c2"
      },
      "cell_type": "markdown",
      "source": "## Recap\nYou've built a model. In this exercise you will test how good your model is.\n\nRun the cell below to set up your coding environment where the previous exercise left off."
    },
    {
      "metadata": {
        "_uuid": "43364746fb79164d84d0c11baa133a1297d09c60",
        "trusted": true
      },
      "cell_type": "code",
      "source": "# Code you have previously used to load data\nimport pandas as pd\nfrom sklearn.tree import DecisionTreeRegressor\n\n# Path of the file to read\niowa_file_path = '../input/home-data-for-ml-course/train.csv'\n\nhome_data = pd.read_csv(iowa_file_path)\ny = home_data.SalePrice\nfeature_columns = ['LotArea', 'YearBuilt', '1stFlrSF', '2ndFlrSF', 'FullBath', 'BedroomAbvGr', 'TotRmsAbvGrd']\nX = home_data[feature_columns]\n\n# Specify Model\niowa_model = DecisionTreeRegressor()\n# Fit Model\niowa_model.fit(X, y)\n\nprint(\"First in-sample predictions:\", iowa_model.predict(X.head()))\nprint(\"Actual target values for those homes:\", y.head().tolist())\n\n# Set up code checking\nfrom learntools.core import binder\nbinder.bind(globals())\nfrom learntools.machine_learning.ex4 import *\nprint(\"Setup Complete\")",
      "execution_count": null,
      "outputs": []
    },
    {
      "metadata": {
        "_uuid": "984a9e1b16ed286ad7962e3b9effb9611a37b649"
      },
      "cell_type": "markdown",
      "source": "# Exercises\n\n## Step 1: Split Your Data\nUse the `train_test_split` function to split up your data.\n\nGive it the argument `random_state=1` so the `check` functions know what to expect when verifying your code.\n\nRecall, your features are loaded in the DataFrame **X** and your target is loaded in **y**.\n"
    },
    {
      "metadata": {
        "_uuid": "c4115ce19ac1d213d4c46664c15198260481acaa",
        "trusted": true
      },
      "cell_type": "code",
      "source": "# Import the train_test_split function\nfrom sklearn.model_selection import train_test_split\n\ntrain_X, val_X, train_y, val_y = train_test_split(X, y, random_state = 1)\n\nstep_1.check()",
      "execution_count": null,
      "outputs": []
    },
    {
      "metadata": {
        "_uuid": "90c3b11840a65cc6974e6f4589183deae969d200",
        "trusted": true
      },
      "cell_type": "code",
      "source": "# The lines below will show you a hint or the solution.\nstep_1.hint() \nstep_1.solution()\n",
      "execution_count": null,
      "outputs": []
    },
    {
      "metadata": {
        "_uuid": "dce415fd1b1472cd00753dc2845c7c7640f60adb"
      },
      "cell_type": "markdown",
      "source": "## Step 2: Specify and Fit the Model\n\nCreate a `DecisionTreeRegressor` model and fit it to the relevant data.\nSet `random_state` to 1 again when creating the model."
    },
    {
      "metadata": {
        "_uuid": "46d3625c43168871b43a93c6dd5d1f4a614d3996",
        "trusted": true
      },
      "cell_type": "code",
      "source": "# You imported DecisionTreeRegressor in your last exercise\n# and that code has been copied to the setup code above. So, no need to\n# import it again\n\n# Specify the model\niowa_model = DecisionTreeRegressor(random_state=1)\n\n# Fit iowa_model with the training data.\niowa_model.fit(train_X, train_y)\nstep_2.check()",
      "execution_count": null,
      "outputs": []
    },
    {
      "metadata": {
        "_uuid": "594873dbd4c0647c57d506625d841b37440e8884",
        "trusted": true
      },
      "cell_type": "code",
      "source": "step_2.hint()\nstep_2.solution()",
      "execution_count": null,
      "outputs": []
    },
    {
      "metadata": {
        "_uuid": "7050d210ea2693a4636590dbed7ea42a0b84c9d0"
      },
      "cell_type": "markdown",
      "source": "## Step 3: Make Predictions with Validation data\n"
    },
    {
      "metadata": {
        "_uuid": "b66ad6d5f97d29e5724ec2a63cb211f22fb68ea4",
        "trusted": true
      },
      "cell_type": "code",
      "source": "# Predict with all validation observations\nval_predictions = iowa_model.predict(val_X)\nstep_3.check()",
      "execution_count": null,
      "outputs": []
    },
    {
      "metadata": {
        "_uuid": "37ec0986fdab96f63d097a7a9d5d9b2ac91056ab",
        "trusted": true
      },
      "cell_type": "code",
      "source": "step_3.hint()\nstep_3.solution()",
      "execution_count": null,
      "outputs": []
    },
    {
      "metadata": {
        "_uuid": "15ac6dd7c2283ea189681862e823eb84f0e32eee"
      },
      "cell_type": "markdown",
      "source": "Inspect your predictions and actual values from validation data."
    },
    {
      "metadata": {
        "_uuid": "6be61c072320b390413fa549974844f3e3aafdcf",
        "trusted": true,
        "_kg_hide-output": false,
        "_kg_hide-input": false,
        "scrolled": true
      },
      "cell_type": "code",
      "source": "# print the top few validation predictions\nprint(val_predictions)\n# print the top few actual prices from validation data\nprint(val_y)",
      "execution_count": null,
      "outputs": []
    },
    {
      "metadata": {
        "_uuid": "26503950905d9c7c04154eddbe12e209cc4b9170"
      },
      "cell_type": "markdown",
      "source": "What do you notice that is different from what you saw with in-sample predictions (which are printed after the top code cell in this page).\n\nDo you remember why validation predictions differ from in-sample (or training) predictions? This is an important idea from the last lesson.\n\n## Step 4: Calculate the Mean Absolute Error in Validation Data\n"
    },
    {
      "metadata": {
        "_uuid": "b00393679dfc8a1bdc0f7ef7515d30d6c5e09bec",
        "trusted": true
      },
      "cell_type": "code",
      "source": "from sklearn.metrics import mean_absolute_error\nval_mae = mean_absolute_error(val_y, val_predictions)\n\n# uncomment following line to see the validation_mae\nprint(val_mae)\nstep_4.check()",
      "execution_count": null,
      "outputs": []
    },
    {
      "metadata": {
        "_uuid": "352bf05d52c5dc7634c07958454ee9d9efb577d1",
        "trusted": true
      },
      "cell_type": "code",
      "source": "step_4.hint()\nstep_4.solution()",
      "execution_count": null,
      "outputs": []
    },
    {
      "metadata": {
        "_uuid": "e6b4177e724dd16de497cd11f8cffbdda2826206"
      },
      "cell_type": "markdown",
      "source": "Is that MAE good?  There isn't a general rule for what values are good that applies across applications. But you'll see how to use this number in the next step."
    },
    {
      "metadata": {
        "_uuid": "84e273e7b1bd486acdbf2e63bea6c326fc30da5f"
      },
      "cell_type": "markdown",
      "source": "# Keep Going\n\nNow that you can measure model performance, you are ready to run some experiments comparing different models. The key is to understand **[Underfitting and Overfitting](https://www.kaggle.com/dansbecker/underfitting-and-overfitting)**. It's an especially fun part of machine learning. \n\n---\n**[Course Home Page](https://www.kaggle.com/learn/machine-learning)**\n\n\n"
    }
  ],
  "metadata": {
    "kernelspec": {
      "display_name": "Python 3",
      "language": "python",
      "name": "python3"
    },
    "language_info": {
      "name": "python",
      "version": "3.6.6",
      "mimetype": "text/x-python",
      "codemirror_mode": {
        "name": "ipython",
        "version": 3
      },
      "pygments_lexer": "ipython3",
      "nbconvert_exporter": "python",
      "file_extension": ".py"
    }
  },
  "nbformat": 4,
  "nbformat_minor": 1
}