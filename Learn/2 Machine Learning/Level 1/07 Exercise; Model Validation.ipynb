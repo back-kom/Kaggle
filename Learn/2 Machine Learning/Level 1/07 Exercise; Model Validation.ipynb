{
  "cells": [
    {
      "metadata": {
        "_uuid": "36f169b364dfd3b00f0df23f2041d17bd82931c2"
      },
      "cell_type": "markdown",
      "source": "## Recap\nYou've built a model. In this exercise you will test how good your model is.\n\nRun the cell below to set up your coding environment where the previous exercise left off."
    },
    {
      "metadata": {
        "_uuid": "43364746fb79164d84d0c11baa133a1297d09c60",
        "trusted": true
      },
      "cell_type": "code",
      "source": "# Code you have previously used to load data\nimport pandas as pd\nfrom sklearn.tree import DecisionTreeRegressor\n\n# Path of the file to read\niowa_file_path = '../input/home-data-for-ml-course/train.csv'\n\nhome_data = pd.read_csv(iowa_file_path)\ny = home_data.SalePrice\nfeature_columns = ['LotArea', 'YearBuilt', '1stFlrSF', '2ndFlrSF', 'FullBath', 'BedroomAbvGr', 'TotRmsAbvGrd']\nX = home_data[feature_columns]\n\n# Specify Model\niowa_model = DecisionTreeRegressor()\n# Fit Model\niowa_model.fit(X, y)\n\nprint(\"First in-sample predictions:\", iowa_model.predict(X.head()))\nprint(\"Actual target values for those homes:\", y.head().tolist())\n\n# Set up code checking\nfrom learntools.core import binder\nbinder.bind(globals())\nfrom learntools.machine_learning.ex4 import *\nprint(\"Setup Complete\")",
      "execution_count": 1,
      "outputs": [
        {
          "output_type": "stream",
          "text": "First in-sample predictions: [208500. 181500. 223500. 140000. 250000.]\nActual target values for those homes: [208500, 181500, 223500, 140000, 250000]\nSetup Complete\n",
          "name": "stdout"
        }
      ]
    },
    {
      "metadata": {
        "_uuid": "984a9e1b16ed286ad7962e3b9effb9611a37b649"
      },
      "cell_type": "markdown",
      "source": "# Exercises\n\n## Step 1: Split Your Data\nUse the `train_test_split` function to split up your data.\n\nGive it the argument `random_state=1` so the `check` functions know what to expect when verifying your code.\n\nRecall, your features are loaded in the DataFrame **X** and your target is loaded in **y**.\n"
    },
    {
      "metadata": {
        "_uuid": "c4115ce19ac1d213d4c46664c15198260481acaa",
        "trusted": true
      },
      "cell_type": "code",
      "source": "# Import the train_test_split function\nfrom sklearn.model_selection import train_test_split\n\ntrain_X, val_X, train_y, val_y = train_test_split(X, y, random_state = 1)\n\nstep_1.check()",
      "execution_count": 2,
      "outputs": [
        {
          "output_type": "display_data",
          "data": {
            "text/plain": "<IPython.core.display.Javascript object>",
            "application/javascript": "parent.postMessage({\"jupyterEvent\": \"custom.exercise_interaction\", \"data\": {\"outcomeType\": 1, \"valueTowardsCompletion\": 0.25, \"interactionType\": 1, \"learnTutorialId\": 119, \"questionId\": \"1_SplitData\", \"learnToolsVersion\": \"0.2.6\", \"failureMessage\": \"\", \"exceptionClass\": \"\", \"trace\": \"\"}}, \"*\")"
          },
          "metadata": {}
        },
        {
          "output_type": "display_data",
          "data": {
            "text/plain": "Correct",
            "text/markdown": "<span style=\"color:#33cc33\">Correct</span>"
          },
          "metadata": {}
        }
      ]
    },
    {
      "metadata": {
        "_uuid": "90c3b11840a65cc6974e6f4589183deae969d200",
        "trusted": true
      },
      "cell_type": "code",
      "source": "# The lines below will show you a hint or the solution.\nstep_1.hint() \nstep_1.solution()\n",
      "execution_count": 3,
      "outputs": [
        {
          "output_type": "display_data",
          "data": {
            "text/plain": "<IPython.core.display.Javascript object>",
            "application/javascript": "parent.postMessage({\"jupyterEvent\": \"custom.exercise_interaction\", \"data\": {\"interactionType\": 2, \"learnTutorialId\": 119, \"questionId\": \"1_SplitData\", \"learnToolsVersion\": \"0.2.6\", \"valueTowardsCompletion\": 0.0, \"failureMessage\": \"\", \"exceptionClass\": \"\", \"trace\": \"\", \"outcomeType\": 4}}, \"*\")"
          },
          "metadata": {}
        },
        {
          "output_type": "display_data",
          "data": {
            "text/plain": "Hint: The function you need to import is part of sklearn. When calling the function, the arguments are X and y. Ensure you set the random_state to 1.",
            "text/markdown": "<span style=\"color:#3366cc\">Hint:</span> The function you need to import is part of sklearn. When calling the function, the arguments are X and y. Ensure you set the random_state to 1."
          },
          "metadata": {}
        },
        {
          "output_type": "display_data",
          "data": {
            "text/plain": "<IPython.core.display.Javascript object>",
            "application/javascript": "parent.postMessage({\"jupyterEvent\": \"custom.exercise_interaction\", \"data\": {\"interactionType\": 3, \"learnTutorialId\": 119, \"questionId\": \"1_SplitData\", \"learnToolsVersion\": \"0.2.6\", \"valueTowardsCompletion\": 0.0, \"failureMessage\": \"\", \"exceptionClass\": \"\", \"trace\": \"\", \"outcomeType\": 4}}, \"*\")"
          },
          "metadata": {}
        },
        {
          "output_type": "display_data",
          "data": {
            "text/plain": "Solution: \n```python\nfrom sklearn.model_selection import train_test_split\ntrain_x, val_X, train_y, val_y = train_test_split(X, y, random_state=1)\n```",
            "text/markdown": "<span style=\"color:#33cc99\">Solution:</span> \n```python\nfrom sklearn.model_selection import train_test_split\ntrain_x, val_X, train_y, val_y = train_test_split(X, y, random_state=1)\n```"
          },
          "metadata": {}
        }
      ]
    },
    {
      "metadata": {
        "_uuid": "dce415fd1b1472cd00753dc2845c7c7640f60adb"
      },
      "cell_type": "markdown",
      "source": "## Step 2: Specify and Fit the Model\n\nCreate a `DecisionTreeRegressor` model and fit it to the relevant data.\nSet `random_state` to 1 again when creating the model."
    },
    {
      "metadata": {
        "_uuid": "46d3625c43168871b43a93c6dd5d1f4a614d3996",
        "trusted": true
      },
      "cell_type": "code",
      "source": "# You imported DecisionTreeRegressor in your last exercise\n# and that code has been copied to the setup code above. So, no need to\n# import it again\n\n# Specify the model\niowa_model = DecisionTreeRegressor(random_state=1)\n\n# Fit iowa_model with the training data.\niowa_model.fit(train_X, train_y)\nstep_2.check()",
      "execution_count": 4,
      "outputs": [
        {
          "output_type": "stream",
          "text": "[186500. 184000. 130000.  92000. 164500. 220000. 335000. 144152. 215000.\n 262000.]\n[186500. 184000. 130000.  92000. 164500. 220000. 335000. 144152. 215000.\n 262000.]\n",
          "name": "stdout"
        },
        {
          "output_type": "display_data",
          "data": {
            "text/plain": "<IPython.core.display.Javascript object>",
            "application/javascript": "parent.postMessage({\"jupyterEvent\": \"custom.exercise_interaction\", \"data\": {\"outcomeType\": 1, \"valueTowardsCompletion\": 0.25, \"interactionType\": 1, \"learnTutorialId\": 119, \"questionId\": \"2_FitModelWithTrain\", \"learnToolsVersion\": \"0.2.6\", \"failureMessage\": \"\", \"exceptionClass\": \"\", \"trace\": \"\"}}, \"*\")"
          },
          "metadata": {}
        },
        {
          "output_type": "display_data",
          "data": {
            "text/plain": "Correct",
            "text/markdown": "<span style=\"color:#33cc33\">Correct</span>"
          },
          "metadata": {}
        }
      ]
    },
    {
      "metadata": {
        "_uuid": "594873dbd4c0647c57d506625d841b37440e8884",
        "trusted": true
      },
      "cell_type": "code",
      "source": "step_2.hint()\nstep_2.solution()",
      "execution_count": 5,
      "outputs": [
        {
          "output_type": "display_data",
          "data": {
            "text/plain": "<IPython.core.display.Javascript object>",
            "application/javascript": "parent.postMessage({\"jupyterEvent\": \"custom.exercise_interaction\", \"data\": {\"interactionType\": 2, \"learnTutorialId\": 119, \"questionId\": \"2_FitModelWithTrain\", \"learnToolsVersion\": \"0.2.6\", \"valueTowardsCompletion\": 0.0, \"failureMessage\": \"\", \"exceptionClass\": \"\", \"trace\": \"\", \"outcomeType\": 4}}, \"*\")"
          },
          "metadata": {}
        },
        {
          "output_type": "display_data",
          "data": {
            "text/plain": "Hint: Remember, you fit with training data. You will test with validation data soon",
            "text/markdown": "<span style=\"color:#3366cc\">Hint:</span> Remember, you fit with training data. You will test with validation data soon"
          },
          "metadata": {}
        },
        {
          "output_type": "display_data",
          "data": {
            "text/plain": "<IPython.core.display.Javascript object>",
            "application/javascript": "parent.postMessage({\"jupyterEvent\": \"custom.exercise_interaction\", \"data\": {\"interactionType\": 3, \"learnTutorialId\": 119, \"questionId\": \"2_FitModelWithTrain\", \"learnToolsVersion\": \"0.2.6\", \"valueTowardsCompletion\": 0.0, \"failureMessage\": \"\", \"exceptionClass\": \"\", \"trace\": \"\", \"outcomeType\": 4}}, \"*\")"
          },
          "metadata": {}
        },
        {
          "output_type": "display_data",
          "data": {
            "text/plain": "Solution: \n```python\niowa_model = DecisionTreeRegressor(random_state=1)\niowa_model.fit(train_X, train_y)\n```",
            "text/markdown": "<span style=\"color:#33cc99\">Solution:</span> \n```python\niowa_model = DecisionTreeRegressor(random_state=1)\niowa_model.fit(train_X, train_y)\n```"
          },
          "metadata": {}
        }
      ]
    },
    {
      "metadata": {
        "_uuid": "7050d210ea2693a4636590dbed7ea42a0b84c9d0"
      },
      "cell_type": "markdown",
      "source": "## Step 3: Make Predictions with Validation data\n"
    },
    {
      "metadata": {
        "_uuid": "b66ad6d5f97d29e5724ec2a63cb211f22fb68ea4",
        "trusted": true
      },
      "cell_type": "code",
      "source": "# Predict with all validation observations\nval_predictions = iowa_model.predict(val_X)\nstep_3.check()",
      "execution_count": 6,
      "outputs": [
        {
          "output_type": "display_data",
          "data": {
            "text/plain": "<IPython.core.display.Javascript object>",
            "application/javascript": "parent.postMessage({\"jupyterEvent\": \"custom.exercise_interaction\", \"data\": {\"outcomeType\": 1, \"valueTowardsCompletion\": 0.25, \"interactionType\": 1, \"learnTutorialId\": 119, \"questionId\": \"3_ValPreds\", \"learnToolsVersion\": \"0.2.6\", \"failureMessage\": \"\", \"exceptionClass\": \"\", \"trace\": \"\"}}, \"*\")"
          },
          "metadata": {}
        },
        {
          "output_type": "display_data",
          "data": {
            "text/plain": "Correct",
            "text/markdown": "<span style=\"color:#33cc33\">Correct</span>"
          },
          "metadata": {}
        }
      ]
    },
    {
      "metadata": {
        "_uuid": "37ec0986fdab96f63d097a7a9d5d9b2ac91056ab",
        "trusted": true
      },
      "cell_type": "code",
      "source": "step_3.hint()\nstep_3.solution()",
      "execution_count": 7,
      "outputs": [
        {
          "output_type": "display_data",
          "data": {
            "text/plain": "<IPython.core.display.Javascript object>",
            "application/javascript": "parent.postMessage({\"jupyterEvent\": \"custom.exercise_interaction\", \"data\": {\"interactionType\": 2, \"learnTutorialId\": 119, \"questionId\": \"3_ValPreds\", \"learnToolsVersion\": \"0.2.6\", \"valueTowardsCompletion\": 0.0, \"failureMessage\": \"\", \"exceptionClass\": \"\", \"trace\": \"\", \"outcomeType\": 4}}, \"*\")"
          },
          "metadata": {}
        },
        {
          "output_type": "display_data",
          "data": {
            "text/plain": "Hint: Run predict on the right validation data object.",
            "text/markdown": "<span style=\"color:#3366cc\">Hint:</span> Run predict on the right validation data object."
          },
          "metadata": {}
        },
        {
          "output_type": "display_data",
          "data": {
            "text/plain": "<IPython.core.display.Javascript object>",
            "application/javascript": "parent.postMessage({\"jupyterEvent\": \"custom.exercise_interaction\", \"data\": {\"interactionType\": 3, \"learnTutorialId\": 119, \"questionId\": \"3_ValPreds\", \"learnToolsVersion\": \"0.2.6\", \"valueTowardsCompletion\": 0.0, \"failureMessage\": \"\", \"exceptionClass\": \"\", \"trace\": \"\", \"outcomeType\": 4}}, \"*\")"
          },
          "metadata": {}
        },
        {
          "output_type": "display_data",
          "data": {
            "text/plain": "Solution: \n```python\nval_predictions = iowa_model.predict(val_X)\n```",
            "text/markdown": "<span style=\"color:#33cc99\">Solution:</span> \n```python\nval_predictions = iowa_model.predict(val_X)\n```"
          },
          "metadata": {}
        }
      ]
    },
    {
      "metadata": {
        "_uuid": "15ac6dd7c2283ea189681862e823eb84f0e32eee"
      },
      "cell_type": "markdown",
      "source": "Inspect your predictions and actual values from validation data."
    },
    {
      "metadata": {
        "_uuid": "6be61c072320b390413fa549974844f3e3aafdcf",
        "trusted": true,
        "_kg_hide-output": false,
        "_kg_hide-input": false,
        "scrolled": true
      },
      "cell_type": "code",
      "source": "# print the top few validation predictions\nprint(val_predictions)\n# print the top few actual prices from validation data\nprint(val_y)",
      "execution_count": 8,
      "outputs": [
        {
          "output_type": "stream",
          "text": "[186500. 184000. 130000.  92000. 164500. 220000. 335000. 144152. 215000.\n 262000. 180000. 121000. 175900. 210000. 248900. 131000. 100000. 149350.\n 235000. 156000. 149900. 265979. 193500. 377500. 100000. 162900. 145000.\n 180000. 582933. 146000. 140000.  91500. 112500. 113000. 145000. 312500.\n 110000. 132000. 305000. 128000. 162900. 115000. 110000. 124000. 215200.\n 180000.  79000. 192000. 282922. 235000. 132000. 325000.  80000. 237000.\n 208300. 100000. 120500. 162000. 153000. 187000. 185750. 335000. 129000.\n 124900. 185750. 133700. 127000. 230000. 146800. 157900. 136000. 153575.\n 335000. 177500. 143000. 202500. 168500. 105000. 305900. 192000. 190000.\n 140200. 134900. 128950. 213000. 108959. 149500. 190000. 175900. 160000.\n 250580. 157000. 120500. 147500. 118000. 117000. 110000. 130000. 148500.\n 148000. 190000. 130500. 127000. 120500. 135000. 168000. 176432. 128000.\n 147000. 260000. 132000. 129500. 171000. 181134. 227875. 189000. 282922.\n  94750. 185000. 194000. 159000. 279500. 290000. 135000. 299800. 165000.\n 394432. 135750. 155000. 212000. 310000. 134800.  84000. 122900.  80000.\n 191000. 755000. 147000. 248000. 106500. 145000. 359100. 145000. 192500.\n 149000. 252000. 109000. 215000. 220000. 138500. 185000. 185000. 120500.\n 181000. 173000. 335000.  67000. 149350.  67000. 156000. 119000. 110500.\n 184000. 147000. 156000. 171000. 177000. 159000. 125000. 105000. 284000.\n 167500. 200000. 312500. 213000. 135960. 205000. 237000. 107000. 163000.\n 132500. 155835. 165500. 138500. 257000. 160000. 394617. 281213. 161000.\n 127500.  88000. 139000.  89500. 132500. 134800. 335000. 248900. 155000.\n 147000.  86000. 185000. 200000. 180500. 215200. 319900. 105000. 194000.\n 340000. 256000. 280000. 186500. 105500. 155000. 133500. 255500. 253000.\n 130000.  92900. 256000. 100000. 755000. 138500. 168500. 112000. 127000.\n 109008. 197000. 245500. 171900. 162000. 128000. 173000. 132000. 118000.\n 235128. 118964. 260000. 116000. 185000. 315750. 236500. 140000. 151500.\n 184000.  84000. 130000. 154000. 205000. 110000. 151500. 123000. 129500.\n 173900. 181500. 165500. 106500. 184900.  84500. 377500. 118500. 180000.\n 190000. 208500. 181000.  98000. 157000. 151500.  84000. 139000. 100000.\n 161750. 165600. 116000. 118500. 187000. 147000. 112000. 132000. 230000.\n 128000. 147000. 125000. 145000. 151000. 284000. 221000. 140200. 129000.\n 290000. 105000.  96500. 310000. 140000. 132000. 203000. 221000. 215200.\n 214000. 139000.  91500. 148000. 155000. 115000. 180000. 165500. 223000.\n 139000. 179900. 150000. 185000. 163000. 176000. 127000. 227000. 146000.\n  99900. 275000. 180500. 180000. 157000. 186500. 179900. 137500. 219500.\n 155000. 345000. 197000. 205000. 159000. 159434. 156000. 196000. 252678.\n 255500. 213000. 150900. 143750. 139000. 260000. 189000. 213250. 207500.\n  80000. 221000. 109500. 155000. 165000. 149350. 204900. 105900. 155000.\n 176000. 395000. 149700. 147000. 143900. 226700. 176000. 116000. 325300.\n 133750. 188500. 148500. 284000. 201800.]\n258     231500\n267     179500\n288     122000\n649      84500\n1233    142000\n167     325624\n926     285000\n831     151000\n1237    195000\n426     275000\n487     175000\n375      61000\n1126    174000\n53      385000\n1033    230000\n1022     87000\n1215    125000\n91       98600\n1270    260000\n680     143000\n464     124000\n1416    122500\n730     236500\n994     337500\n383      76000\n992     187000\n531     128000\n742     179000\n798     485000\n432     122500\n         ...  \n1003    136905\n126     128000\n1206    107000\n718     341000\n1195    176000\n815     224900\n503     289000\n935      79900\n640     274000\n90      109900\n925     175000\n830     166000\n262     151000\n765     264132\n589      79500\n399     241000\n148     141000\n336     377426\n368     132000\n556     141000\n78      136500\n650     205950\n880     157000\n821      93000\n35      309000\n1017    187500\n534     178000\n1334    125000\n1369    232000\n628     135000\nName: SalePrice, Length: 365, dtype: int64\n",
          "name": "stdout"
        }
      ]
    },
    {
      "metadata": {
        "_uuid": "26503950905d9c7c04154eddbe12e209cc4b9170"
      },
      "cell_type": "markdown",
      "source": "What do you notice that is different from what you saw with in-sample predictions (which are printed after the top code cell in this page).\n\nDo you remember why validation predictions differ from in-sample (or training) predictions? This is an important idea from the last lesson.\n\n## Step 4: Calculate the Mean Absolute Error in Validation Data\n"
    },
    {
      "metadata": {
        "_uuid": "b00393679dfc8a1bdc0f7ef7515d30d6c5e09bec",
        "trusted": true
      },
      "cell_type": "code",
      "source": "from sklearn.metrics import mean_absolute_error\nval_mae = mean_absolute_error(val_y, val_predictions)\n\n# uncomment following line to see the validation_mae\nprint(val_mae)\nstep_4.check()",
      "execution_count": 9,
      "outputs": [
        {
          "output_type": "stream",
          "text": "29652.931506849316\n",
          "name": "stdout"
        },
        {
          "output_type": "display_data",
          "data": {
            "text/plain": "<IPython.core.display.Javascript object>",
            "application/javascript": "parent.postMessage({\"jupyterEvent\": \"custom.exercise_interaction\", \"data\": {\"outcomeType\": 1, \"valueTowardsCompletion\": 0.25, \"interactionType\": 1, \"learnTutorialId\": 119, \"questionId\": \"4_MAE\", \"learnToolsVersion\": \"0.2.6\", \"failureMessage\": \"\", \"exceptionClass\": \"\", \"trace\": \"\"}}, \"*\")"
          },
          "metadata": {}
        },
        {
          "output_type": "display_data",
          "data": {
            "text/plain": "Correct",
            "text/markdown": "<span style=\"color:#33cc33\">Correct</span>"
          },
          "metadata": {}
        }
      ]
    },
    {
      "metadata": {
        "_uuid": "352bf05d52c5dc7634c07958454ee9d9efb577d1",
        "trusted": true
      },
      "cell_type": "code",
      "source": "step_4.hint()\nstep_4.solution()",
      "execution_count": 10,
      "outputs": [
        {
          "output_type": "display_data",
          "data": {
            "text/plain": "<IPython.core.display.Javascript object>",
            "application/javascript": "parent.postMessage({\"jupyterEvent\": \"custom.exercise_interaction\", \"data\": {\"interactionType\": 2, \"learnTutorialId\": 119, \"questionId\": \"4_MAE\", \"learnToolsVersion\": \"0.2.6\", \"valueTowardsCompletion\": 0.0, \"failureMessage\": \"\", \"exceptionClass\": \"\", \"trace\": \"\", \"outcomeType\": 4}}, \"*\")"
          },
          "metadata": {}
        },
        {
          "output_type": "display_data",
          "data": {
            "text/plain": "Hint: The order of arguments to mean_absolute_error doesn't matter. Make sure you fit to only the training data in step 2.",
            "text/markdown": "<span style=\"color:#3366cc\">Hint:</span> The order of arguments to mean_absolute_error doesn't matter. Make sure you fit to only the training data in step 2."
          },
          "metadata": {}
        },
        {
          "output_type": "display_data",
          "data": {
            "text/plain": "<IPython.core.display.Javascript object>",
            "application/javascript": "parent.postMessage({\"jupyterEvent\": \"custom.exercise_interaction\", \"data\": {\"interactionType\": 3, \"learnTutorialId\": 119, \"questionId\": \"4_MAE\", \"learnToolsVersion\": \"0.2.6\", \"valueTowardsCompletion\": 0.0, \"failureMessage\": \"\", \"exceptionClass\": \"\", \"trace\": \"\", \"outcomeType\": 4}}, \"*\")"
          },
          "metadata": {}
        },
        {
          "output_type": "display_data",
          "data": {
            "text/plain": "Solution: \n```python\nval_mae = mean_absolute_error(val_predictions, val_y)\n```",
            "text/markdown": "<span style=\"color:#33cc99\">Solution:</span> \n```python\nval_mae = mean_absolute_error(val_predictions, val_y)\n```"
          },
          "metadata": {}
        }
      ]
    },
    {
      "metadata": {
        "_uuid": "e6b4177e724dd16de497cd11f8cffbdda2826206"
      },
      "cell_type": "markdown",
      "source": "Is that MAE good?  There isn't a general rule for what values are good that applies across applications. But you'll see how to use this number in the next step."
    },
    {
      "metadata": {
        "_uuid": "84e273e7b1bd486acdbf2e63bea6c326fc30da5f"
      },
      "cell_type": "markdown",
      "source": "# Keep Going\n\nNow that you can measure model performance, you are ready to run some experiments comparing different models. The key is to understand **[Underfitting and Overfitting](https://www.kaggle.com/dansbecker/underfitting-and-overfitting)**. It's an especially fun part of machine learning. \n\n---\n**[Course Home Page](https://www.kaggle.com/learn/machine-learning)**\n\n\n"
    }
  ],
  "metadata": {
    "kernelspec": {
      "display_name": "Python 3",
      "language": "python",
      "name": "python3"
    },
    "language_info": {
      "name": "python",
      "version": "3.6.6",
      "mimetype": "text/x-python",
      "codemirror_mode": {
        "name": "ipython",
        "version": 3
      },
      "pygments_lexer": "ipython3",
      "nbconvert_exporter": "python",
      "file_extension": ".py"
    }
  },
  "nbformat": 4,
  "nbformat_minor": 1
}