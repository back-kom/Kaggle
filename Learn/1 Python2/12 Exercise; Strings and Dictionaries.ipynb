{
  "cells": [
    {
      "metadata": {
        "_uuid": "7a7fff807762a01eacbb04564583f830f4560c7a"
      },
      "cell_type": "markdown",
      "source": "These exercises accompany the tutorial on [strings and dictionaries](https://www.kaggle.com/colinmorris/strings-and-dictionaries).\n\nRun the setup code below before working on the questions (and run it again if you leave this notebook and come back later)."
    },
    {
      "metadata": {
        "_uuid": "12ad0ec88341613143e44ba980429248fbf09992",
        "trusted": true
      },
      "cell_type": "code",
      "source": "# SETUP. You don't need to worry for now about what this code does or how it works. If you're ever curious about the \n# code behind these exercises, it's available under an open source license here: https://github.com/Kaggle/learntools/\nfrom learntools.core import binder; binder.bind(globals())\nfrom learntools.python.ex6 import *\nprint('Setup complete.')",
      "execution_count": null,
      "outputs": []
    },
    {
      "metadata": {
        "_uuid": "ad7ba29b1eb770696c99076f3c1dc2a3d7bb5322"
      },
      "cell_type": "markdown",
      "source": "# Exercises"
    },
    {
      "metadata": {
        "_uuid": "55fc655c7189352a5e79bdd71a9c5a474ce778b8"
      },
      "cell_type": "markdown",
      "source": "## 0. \n\nLet's start with a string lightning round to warm up. What are the lengths of the strings below?\n\nFor each of the five strings below, predict what `len()` would return when passed that string. Use the variable `length` to record your answer, then run the cell to check whether you were right."
    },
    {
      "metadata": {
        "_uuid": "cc48104def2f1b327ae44fe8b873031549fcbd69",
        "trusted": true
      },
      "cell_type": "code",
      "source": "a = \"\"\nlength = 0\nq0.a.check()",
      "execution_count": null,
      "outputs": []
    },
    {
      "metadata": {
        "_uuid": "65d7425f369fa38b7ea3fa7af4f06a9c9df3f3ea",
        "trusted": true
      },
      "cell_type": "code",
      "source": "b = \"it's ok\"\nlength = 7\nq0.b.check()",
      "execution_count": null,
      "outputs": []
    },
    {
      "metadata": {
        "_uuid": "d45d8fa3f92c246c441206267dcd48c9a7e5ab66",
        "trusted": true
      },
      "cell_type": "code",
      "source": "c = 'it\\'s ok'\nlength = 7\nq0.c.check()",
      "execution_count": null,
      "outputs": []
    },
    {
      "metadata": {
        "_uuid": "93615d3004633f50a82adc21ac1d9ba06e138539",
        "trusted": true
      },
      "cell_type": "code",
      "source": "d = \"\"\"hey\"\"\"\nlength = 3\nq0.d.check()",
      "execution_count": null,
      "outputs": []
    },
    {
      "metadata": {
        "_uuid": "ca7e212a8a1a67063c20218e2f0a9ccc117d28cf",
        "trusted": true
      },
      "cell_type": "code",
      "source": "e = '\\n'\nlength = 1\nq0.e.check()",
      "execution_count": null,
      "outputs": []
    },
    {
      "metadata": {
        "_uuid": "0d995053ab7d64d0522a85685f310954b5fbdd9d"
      },
      "cell_type": "markdown",
      "source": "## 1.\n\nThere is a saying that \"Data scientists spend 80% of their time cleaning data, and 20% of their time complaining about cleaning data.\" Let's see if you can write a function to help clean US zip code data. Given a string, it should return whether or not that string represents a valid zip code. For our purposes, a valid zip code is any string consisting of exactly 5 digits.\n\nHINT: `str` has a method that will be useful here. Use `help(str)` to review a list of string methods."
    },
    {
      "metadata": {
        "_uuid": "2167d170c1d0b1895156d03aa82dc50567ff586c",
        "trusted": true
      },
      "cell_type": "code",
      "source": "def is_valid_zip(zip_code):\n    \"\"\"Returns whether the input string is a valid (5 digit) zip code\n    \"\"\"\n    return len(zip_code) == 5 and zip_code.isdigit()\n# help(str)\nq1.check()",
      "execution_count": null,
      "outputs": []
    },
    {
      "metadata": {
        "_uuid": "1bee036f86bcb68be354201dd78774438239bfcd",
        "trusted": true
      },
      "cell_type": "code",
      "source": "q1.hint()\nq1.solution()",
      "execution_count": null,
      "outputs": []
    },
    {
      "metadata": {
        "_uuid": "d638d8ae5c71ef4f43c78c53c94afb7a1f94c5c7"
      },
      "cell_type": "markdown",
      "source": "## 2.\n\nA researcher has gathered thousands of news articles. But she wants to focus her attention on articles including a specific word. Complete the function below to help her filter her list of articles.\n\nYour function should meet the following criteria\n\n- Do not include documents where the keyword string shows up only as a part of a larger word. For example, if she were looking for the keyword “closed”, you would not include the string “enclosed.” \n- She does not want you to distinguish upper case from lower case letters. So the phrase “Closed the case.” would be included when the keyword is “closed”\n- Do not let periods or commas affect what is matched. “It is closed.” would be included when the keyword is “closed”. But you can assume there are no other types of punctuation."
    },
    {
      "metadata": {
        "_uuid": "2725a97904c05a43aace9266396fc25444d90ee4",
        "trusted": true
      },
      "cell_type": "code",
      "source": "def word_search(documents, keyword):\n    \"\"\"\n    Takes a list of documents (each document is a string) and a keyword. \n    Returns list of the index values into the original list for all documents \n    containing the keyword.\n\n    Example:\n    doc_list = [\"The Learn Python Challenge Casino.\", \"They bought a car\", \"Casinoville\"]\n    >>> word_search(doc_list, 'casino')\n    >>> [0]\n    \"\"\"\n    # list to hold the indices of matching documents\n    indices = [] \n    # Iterate through the indices (i) and elements (doc) of documents\n    for i, doc in enumerate(documents):\n        # Split the string doc into a list of words (according to whitespace)\n        tokens = doc.split()\n        # Make a transformed list where we 'normalize' each word to facilitate matching.\n        # Periods and commas are removed from the end of each word, and it's set to all lowercase.\n        normalized = [token.rstrip('.,').lower() for token in tokens]\n        # Is there a match? If so, update the list of matching indices.\n        if keyword.lower() in normalized:\n            indices.append(i)\n    return indices\n\n\nq2.check()",
      "execution_count": null,
      "outputs": []
    },
    {
      "metadata": {
        "_uuid": "14c63c3af1f72a9404acbda6cd107e77ce70d4ff",
        "trusted": true
      },
      "cell_type": "code",
      "source": "q2.hint()\nq2.solution()",
      "execution_count": null,
      "outputs": []
    },
    {
      "metadata": {
        "_uuid": "ded72dfeb753327481650f29e6e7956ef6cb7e3b"
      },
      "cell_type": "markdown",
      "source": "## 3.\n\nNow the researcher wants to supply multiple keywords to search for. Complete the function below to help her.\n\n(You're encouraged to use the `word_search` function you just wrote when implementing this function. Reusing code in this way makes your programs more robust and readable - and it saves typing!)"
    },
    {
      "metadata": {
        "_uuid": "68a36ae23ba25b840f7146aa8aea77387e489ad8",
        "trusted": true
      },
      "cell_type": "code",
      "source": "def multi_word_search(documents, keywords):\n    \"\"\"\n    Takes list of documents (each document is a string) and a list of keywords.  \n    Returns a dictionary where each key is a keyword, and the value is a list of indices\n    (from doc_list) of the documents containing that keyword\n\n    >>> doc_list = [\"The Learn Python Challenge Casino.\", \"They bought a car and a casino\", \"Casinoville\"]\n    >>> keywords = ['casino', 'they']\n    >>> multi_word_search(doc_list, keywords)\n    {'casino': [0, 1], 'they': [1]}\n    \"\"\"\n    keyword_to_indices = {}\n    for keyword in keywords:\n        keyword_to_indices[keyword] = word_search(documents, keyword)\n    return keyword_to_indices\n\n\nq3.check()",
      "execution_count": null,
      "outputs": []
    },
    {
      "metadata": {
        "_uuid": "e74b25905bbc4965390c6fac794a806d7cfcb406",
        "trusted": true
      },
      "cell_type": "code",
      "source": "q3.solution()",
      "execution_count": null,
      "outputs": []
    },
    {
      "metadata": {
        "_uuid": "2b5e648b1e6b2c2e089620c70f20cab3cecefd7a"
      },
      "cell_type": "markdown",
      "source": "## 4. <span title=\"Spicy\" style=\"color: coral\">🌶️🌶️</span>\n\nDiamonds are beautiful, but they are just so expensive. Write a python program to create counterfeit ASCII diamonds such as the following:\n```\n    /\\\n   //\\\\\n  ///\\\\\\\n ////\\\\\\\\\n/////\\\\\\\\\\\n\\\\\\\\\\/////\n \\\\\\\\////\n  \\\\\\///\n   \\\\//\n    \\/\n```\n\nYour function should allow the caller to choose the size of the diamond (in terms of number of lines). The above diamond has a height of 10. Here's a 4-line diamond:\n\n```\n /\\ \n//\\\\\n\\\\//\n \\/ \n```\n\n(You can assume your function will only be called with even numbers)"
    },
    {
      "metadata": {
        "_uuid": "84692f52ec1229774ab9c8256284c4016b34a94b",
        "trusted": false
      },
      "cell_type": "code",
      "source": "def diamond(height):\n    \"\"\"Return a string resembling a diamond of specified height (measured in lines).\n    height must be an even integer.\n    \"\"\"\n    pass\n\n\nq4.check()",
      "execution_count": null,
      "outputs": []
    },
    {
      "metadata": {
        "_uuid": "33af62a3b1a89f1c4938cccbc3f12cf1c53c59c1"
      },
      "cell_type": "markdown",
      "source": "We've provided an example height-4 diamond below as a Python string. It may help to inspect it in the console."
    },
    {
      "metadata": {
        "_uuid": "f1a06a63611b18f7f1a95d2698d7232d1aae0cad",
        "trusted": true
      },
      "cell_type": "code",
      "source": "d4 = \"\"\"\n /\\\\ \n//\\\\\\\\\n\\\\\\\\//\n \\\\/ \"\"\"\nprint(d4)\n\ndef diamond(height):\n    s = ''\n    # The characters currently being used to build the left and right half of \n    # the diamond, respectively. (We need to escape the backslash with another\n    # backslash so Python knows we mean a literal \"\\\" character.)\n    l, r = '/', '\\\\'\n    # The \"radius\" of the diamond (used in lots of calculations)\n    rad = height // 2\n    for row in range(height):\n        # The first time we pass the halfway mark, swap the left and right characters\n        if row == rad:\n            l, r = r, l\n        if row < rad:\n            # For the first row, use one left character and one right. For\n            # the second row, use two of each, and so on...\n            nchars = row+1\n        else:\n            # Until we go past the midpoint. Then we start counting back down to 1.\n            nchars = height - row\n        left = (l * nchars).rjust(rad)\n        right = (r * nchars).ljust(rad)\n        s += left + right + '\\n'\n    # Trim the last newline - we want every line to end with a newline character\n    # *except* the last\n    return s[:-1]\n\ndiamond(4)",
      "execution_count": null,
      "outputs": []
    },
    {
      "metadata": {
        "_uuid": "f502f63fe08aaf938cc7443bd46a6dc1136a924c",
        "trusted": true
      },
      "cell_type": "code",
      "source": "q4.hint()\nq4.solution()",
      "execution_count": null,
      "outputs": []
    },
    {
      "metadata": {
        "_uuid": "624c4448ff82e27b8c57bd97c140874eacc64be5"
      },
      "cell_type": "markdown",
      "source": "## 5. <span title=\"Spicy\" style=\"color: coral\">🌶️🌶️</span>\n\nDice may not have any memory, but apparently the roulette wheel at the Learn Challenge Casino does. You’ve received a tip-off that the wheel has some exploitable bias where the probability of landing on a given number changes depending on the number previously landed on. Analyze a list containing a history of roulette spins. \n\nReturn a dictionary where the keys are numbers on the roulette wheel, and the values are dictionaries mapping numbers on the wheel to probabilities, such that `d[n1][n2]` is an estimate of the probability that the next spin will land on n2, given that the previous spin landed on n1."
    },
    {
      "metadata": {
        "_uuid": "06ae80b0fdabf37e50db60f8a68e15cbc2a4d715",
        "trusted": true
      },
      "cell_type": "code",
      "source": "def conditional_roulette_probs(history):\n    \"\"\"\n\n    Example: \n    conditional_roulette_probs([1, 3, 1, 5, 1])\n    > {1: {3: 0.5, 5: 0.5}, \n       3: {1: 1.0},\n       5: {1: 1.0}\n      }\n    \"\"\"\n    # dict where keys are numbers and values are dicts\n    # counts[a][b] is the number of times we've spun the number b immediately after spinning a\n    counts = {}\n    # Iterate over the indices of history *except* the first (index 0). (In the loop, We'll \n    # be looking at each index alongside its previous index. But there's no previous index for i=0)\n    for i in range(1, len(history)):\n        # The numbers for the ith spin and the spin before it\n        roll, prev = history[i], history[i-1]\n        # If we haven't seen prev before, we need to add it to counts. (Otherwise counts[prev] will give a KeyError)\n        if prev not in counts:\n            counts[prev] = {}\n        # Similar to above - add key to the inner dict if not present\n        if roll not in counts[prev]:\n            counts[prev][roll] = 0\n        counts[prev][roll] += 1\n\n    # We have the counts, but still need to turn them into probabilities\n    probs = {}\n    # dict.items() gives us a dictionary's (key, value) pairs as a sequence of tuples.\n    for prev, nexts in counts.items():\n        # The total number of spins that landed on prev (not counting the very last spin)\n        total = sum(nexts.values())\n        # Take the nects dictionary and normalize it so that its values sum to 1 (and represent probabilities)\n        sub_probs = {next_spin: next_count/total\n                for next_spin, next_count in nexts.items()}\n        probs[prev] = sub_probs\n    return probs\n\n\n\nq5.check()",
      "execution_count": null,
      "outputs": []
    },
    {
      "metadata": {
        "_uuid": "4013149f3128bd16d3de6a73dd792bd5c10e078a",
        "trusted": true
      },
      "cell_type": "code",
      "source": "q5.solution()",
      "execution_count": null,
      "outputs": []
    },
    {
      "metadata": {
        "_uuid": "1b2af6d4b704d6bffe60f2a0ebf047b046caaa32"
      },
      "cell_type": "markdown",
      "source": "If you have any questions, be sure to post them on the [forums](https://www.kaggle.com/learn-forum).\n\nRemember that your notebook is private by default, and in order to share it with other people or ask for help with it, you'll need to make it public. First, you'll need to save a version of your notebook that shows your current work by hitting the \"Commit & Run\" button. (Your work is saved automatically, but versioning your work lets you go back and look at what it was like at the point you saved it. It also let's you share a nice compiled notebook instead of just the raw code.) Then, once your notebook is finished running, you can go to the Settings tab in the panel to the left (you may have to expand it by hitting the [<] button next to the \"Commit & Run\" button) and setting the \"Visibility\" dropdown to \"Public\".\n\n# Keep Going\n\nWhen you're ready to continue, [click here](https://www.kaggle.com/colinmorris/working-with-external-libraries) to continue on to the next tutorial on imports."
    }
  ],
  "metadata": {
    "kernelspec": {
      "display_name": "Python 3",
      "language": "python",
      "name": "python3"
    },
    "language_info": {
      "name": "python",
      "version": "3.6.6",
      "mimetype": "text/x-python",
      "codemirror_mode": {
        "name": "ipython",
        "version": 3
      },
      "pygments_lexer": "ipython3",
      "nbconvert_exporter": "python",
      "file_extension": ".py"
    },
    "learntools_metadata": {
      "lesson_index": 5,
      "type": "exercise"
    }
  },
  "nbformat": 4,
  "nbformat_minor": 1
}