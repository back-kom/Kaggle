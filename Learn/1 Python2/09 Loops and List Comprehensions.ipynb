{
  "cells": [
    {
      "metadata": {
        "_uuid": "b0cbf70e0f19ec714332b29932a304bda669ae8b"
      },
      "cell_type": "markdown",
      "source": "# Loops\n\nLoops are a way to repeatedly execute some code statement."
    },
    {
      "metadata": {
        "_uuid": "42dadf1f19d8bd6c3493ca9f944014448e87f474",
        "trusted": false
      },
      "cell_type": "code",
      "source": "planets = ['Mercury', 'Venus', 'Earth', 'Mars', 'Jupiter', 'Saturn', 'Uranus', 'Neptune']\nfor planet in planets:\n    print(planet, end=' ') # print all on same line",
      "execution_count": null,
      "outputs": []
    },
    {
      "metadata": {
        "_uuid": "131eeb4ac9892cc34bf27f54c3931419e600d25a"
      },
      "cell_type": "markdown",
      "source": "Notice the simplicity of the ``for`` loop: we specify the variable we want to use, the sequence we want to loop over, and use the \"``in``\" keyword to link them together in an intuitive and readable way.\n\nThe object to the right of the \"``in``\" can be any object that supports iteration. Basically, if it can be thought of as a sequence or collection of things, you can probably loop over it. In addition to lists, we can iterate over the elements of a tuple:"
    },
    {
      "metadata": {
        "_uuid": "ecfafa6f233ecf254d35c229af1dfe78af1fb859",
        "trusted": false
      },
      "cell_type": "code",
      "source": "multiplicands = (2, 2, 2, 3, 3, 5)\nproduct = 1\nfor mult in multiplicands:\n    product = product * mult\nproduct",
      "execution_count": null,
      "outputs": []
    },
    {
      "metadata": {
        "_uuid": "8857966007b3ba3e22da96e0c2e40af425c96288"
      },
      "cell_type": "markdown",
      "source": "And even iterate over each character in a string:"
    },
    {
      "metadata": {
        "_uuid": "f75201ce35448743e3fa2d21315a405671937fa4",
        "trusted": false
      },
      "cell_type": "code",
      "source": "s = 'steganograpHy is the practicE of conceaLing a file, message, image, or video within another fiLe, message, image, Or video.'\nmsg = ''\n# print all the uppercase letters in s, one at a time\nfor char in s:\n    if char.isupper():\n        print(char, end='')        ",
      "execution_count": null,
      "outputs": []
    },
    {
      "metadata": {
        "_uuid": "32fe7d2aa49764caee78cae182313752680cd792"
      },
      "cell_type": "markdown",
      "source": "### range()\n\n`range()` is a function that returns a sequence of numbers. It turns out to be very useful for writing loops.\n\nFor example, if we want to repeat some action 5 times:"
    },
    {
      "metadata": {
        "_uuid": "e4aa77088e5f637566596796663e00d72fc63e70",
        "trusted": false
      },
      "cell_type": "code",
      "source": "for i in range(5):\n    print(\"Doing important work. i =\", i)",
      "execution_count": null,
      "outputs": []
    },
    {
      "metadata": {
        "_uuid": "d57416164bc99bae9b5c8b0c80f30093cb921377"
      },
      "cell_type": "markdown",
      "source": "You might assume that `range(5)` returns the list `[0, 1, 2, 3, 4]`. The truth is a little bit more complicated:"
    },
    {
      "metadata": {
        "_uuid": "5d33a0c6f580199b1549d3469d94897f140982db",
        "trusted": false
      },
      "cell_type": "code",
      "source": "r = range(5)\nr",
      "execution_count": null,
      "outputs": []
    },
    {
      "metadata": {
        "_uuid": "ddbe53bc6ac572644d6ead00bdc47d6b1019249f"
      },
      "cell_type": "markdown",
      "source": "`range` returns a \"range object\". It acts a lot like a list (it's iterable), but doesn't have all the same capabilities. As we saw in the [previous tutorial](https://www.kaggle.com/colinmorris/lists), we can call `help()` on an object like `r` to see Python's documentation on that object, including all of its methods. Click the 'output' button if you're curious about what the help page for a range object looks like."
    },
    {
      "metadata": {
        "_kg_hide-output": true,
        "_uuid": "44d498195acf7b41f8c01b69001c94e5396e4fea",
        "trusted": false
      },
      "cell_type": "code",
      "source": "help(range)",
      "execution_count": null,
      "outputs": []
    },
    {
      "metadata": {
        "_uuid": "3c854d9942e782d1fe225242f84f795d201aecc3"
      },
      "cell_type": "markdown",
      "source": "Just as we can use `int()`, `float()`, and `bool()` to convert objects to another type, we can use `list()` to convert a list-like thing into a list, which shows a more familiar (and useful) representation:"
    },
    {
      "metadata": {
        "_uuid": "c0af033e911b96d5aa227f3faa89297bab9dbf48",
        "trusted": false
      },
      "cell_type": "code",
      "source": "list(range(5))",
      "execution_count": null,
      "outputs": []
    },
    {
      "metadata": {
        "_uuid": "39d6bd8f9dd15bc1f98751acb2fe1d1bbdf80abb"
      },
      "cell_type": "markdown",
      "source": "Note that the range starts at zero, and that by convention the top of the range is not included in the output. `range(5)` gives the numbers from 0 up to *but not including* 5. \n\nThis may seem like a strange way to do things, but the documentation (accessed via `help(range)`) alludes to the reasoning when it says:\n\n> `range(4)` produces 0, 1, 2, 3.  These are exactly the valid indices for a list of 4 elements.  \n\nSo for any list `L`, `for i in range(len(L)):` will iterate over all its valid indices."
    },
    {
      "metadata": {
        "_uuid": "aeebf0b8b1f8acb9a63dfca6293fb13586581e17",
        "trusted": false
      },
      "cell_type": "code",
      "source": "nums = [1, 2, 4, 8, 16]\nfor i in range(len(nums)):\n    nums[i] = nums[i] * 2\nnums",
      "execution_count": null,
      "outputs": []
    },
    {
      "metadata": {
        "_uuid": "f3dc4691c85b2ef3d9d091455ce52eed5ae97502"
      },
      "cell_type": "markdown",
      "source": "This is the classic way of iterating over the indices of a list or other sequence.\n\n> **Aside**: `for i in range(len(L)):` is analogous to constructs like `for (int i = 0; i < L.length; i++)` in other languages."
    },
    {
      "metadata": {
        "_uuid": "fc54a0e866ca40bd8f70c3c50dbdbcde1e106eb7"
      },
      "cell_type": "markdown",
      "source": "### `enumerate`\n\n`for foo in x` loops over the elements of a list and `for i in range(len(x))` loops over the indices of a list. What if you want to do both?\n\nEnter the `enumerate` function, one of Python's hidden gems:"
    },
    {
      "metadata": {
        "_uuid": "ddb73f7ec299e6ce23ed335c31ba5f07dc87af87",
        "trusted": false
      },
      "cell_type": "code",
      "source": "def double_odds(nums):\n    for i, num in enumerate(nums):\n        if num % 2 == 1:\n            nums[i] = num * 2\n\nx = list(range(10))\ndouble_odds(x)\nx",
      "execution_count": null,
      "outputs": []
    },
    {
      "metadata": {
        "_uuid": "d38ca1f88529ffc541ac1ff78cbe695c73c29e7d"
      },
      "cell_type": "markdown",
      "source": "Given a list, `enumerate` returns an object which iterates over the indices *and* the values of the list.\n\n(Like the `range()` function, it returns an iterable object. To see its contents as a list, we can call `list()` on it.)"
    },
    {
      "metadata": {
        "_uuid": "6369bb6bec6b90722e134e7562fe6c92cb75e14b",
        "trusted": false
      },
      "cell_type": "code",
      "source": "list(enumerate(['a', 'b']))",
      "execution_count": null,
      "outputs": []
    },
    {
      "metadata": {
        "_uuid": "ade010d5270a6c665fcc1c9c9e78c562cb2f4563"
      },
      "cell_type": "markdown",
      "source": "We can see that that the things we were iterating over are tuples. This helps explain that `for i, num` syntax. We're \"unpacking\" the tuple, just like in this example from the previous tutorial:"
    },
    {
      "metadata": {
        "collapsed": true,
        "_uuid": "207130ab0fd1357894e3f72d60769789aa3897af",
        "trusted": false
      },
      "cell_type": "code",
      "source": "x = 0.125\nnumerator, denominator = x.as_integer_ratio()",
      "execution_count": null,
      "outputs": []
    },
    {
      "metadata": {
        "_uuid": "9fda9b7ba0356ce8ae0284c89c92efaf7450479b"
      },
      "cell_type": "markdown",
      "source": "We can use this unpacking syntax any time we iterate over a collection of tuples."
    },
    {
      "metadata": {
        "_uuid": "1e4c2641deb1d0ba920d0060f6638ead65b3efb5",
        "trusted": false
      },
      "cell_type": "code",
      "source": "nums = [\n    ('one', 1, 'I'),\n    ('two', 2, 'II'),\n    ('three', 3, 'III'),\n    ('four', 4, 'IV'),\n]\n\nfor word, integer, roman_numeral in nums:\n    print(integer, word, roman_numeral, sep=' = ', end='; ')",
      "execution_count": null,
      "outputs": []
    },
    {
      "metadata": {
        "_uuid": "5cc62512c791c701fb954d59808a4bdc5a1f246e"
      },
      "cell_type": "markdown",
      "source": "This is equivalent to the following (more tedious) code:"
    },
    {
      "metadata": {
        "_uuid": "dc8d671d91ce2f13cdecafa03c9885b800b3f058",
        "trusted": false
      },
      "cell_type": "code",
      "source": "for tup in nums:\n    word = tup[0]\n    integer = tup[1]\n    roman_numeral = tup[2]\n    print(integer, word, roman_numeral, sep=' = ', end='; ')",
      "execution_count": null,
      "outputs": []
    },
    {
      "metadata": {
        "_uuid": "9f7d6c3e4feccd66817aabcf1d14f096c2923e7d"
      },
      "cell_type": "markdown",
      "source": "## ``while`` loops\nThe other type of loop in Python is a ``while`` loop, which iterates until some condition is met:"
    },
    {
      "metadata": {
        "_uuid": "6c797be5923978251675d1c0bb1cc1ecb53d32f6",
        "trusted": false
      },
      "cell_type": "code",
      "source": "i = 0\nwhile i < 10:\n    print(i, end=' ')\n    i += 1",
      "execution_count": null,
      "outputs": []
    },
    {
      "metadata": {
        "_uuid": "a958639b9c9225741c1e13bb33ea4a4bc5d9591e"
      },
      "cell_type": "markdown",
      "source": "The argument of the ``while`` loop is evaluated as a boolean statement, and the loop is executed until the statement evaluates to False."
    },
    {
      "metadata": {
        "_uuid": "65ab777a4e73586c27b24ab34863823f04dac65b"
      },
      "cell_type": "markdown",
      "source": "## List comprehensions\n\nList comprehensions are one of Python's most beloved and unique features. The easiest way to understand them is probably to just look at a few examples:"
    },
    {
      "metadata": {
        "_uuid": "db095ecffe813e4446929ccc9a7c5665b90e87b3",
        "trusted": false
      },
      "cell_type": "code",
      "source": "squares = [n**2 for n in range(10)]\nsquares",
      "execution_count": null,
      "outputs": []
    },
    {
      "metadata": {
        "_uuid": "1a6075fa09341d0949429b3077376f7442a64ce2"
      },
      "cell_type": "markdown",
      "source": "Here's how we would do the same thing without a list comprehension:"
    },
    {
      "metadata": {
        "_uuid": "41c1782fb1b095365d29ba4a2fd2143125aae1af",
        "trusted": false
      },
      "cell_type": "code",
      "source": "squares = []\nfor n in range(10):\n    squares.append(n**2)\nsquares",
      "execution_count": null,
      "outputs": []
    },
    {
      "metadata": {
        "_uuid": "d2b9abbdfc5b52b253b45a36735ff31274b0a037"
      },
      "cell_type": "markdown",
      "source": "We can also add an `if` condition:"
    },
    {
      "metadata": {
        "_uuid": "b3324e34c8fa869e26eaf49cdc6dbbc01eddf31e",
        "trusted": false
      },
      "cell_type": "code",
      "source": "short_planets = [planet for planet in planets if len(planet) < 6]\nshort_planets",
      "execution_count": null,
      "outputs": []
    },
    {
      "metadata": {
        "_uuid": "84b3d1d8bb8e0f695577f72b2b498b75d118b522"
      },
      "cell_type": "markdown",
      "source": "(If you're familiar with SQL, you might think of this as being like a \"WHERE\" clause)\n\nHere's an example of filtering with an `if` condition *and* applying some transformation to the loop variable:"
    },
    {
      "metadata": {
        "_uuid": "248ff6f7cb193df66a998a966436a9256c7e80d8",
        "trusted": false
      },
      "cell_type": "code",
      "source": "# str.upper() returns an all-caps version of a string\nloud_short_planets = [planet.upper() + '!' for planet in planets if len(planet) < 6]\nloud_short_planets",
      "execution_count": null,
      "outputs": []
    },
    {
      "metadata": {
        "_uuid": "47d42165c79da6c0811982bd338c14466574976f"
      },
      "cell_type": "markdown",
      "source": "People usually write these on a single line, but you might find the structure clearer when it's split up over 3 lines:"
    },
    {
      "metadata": {
        "_uuid": "e0b9d5a2e4496b1ce76abf46e651df125c965f49",
        "trusted": false
      },
      "cell_type": "code",
      "source": "[\n    planet.upper() + '!' \n    for planet in planets \n    if len(planet) < 6\n]",
      "execution_count": null,
      "outputs": []
    },
    {
      "metadata": {
        "_uuid": "eaf1c932a73cee93c0ef56c71e9eb34442b8062f"
      },
      "cell_type": "markdown",
      "source": "(Continuing the SQL analogy, you could think of these three lines as SELECT, FROM, and WHERE)\n\nThe expression on the left doesn't technically have to involve the loop variable (though it'd be pretty unusual for it not to). What do you think the expression below will evaluate to? Press the 'output' button to check. "
    },
    {
      "metadata": {
        "_kg_hide-output": true,
        "_uuid": "2ea3fb8d29ea7e2e8e94bf608768d4e02ce2647e",
        "trusted": false
      },
      "cell_type": "code",
      "source": "[32 for planet in planets]",
      "execution_count": null,
      "outputs": []
    },
    {
      "metadata": {
        "collapsed": true,
        "_uuid": "35b16efcdfd197d67922b52b9a10ac58491d68ea"
      },
      "cell_type": "markdown",
      "source": "List comprehensions combined with some of the functions we've seen like `min`, `max`, `sum`, `len`, and `sorted`, can lead to some pretty impressive one-line solutions for problems that would otherwise require several lines of code. \n\nFor example, [the last exercise](https://www.kaggle.com/kernels/fork/1275173) included a brainteaser asking you to write a function to count the number of negative numbers in a list *without using loops* (or any other syntax we hadn't seen). Here's how we might solve the problem now that we have loops in our arsenal:\n"
    },
    {
      "metadata": {
        "collapsed": true,
        "_uuid": "bc15dc6cd24c6542e1525164790f493ed4491b5e",
        "trusted": false
      },
      "cell_type": "code",
      "source": "def count_negatives(nums):\n    \"\"\"Return the number of negative numbers in the given list.\n    \n    >>> count_negatives([5, -1, -2, 0, 3])\n    2\n    \"\"\"\n    n_negative = 0\n    for num in nums:\n        if num < 0:\n            n_negative = n_negative + 1\n    return n_negative",
      "execution_count": null,
      "outputs": []
    },
    {
      "metadata": {
        "_uuid": "a44780529b1eea11009f51996a6ff6a87a54cb38"
      },
      "cell_type": "markdown",
      "source": "Here's a solution using a list comprehension:"
    },
    {
      "metadata": {
        "collapsed": true,
        "_uuid": "428e31d9f42c839c62df191ef6d1c50ece924acc",
        "trusted": false
      },
      "cell_type": "code",
      "source": "def count_negatives(nums):\n    return len([num for num in nums if num < 0])",
      "execution_count": null,
      "outputs": []
    },
    {
      "metadata": {
        "_uuid": "779983ba927cdfc209608bb55356a340f49306f3"
      },
      "cell_type": "markdown",
      "source": "Much better, right?\n\nWell if all we care about is minimizing the length of our code, this third solution is better still!"
    },
    {
      "metadata": {
        "collapsed": true,
        "_uuid": "f095f2b3f70f0d7da210e79dd60b0c84aa91a438",
        "trusted": false
      },
      "cell_type": "code",
      "source": "def count_negatives(nums):\n    # Reminder: in the \"booleans and conditionals\" exercises, we learned about a quirk of \n    # Python where it calculates something like True + True + False + True to be equal to 3.\n    return sum([num < 0 for num in nums])",
      "execution_count": null,
      "outputs": []
    },
    {
      "metadata": {
        "_uuid": "c3843aa458d0ca3b4aea19563dcb6d7eacf01062"
      },
      "cell_type": "markdown",
      "source": "Which of these solutions is the \"best\" is entirely subjective. Solving a problem with less code is always nice, but it's worth keeping in mind the following lines from [The Zen of Python](https://en.wikipedia.org/wiki/Zen_of_Python):\n\n> Readability counts.  \n> Explicit is better than implicit.\n\nThe last definition of `count_negatives` might be the shortest, but will other people reading your code understand how it works? \n\nWriting Pythonic code doesn't mean never using for loops!"
    },
    {
      "metadata": {
        "_uuid": "3fdd41d7c2e26a8497133ce393da2f30d4e09162"
      },
      "cell_type": "markdown",
      "source": "# Your turn!\n\nHead over to [the Exercises notebook](https://www.kaggle.com/kernels/fork/1275177) to get some hands-on practice working with loops and list comprehensions."
    }
  ],
  "metadata": {
    "anaconda-cloud": {},
    "kernelspec": {
      "display_name": "Python 3",
      "language": "python",
      "name": "python3"
    },
    "language_info": {
      "name": "python",
      "version": "3.6.6",
      "mimetype": "text/x-python",
      "codemirror_mode": {
        "name": "ipython",
        "version": 3
      },
      "pygments_lexer": "ipython3",
      "nbconvert_exporter": "python",
      "file_extension": ".py"
    },
    "learntools_metadata": {
      "lesson_index": 4,
      "type": "tutorial"
    }
  },
  "nbformat": 4,
  "nbformat_minor": 1
}