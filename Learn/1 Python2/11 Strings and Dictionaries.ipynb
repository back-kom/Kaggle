{
  "cells": [
    {
      "metadata": {
        "_uuid": "83c3b519f28902a49e9d6967bd550b8b65b2e432"
      },
      "cell_type": "markdown",
      "source": "This lesson will be a double-shot of essential Python types: **strings** and **dictionaries**."
    },
    {
      "metadata": {
        "_uuid": "8883d055d7f2a4b5fbcb3a7bbb5ec93b92965c86"
      },
      "cell_type": "markdown",
      "source": "# Strings"
    },
    {
      "metadata": {
        "_uuid": "3419ca4da3beaba575e1367d842097210716ff78"
      },
      "cell_type": "markdown",
      "source": "One place where the Python language really shines is in the manipulation of strings.\nThis section will cover some of Python's built-in string methods and formatting operations.\n\nSuch string manipulation patterns come up often in the context of data science work, and is one big perk of Python in this context.\n\n## String syntax\n\nYou've already seen plenty of strings in examples during the previous lessons, but just to recap, strings in Python can be defined using either single or double quotations. They are functionally equivalent."
    },
    {
      "metadata": {
        "_uuid": "3c83cb95c34d09d3c540b59d1923c373e6d4171a",
        "trusted": false
      },
      "cell_type": "code",
      "source": "x = 'Pluto is a planet'\ny = \"Pluto is a planet\"\nx == y",
      "execution_count": null,
      "outputs": []
    },
    {
      "metadata": {
        "_uuid": "eaaa74bc9e7da9abd83b604e290d0a88c8667883"
      },
      "cell_type": "markdown",
      "source": "Double quotes are convenient if your string contains a single quote character (e.g. representing an apostrophe).\n\nSimilarly, it's easy to create a string that contains double-quotes if you wrap it in single quotes:"
    },
    {
      "metadata": {
        "_uuid": "7e6a3e8c1350c654519c59370e62767d4fa58435",
        "trusted": false
      },
      "cell_type": "code",
      "source": "print(\"Pluto's a planet!\")\nprint('My dog is named \"Pluto\"')",
      "execution_count": null,
      "outputs": []
    },
    {
      "metadata": {
        "_uuid": "5232729b716790c888fae908739c89fee1ffce68"
      },
      "cell_type": "markdown",
      "source": "If we try to put a single quote character inside a single-quoted string, Python gets confused:"
    },
    {
      "metadata": {
        "_uuid": "eba21f200b088b73828caece2c093ae464b81738",
        "trusted": false
      },
      "cell_type": "code",
      "source": "'Pluto's a planet!'",
      "execution_count": null,
      "outputs": []
    },
    {
      "metadata": {
        "_uuid": "39349c6430ac53b2158d5db7ba6d01c4b6cc33b8"
      },
      "cell_type": "markdown",
      "source": "We can fix this by \"escaping\" the single quote with a backslash. "
    },
    {
      "metadata": {
        "_uuid": "c4d1ae07962192f81d62d9137cade49a2c38410e",
        "trusted": false
      },
      "cell_type": "code",
      "source": "'Pluto\\'s a planet!'",
      "execution_count": null,
      "outputs": []
    },
    {
      "metadata": {
        "_uuid": "f6c23f067c7254e74e49037581338e6183c24978"
      },
      "cell_type": "markdown",
      "source": "The table below summarizes some important uses of the backslash character.\n\n| What you type... | What you get | example               | `print(example)`             |\n|--------------|----------------|--------------------------------------------------------|\n| `\\'`         | `'`            | `'What\\'s up?'`         | `What's up?`                 |  \n| `\\\"`         | `\"`            | `\"That's \\\"cool\\\"\"`     | `That's \"cool\"`              |  \n| `\\\\`         | `\\`            |  `\"Look, a mountain: /\\\\\"` |  `Look, a mountain: /\\`  |\n| `\\n`        |   <br/>      |   `\"1\\n2 3\"`                       |   `1`<br/>`2 3`              |"
    },
    {
      "metadata": {
        "_uuid": "94f31d05dc2699cfeac51e42c5b33fd3ddf25bcc"
      },
      "cell_type": "markdown",
      "source": "The last sequence, `\\n`, represents the *newline character*. It causes Python to start a new line."
    },
    {
      "metadata": {
        "_uuid": "72d9108576ce6ad0e6a391804d02383b019e3548",
        "trusted": false
      },
      "cell_type": "code",
      "source": "hello = \"hello\\nworld\"\nprint(hello)",
      "execution_count": null,
      "outputs": []
    },
    {
      "metadata": {
        "_uuid": "5ba34c2cb224a165e168c6abab9f6d5ae633ab36"
      },
      "cell_type": "markdown",
      "source": "In addition, Python's triple quote syntax for strings lets us include newlines literally (i.e. by just hitting 'Enter' on our keyboard, rather than using the special '\\n' sequence). We've already seen this in the docstrings we use to document our functions, but we can use them anywhere we want to define a string."
    },
    {
      "metadata": {
        "_uuid": "8f35759f6a9f89bbd37c14a71933aad54bd849fc",
        "trusted": false
      },
      "cell_type": "code",
      "source": "triplequoted_hello = \"\"\"hello\nworld\"\"\"\nprint(triplequoted_hello)\ntriplequoted_hello == hello",
      "execution_count": null,
      "outputs": []
    },
    {
      "metadata": {
        "_uuid": "63e2725b779a885d45e3b3a62cc343835386f728"
      },
      "cell_type": "markdown",
      "source": "The `print()` function automatically adds a newline character unless we specify a value for the keyword argument `end` other than the default value of `'\\n'`:"
    },
    {
      "metadata": {
        "_uuid": "001fb2067bfd5a73655fb30e6fef33b0c429c6cd",
        "trusted": false
      },
      "cell_type": "code",
      "source": "print(\"hello\")\nprint(\"world\")\nprint(\"hello\", end='')\nprint(\"pluto\", end='')",
      "execution_count": null,
      "outputs": []
    },
    {
      "metadata": {
        "collapsed": true,
        "_uuid": "e3d6815080ddb747437f6819d8fa4adbbb9706ac"
      },
      "cell_type": "markdown",
      "source": "## Strings are sequences\n\nStrings can be thought of as sequences of characters. Almost everything we've seen that we can do to a list, we can also do to a string."
    },
    {
      "metadata": {
        "_uuid": "22eae59572ffde2f545f332d2ed7fdde0051a02f",
        "trusted": false
      },
      "cell_type": "code",
      "source": "# Indexing\nplanet = 'Pluto'\nplanet[0]",
      "execution_count": null,
      "outputs": []
    },
    {
      "metadata": {
        "_uuid": "1e17c9ddac8df3f1a169becd69831ee5000b2519",
        "trusted": false
      },
      "cell_type": "code",
      "source": "# Slicing\nplanet[-3:]",
      "execution_count": null,
      "outputs": []
    },
    {
      "metadata": {
        "_uuid": "b0bc14d11e3182254a0ef1b2b70f8e013b0dd904",
        "trusted": false
      },
      "cell_type": "code",
      "source": "# How long is this string?\nlen(planet)",
      "execution_count": null,
      "outputs": []
    },
    {
      "metadata": {
        "_uuid": "adc3107abae3c6492dae8241a89f2b57d7ec4b39",
        "trusted": false
      },
      "cell_type": "code",
      "source": "# Yes, we can even loop over them\n[char+'! ' for char in planet]",
      "execution_count": null,
      "outputs": []
    },
    {
      "metadata": {
        "_uuid": "dd4c8944f30e580d704fd979132e5c6cbaaa9450"
      },
      "cell_type": "markdown",
      "source": "But a major way in which they differ from lists is that they are *immutable*. We can't modify them."
    },
    {
      "metadata": {
        "_uuid": "062f881c3820c9b030ea0936c74be995116e874b",
        "trusted": false
      },
      "cell_type": "code",
      "source": "planet[0] = 'B'\n# planet.append doesn't work either",
      "execution_count": null,
      "outputs": []
    },
    {
      "metadata": {
        "_uuid": "3adbd86845b46d161824fa179bcddd51d39eac15"
      },
      "cell_type": "markdown",
      "source": "## String methods\n\nLike `list`, the type `str` has lots of very useful methods. I'll show just a few examples here."
    },
    {
      "metadata": {
        "_uuid": "b6aa5c1fbfe7edf5bcd34fe818b5cd43433a3897",
        "trusted": false
      },
      "cell_type": "code",
      "source": "# ALL CAPS\nclaim = \"Pluto is a planet!\"\nclaim.upper()",
      "execution_count": null,
      "outputs": []
    },
    {
      "metadata": {
        "_uuid": "d2ae0cee527730da0e74b696d8a48c1b4ed6d11d",
        "trusted": false
      },
      "cell_type": "code",
      "source": "# all lowercase\nclaim.lower()",
      "execution_count": null,
      "outputs": []
    },
    {
      "metadata": {
        "_uuid": "98a76efc9b74b5fcdebfbd8b3e03935c68fd4d72",
        "trusted": false
      },
      "cell_type": "code",
      "source": "# Searching for the first index of a substring\nclaim.index('plan')",
      "execution_count": null,
      "outputs": []
    },
    {
      "metadata": {
        "_uuid": "ca9b92d8afef8f91e903ff0d8e6281174f63487c",
        "trusted": false
      },
      "cell_type": "code",
      "source": "claim.startswith(planet)",
      "execution_count": null,
      "outputs": []
    },
    {
      "metadata": {
        "_uuid": "5c7c0b1c485e28a5546fa9a93e021f940028f379",
        "trusted": false
      },
      "cell_type": "code",
      "source": "claim.endswith('dwarf planet')",
      "execution_count": null,
      "outputs": []
    },
    {
      "metadata": {
        "_uuid": "84fc2b13abd9907f5fa0bfa593a94f906c7dd611"
      },
      "cell_type": "markdown",
      "source": "### Going between strings and lists: `.split()` and `.join()`\n\n`str.split()` turns a string into a list of smaller strings, breaking on whitespace by default. This is super useful for taking you from one big string to a list of words."
    },
    {
      "metadata": {
        "_uuid": "bb59f63dc140285585dfea968cbe2ac061955802",
        "trusted": false
      },
      "cell_type": "code",
      "source": "words = claim.split()\nwords",
      "execution_count": null,
      "outputs": []
    },
    {
      "metadata": {
        "_uuid": "ed422ae5b4d305deb6cfc23b7729d10dd901b17a"
      },
      "cell_type": "markdown",
      "source": "Occasionally you'll want to split on something other than whitespace:"
    },
    {
      "metadata": {
        "collapsed": true,
        "_uuid": "e362a862078542499daf18b2825d7a0234da54ee",
        "trusted": false
      },
      "cell_type": "code",
      "source": "datestr = '1956-01-31'\nyear, month, day = datestr.split('-')",
      "execution_count": null,
      "outputs": []
    },
    {
      "metadata": {
        "_uuid": "d1bbb9f4923b2f6d574d0de3778acc5f53eb3099"
      },
      "cell_type": "markdown",
      "source": "`str.join()` takes us in the other direction, sewing a list of strings up into one long string, using the string it was called on as a separator."
    },
    {
      "metadata": {
        "_uuid": "cd5037d429c7724fa98b901c8a0b5e7fab31b857",
        "trusted": false
      },
      "cell_type": "code",
      "source": "'/'.join([month, day, year])",
      "execution_count": null,
      "outputs": []
    },
    {
      "metadata": {
        "_uuid": "8aa61a8c458f56e7583e3012544c4cefe6ede20c",
        "trusted": false
      },
      "cell_type": "code",
      "source": "# Yes, we can put unicode characters right in our string literals :)\n' 👏 '.join([word.upper() for word in words])",
      "execution_count": null,
      "outputs": []
    },
    {
      "metadata": {
        "_uuid": "4ee784bac09bd6fd9406e330926c3e6a179e7e62"
      },
      "cell_type": "markdown",
      "source": "### Building strings with `.format()`\n\nPython lets us concatenate strings with the `+` operator."
    },
    {
      "metadata": {
        "_uuid": "9fa0562eba765d3329917c26bfcea9f10ba54dd2",
        "trusted": false
      },
      "cell_type": "code",
      "source": "planet + ', we miss you.'",
      "execution_count": null,
      "outputs": []
    },
    {
      "metadata": {
        "_uuid": "5b4f4c4ccf697a2bcea59d7c42c848509e6add69"
      },
      "cell_type": "markdown",
      "source": "If we want to throw in any non-string objects, we have to be careful to call `str()` on them first"
    },
    {
      "metadata": {
        "_uuid": "1e0f5437d3c068de01523f1c7b4291ed336c0777",
        "trusted": false
      },
      "cell_type": "code",
      "source": "position = 9\nplanet + \", you'll always be the \" + position + \"th planet to me.\"",
      "execution_count": null,
      "outputs": []
    },
    {
      "metadata": {
        "_uuid": "f4a61a04028f7252475fa11add83003098164cf4",
        "trusted": false
      },
      "cell_type": "code",
      "source": "planet + \", you'll always be the \" + str(position) + \"th planet to me.\"",
      "execution_count": null,
      "outputs": []
    },
    {
      "metadata": {
        "_uuid": "d978221188b38b8341409eb24209af3e9f4fa433"
      },
      "cell_type": "markdown",
      "source": "This is getting hard to read and annoying to type. `str.format()` to the rescue."
    },
    {
      "metadata": {
        "_uuid": "9cc684568bf032523f0014eadb15e060df47c3b6",
        "trusted": false
      },
      "cell_type": "code",
      "source": "\"{}, you'll always be the {}th planet to me.\".format(planet, position)",
      "execution_count": null,
      "outputs": []
    },
    {
      "metadata": {
        "_uuid": "556bfa07d6a5913389d1cf25c1419e63fbf1eac0"
      },
      "cell_type": "markdown",
      "source": "So much cleaner! We call `.format()` on a \"format string\", where the Python values we want to insert are represented with `{}` placeholders.\n\nNotice how we didn't even have to call `str()` to convert `position` from an int. `format()` takes care of that for us.\n\nIf that was all that `format()` did, it would still be incredibly useful. But as it turns out, it can do a *lot* more. Here's just a taste:"
    },
    {
      "metadata": {
        "_uuid": "1fceb99dee11a991de450eab31fde6d634d6832a",
        "trusted": false
      },
      "cell_type": "code",
      "source": "pluto_mass = 1.303 * 10**22\nearth_mass = 5.9722 * 10**24\npopulation = 52910390\n#         2 decimal points   3 decimal points, format as percent     separate with commas\n\"{} weighs about {:.2} kilograms ({:.3%} of Earth's mass). It is home to {:,} Plutonians.\".format(\n    planet, pluto_mass, pluto_mass / earth_mass, population,\n)",
      "execution_count": null,
      "outputs": []
    },
    {
      "metadata": {
        "_uuid": "d44136677d77b1935b6ae366f8b2365cc9e2dfbc",
        "trusted": false
      },
      "cell_type": "code",
      "source": "# Referring to format() arguments by index, starting from 0\ns = \"\"\"Pluto's a {0}.\nNo, it's a {1}.\n{0}!\n{1}!\"\"\".format('planet', 'dwarf planet')\nprint(s)",
      "execution_count": null,
      "outputs": []
    },
    {
      "metadata": {
        "_uuid": "9c69321b4274902d973c8771718a340f5dc9e5b9"
      },
      "cell_type": "markdown",
      "source": "You could probably write a short book just on `str.format`, so I'll stop here, and point you to [pyformat.info](https://pyformat.info/) and [the official docs](https://docs.python.org/3/library/string.html#formatstrings) for further reading."
    },
    {
      "metadata": {
        "_uuid": "87dd4136f238d389fcbff57f8d4e1fc35f893e97"
      },
      "cell_type": "markdown",
      "source": "# Dictionaries\n\nDictionaries are a built-in Python data structure for mapping keys to values."
    },
    {
      "metadata": {
        "collapsed": true,
        "_uuid": "d2e1a009845119c8b24832572d060fb20bdbc703",
        "trusted": false
      },
      "cell_type": "code",
      "source": "numbers = {'one':1, 'two':2, 'three':3}",
      "execution_count": null,
      "outputs": []
    },
    {
      "metadata": {
        "_uuid": "e993b620aa731ccb0716fffcc667e86651908caa"
      },
      "cell_type": "markdown",
      "source": "In this case `'one'`, `'two'`, and `'three'` are the **keys**, and 1, 2 and 3 are their corresponding values.\n\nValues are accessed via square bracket syntax similar to indexing into lists and strings."
    },
    {
      "metadata": {
        "_uuid": "0af6213fb678ef568de51bd634e231199e0a03be",
        "trusted": false
      },
      "cell_type": "code",
      "source": "numbers['one']",
      "execution_count": null,
      "outputs": []
    },
    {
      "metadata": {
        "_uuid": "416e360a99560c698cbc1e360ab9debf4654a124"
      },
      "cell_type": "markdown",
      "source": "We can use the same syntax to add another key, value pair"
    },
    {
      "metadata": {
        "_uuid": "3144b58e115d19fe6b2f1532a1b9089fc473e423",
        "trusted": false
      },
      "cell_type": "code",
      "source": "numbers['eleven'] = 11\nnumbers",
      "execution_count": null,
      "outputs": []
    },
    {
      "metadata": {
        "_uuid": "76400a64194cc414ca1902b094f8291b1cb91735"
      },
      "cell_type": "markdown",
      "source": "Or to change the value associated with an existing key"
    },
    {
      "metadata": {
        "_uuid": "775ca8cd196e12f526b7fffacbd4a58e35682a67",
        "trusted": false
      },
      "cell_type": "code",
      "source": "numbers['one'] = 'Pluto'\nnumbers",
      "execution_count": null,
      "outputs": []
    },
    {
      "metadata": {
        "_uuid": "bdbac7b59ff1ce60ae779829ae6a4d7c0a1c58cd"
      },
      "cell_type": "markdown",
      "source": "Python has *dictionary comprehensions* with a syntax similar to the list comprehensions we saw in the previous tutorial."
    },
    {
      "metadata": {
        "_uuid": "081d4cc1cec03e573cb8e24ce7578ddb9bd7f599",
        "trusted": false
      },
      "cell_type": "code",
      "source": "planets = ['Mercury', 'Venus', 'Earth', 'Mars', 'Jupiter', 'Saturn', 'Uranus', 'Neptune']\nplanet_to_initial = {planet: planet[0] for planet in planets}\nplanet_to_initial",
      "execution_count": null,
      "outputs": []
    },
    {
      "metadata": {
        "_uuid": "9ade5f234ec669bc373f3e27a1b2993931012ca1"
      },
      "cell_type": "markdown",
      "source": "The `in` operator tells us whether something is a key in the dictionary"
    },
    {
      "metadata": {
        "_uuid": "2e7ecba347d8085003c8f6230a6f589a69ce0a50",
        "trusted": false
      },
      "cell_type": "code",
      "source": "'Saturn' in planet_to_initial",
      "execution_count": null,
      "outputs": []
    },
    {
      "metadata": {
        "_uuid": "5c9705c715673e4c8363556b75131f42f2ed474a",
        "trusted": false
      },
      "cell_type": "code",
      "source": "'Betelgeuse' in planet_to_initial",
      "execution_count": null,
      "outputs": []
    },
    {
      "metadata": {
        "_uuid": "a04ef3e5946775b0c77f649421054aeb90624a3b"
      },
      "cell_type": "markdown",
      "source": "A for loop over a dictionary will loop over its keys"
    },
    {
      "metadata": {
        "_uuid": "4f669d21e1f29114529e0ec78ba8994a7003604c",
        "trusted": false
      },
      "cell_type": "code",
      "source": "for k in numbers:\n    print(\"{} = {}\".format(k, numbers[k]))",
      "execution_count": null,
      "outputs": []
    },
    {
      "metadata": {
        "_uuid": "d7d0d62a7d5df9eadc09bc4772eb8990416b2568"
      },
      "cell_type": "markdown",
      "source": "We can access a collection of all the keys or all the values with `dict.keys()` and `dict.values()`, respectively."
    },
    {
      "metadata": {
        "_uuid": "42bfd38d08a05db659aeab2aac9eb40c8a5c9f9a",
        "trusted": false
      },
      "cell_type": "code",
      "source": "# Get all the initials, sort them alphabetically, and put them in a space-separated string.\n' '.join(sorted(planet_to_initial.values()))",
      "execution_count": null,
      "outputs": []
    },
    {
      "metadata": {
        "_uuid": "170069cb21cccdeb9bd28c67b2a825a94b8c0b32"
      },
      "cell_type": "markdown",
      "source": "The very useful `dict.items()` method lets us iterate over the keys and values of a dictionary simultaneously. (In Python jargon, an **item** refers to a key, value pair)"
    },
    {
      "metadata": {
        "_uuid": "ce748e10652882624e4289d2221f6cfd657735e4",
        "trusted": false
      },
      "cell_type": "code",
      "source": "for planet, initial in planet_to_initial.items():\n    print(\"{} begins with \\\"{}\\\"\".format(planet.rjust(10), initial))",
      "execution_count": null,
      "outputs": []
    },
    {
      "metadata": {
        "_uuid": "86cd1d415448344b10ac2e6a9395087223455109"
      },
      "cell_type": "markdown",
      "source": "To read a full inventory of dictionaries' methods, click the \"output\" button below to read the full help page, or check out the [official online documentation](https://docs.python.org/3/library/stdtypes.html#dict)."
    },
    {
      "metadata": {
        "_kg_hide-output": true,
        "collapsed": true,
        "_uuid": "8e9e117d437db25c296ca2e107f4685a78e423c3",
        "trusted": false
      },
      "cell_type": "code",
      "source": "help(dict)",
      "execution_count": null,
      "outputs": []
    },
    {
      "metadata": {
        "_uuid": "99f1d9003cef09224534e6c0a631610a2a0478c7"
      },
      "cell_type": "markdown",
      "source": "# Your turn!\n\nHead over to [the Exercises notebook](https://www.kaggle.com/kernels/fork/1275185) to get some hands-on practice working with strings and dictionaries."
    }
  ],
  "metadata": {
    "anaconda-cloud": {},
    "kernelspec": {
      "display_name": "Python 3",
      "language": "python",
      "name": "python3"
    },
    "language_info": {
      "name": "python",
      "version": "3.6.6",
      "mimetype": "text/x-python",
      "codemirror_mode": {
        "name": "ipython",
        "version": 3
      },
      "pygments_lexer": "ipython3",
      "nbconvert_exporter": "python",
      "file_extension": ".py"
    },
    "learntools_metadata": {
      "lesson_index": 5,
      "type": "tutorial"
    }
  },
  "nbformat": 4,
  "nbformat_minor": 1
}