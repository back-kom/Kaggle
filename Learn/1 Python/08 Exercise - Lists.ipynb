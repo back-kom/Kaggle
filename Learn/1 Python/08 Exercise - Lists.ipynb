{
  "cells": [
    {
      "metadata": {
        "_uuid": "3d97f5a0f6be74ce162f578dcf5de2625ca7bd88"
      },
      "cell_type": "markdown",
      "source": "These exercises accompany the tutorial on [lists and tuples](https://www.kaggle.com/colinmorris/lists).\n\nAs always be sure to run the setup code below before working on the questions (and if you leave this notebook and come back later, don't forget to run the setup code again)."
    },
    {
      "metadata": {
        "_uuid": "317edf2a0defad2dea2db1c147e485f63fe9d84a",
        "trusted": true
      },
      "cell_type": "code",
      "source": "# SETUP. You don't need to worry for now about what this code does or how it works. If you're ever curious about the \n# code behind these exercises, it's available under an open source license here: https://github.com/Kaggle/learntools/\nfrom learntools.core import binder; binder.bind(globals())\nfrom learntools.python.ex4 import *\nprint('Setup complete.')",
      "execution_count": null,
      "outputs": []
    },
    {
      "metadata": {
        "_uuid": "bbb14df1f3e64137823a964199a0d8751900540d"
      },
      "cell_type": "markdown",
      "source": "# Exercises"
    },
    {
      "metadata": {
        "_uuid": "8c907efa83b96f4982a4210d5a57b1cf6186814e"
      },
      "cell_type": "markdown",
      "source": "## 1.\n\nComplete the function below according to its docstring."
    },
    {
      "metadata": {
        "_uuid": "1870a9916fcdffcc82f4d1d836d53ff9f841edf7",
        "trusted": true
      },
      "cell_type": "code",
      "source": "def select_second(L):\n    \"\"\"Return the second element of the given list. If the list has no second\n    element, return None.\n    \"\"\"\n    if len(L) < 2:\n        return None\n    return L[1]\n    pass\nq1.check()",
      "execution_count": null,
      "outputs": []
    },
    {
      "metadata": {
        "_uuid": "270058407f74147cdfe57fdb610048011637d2a3",
        "trusted": true
      },
      "cell_type": "code",
      "source": "q1.hint()\nq1.solution()",
      "execution_count": null,
      "outputs": []
    },
    {
      "metadata": {
        "_uuid": "66912e5c3f28c98fcb63654e2c4f850cfda16eba"
      },
      "cell_type": "markdown",
      "source": "## 2.\n\nYou are analyzing sports teams.  Members of each team are stored in a list. The Coach is the first name in the list, the captain is the second name in the list, and other players are listed after that. \nThese lists are stored in another list, which starts with the best team and proceeds through the list to the worst team last.  Complete the function below to select the **captain** of the worst team."
    },
    {
      "metadata": {
        "_uuid": "d012e569cee41c5d43e0532c6bf2d552a55dc86d",
        "trusted": true
      },
      "cell_type": "code",
      "source": "def losing_team_captain(teams):\n    \"\"\"Given a list of teams, where each team is a list of names, return the 2nd player (captain)\n    from the last listed team\n    \"\"\"\n    return teams[-1][1]\n    pass\n\nq2.check()",
      "execution_count": null,
      "outputs": []
    },
    {
      "metadata": {
        "_uuid": "6324e93cb21607a0cc7ca9ec2680ae8d8ba99968",
        "trusted": true
      },
      "cell_type": "code",
      "source": "q2.hint()\nq2.solution()",
      "execution_count": null,
      "outputs": []
    },
    {
      "metadata": {
        "_uuid": "e6800a06aacc3c258693386b18673cebad9b085b"
      },
      "cell_type": "markdown",
      "source": "## 3.\n\nThe next iteration of Mario Kart will feature an extra-infuriating new item, the *Purple Shell*. When used, it warps the last place racer into first place and the first place racer into last place. Complete the function below to implement the Purple Shell's effect."
    },
    {
      "metadata": {
        "_uuid": "534359643aaf11018158298e4cc7523a3a3bd766",
        "trusted": true
      },
      "cell_type": "code",
      "source": "def purple_shell(racers):\n    \"\"\"Given a list of racers, set the first place racer (at the front of the list) to last\n    place and vice versa.\n    \n    >>> r = [\"Mario\", \"Bowser\", \"Luigi\"]\n    >>> purple_shell(r)\n    >>> r\n    [\"Luigi\", \"Bowser\", \"Mario\"]\n    \"\"\"\n    racers[0], racers[-1] = racers[-1], racers[0]\n    pass\n\nq3.check()",
      "execution_count": null,
      "outputs": []
    },
    {
      "metadata": {
        "_uuid": "55486d1b638de27c46d7ab6027c63d499fc0ecbe",
        "trusted": true
      },
      "cell_type": "code",
      "source": "q3.hint()\nq3.solution()",
      "execution_count": null,
      "outputs": []
    },
    {
      "metadata": {
        "_uuid": "102a246bebd32ca2371640bb3f53b0424683728d"
      },
      "cell_type": "markdown",
      "source": "## 4.\n\nWhat are the lengths of the following lists? Fill in the variable `lengths` with your predictions. (Try to make a prediction for each list *without* just calling `len()` on it.)"
    },
    {
      "metadata": {
        "_uuid": "55f14a5719750e759bd70cc37280dbfb463196a3",
        "trusted": true,
        "_kg_hide-input": false,
        "_kg_hide-output": false
      },
      "cell_type": "code",
      "source": "a = [1, 2, 3]\nb = [1, [2, 3]]\nc = []\nd = [1, 2, 3][1:]\n\n# Put your predictions in the list below. Lengths should contain 4 numbers, the\n# first being the length of a, the second being the length of b and so on.\nlengths = [3, 2, 0, 2]\n\nq4.check()",
      "execution_count": null,
      "outputs": []
    },
    {
      "metadata": {
        "_uuid": "d0129ac1179c9ccfdd953c554e4e5450814f7820",
        "trusted": true
      },
      "cell_type": "code",
      "source": "# line below provides some explanation\nq4.solution()",
      "execution_count": null,
      "outputs": []
    },
    {
      "metadata": {
        "_uuid": "12fa9079567b3473ef67fec7a46fe1de59062fee"
      },
      "cell_type": "markdown",
      "source": "## 5. <span title=\"A bit spicy\" style=\"color: darkgreen \">🌶️</span>\n\nWe're using lists to record people who attended our party and what order they arrived in. For example, the following list represents a party with 7 guests, in which Adela showed up first and Ford was the last to arrive:\n\n    party_attendees = ['Adela', 'Fleda', 'Owen', 'May', 'Mona', 'Gilbert', 'Ford']\n\nA guest is considered 'fashionably late' if they arrived after at least half of the party's guests. However, they must not be the very last guest (that's taking it too far). In the above example, Mona and Gilbert are the only guests who were fashionably late.\n\nComplete the function below which takes a list of party attendees as well as a person, and tells us whether that person is fashionably late."
    },
    {
      "metadata": {
        "_uuid": "e4d14b60ee69d500b514f60887b82cbef3e76903",
        "trusted": true
      },
      "cell_type": "code",
      "source": "def fashionably_late(arrivals, name):\n    \"\"\"Given an ordered list of arrivals to the party and a name, return whether the guest with that\n    name was fashionably late.\n    \"\"\"\n    return arrivals.index(name) >= len(arrivals)/2 and arrivals.index(name) != len(arrivals)-1\n    pass\n\nq5.check()",
      "execution_count": null,
      "outputs": []
    },
    {
      "metadata": {
        "_uuid": "e8f8c8d71abadf4b06bad5b34ce4a47835def677",
        "trusted": true
      },
      "cell_type": "code",
      "source": "q5.hint()\nq5.solution()",
      "execution_count": null,
      "outputs": []
    },
    {
      "metadata": {
        "_uuid": "236872c48d2abe1575be7d438876f8397e5a723e"
      },
      "cell_type": "markdown",
      "source": "## 6. <span style=\"color: firebrick\" title=\"This is an optional extra-spicy question\">🌶️🌶️🌶️</span>\n\n*This question is intended more as a fun riddle than a test of your programming prowess :)*\n\nImplement the body of the following function **using only tools we've covered so far - NO LOOPS!**"
    },
    {
      "metadata": {
        "_uuid": "4cb41bd9badc4faefdc7b5bffa63a84a7c9a1456",
        "trusted": true,
        "_kg_hide-output": false
      },
      "cell_type": "code",
      "source": "def count_negatives(nums):\n    \"\"\"Return the number of negative numbers in the given list.\n    \n    >>> count_negatives([5, -1, -2, 0, 3])\n    2\n    \"\"\"\n    nums.append(0)\n    # We could also have used the list.sort() method, which modifies a list, putting it in sorted order.\n    nums = sorted(nums)\n    print(nums)\n    return nums.index(0)\n    \n    pass\ncount_negatives([5, -1, -2, 0, 0, -5, -3, 0, 3])\n#q6.check()",
      "execution_count": null,
      "outputs": []
    },
    {
      "metadata": {
        "_uuid": "8bc5faaf72fb745bc10a5cc9e6b31c31bbda49f4",
        "trusted": true
      },
      "cell_type": "code",
      "source": "q6.hint()",
      "execution_count": null,
      "outputs": []
    },
    {
      "metadata": {
        "_uuid": "343ac485170a1353fcadc5465a37b76605b28430",
        "trusted": true
      },
      "cell_type": "code",
      "source": "q6.solution()",
      "execution_count": null,
      "outputs": []
    },
    {
      "metadata": {
        "_uuid": "158c5d1e78a0b847b4380484c104b7f95474b104"
      },
      "cell_type": "markdown",
      "source": "That's it for lists and tuples! If you have any questions or feedback (or just want to argue about whether Pluto should be a planet), head over to the [forums](https://kaggle.com/learn-forum).\n\nRemember that your notebook is private by default, and in order to share it with other people or ask for help with it, you'll need to make it public. First, you'll need to save a version of your notebook that shows your current work by hitting the \"Commit & Run\" button. (Your work is saved automatically, but versioning your work lets you go back and look at what it was like at the point you saved it. It also let's you share a nice compiled notebook instead of just the raw code.) Then, once your notebook is finished running, you can go to the Settings tab in the panel to the left (you may have to expand it by hitting the [<] button next to the \"Commit & Run\" button) and setting the \"Visibility\" dropdown to \"Public\".\n\n# Keep Going\n\nWhen you're ready to continue, [click here](https://www.kaggle.com/colinmorris/loops-and-list-comprehensions) to continue on to the next tutorial on loops and list comprehensions."
    }
  ],
  "metadata": {
    "kernelspec": {
      "display_name": "Python 3",
      "language": "python",
      "name": "python3"
    },
    "language_info": {
      "name": "python",
      "version": "3.6.6",
      "mimetype": "text/x-python",
      "codemirror_mode": {
        "name": "ipython",
        "version": 3
      },
      "pygments_lexer": "ipython3",
      "nbconvert_exporter": "python",
      "file_extension": ".py"
    },
    "learntools_metadata": {
      "lesson_index": 3,
      "type": "exercise"
    }
  },
  "nbformat": 4,
  "nbformat_minor": 1
}