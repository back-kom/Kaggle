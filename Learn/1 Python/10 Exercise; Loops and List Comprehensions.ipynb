{
  "cells": [
    {
      "metadata": {
        "_uuid": "a1dae72a2f95d2d76856c0e7b30fcf1d8f2ecb27"
      },
      "cell_type": "markdown",
      "source": "These exercises accompany the tutorial on [loops and list comprehensions](https://www.kaggle.com/colinmorris/loops-and-list-comprehensions).\n\nAs always, run the setup code below before working on the questions (and if you leave this notebook and come back later, remember to run the setup code again)."
    },
    {
      "metadata": {
        "_uuid": "617821af7a472bb97789bd53b470a793a551f407",
        "trusted": true
      },
      "cell_type": "code",
      "source": "# SETUP. You don't need to worry for now about what this code does or how it works. If you're ever curious about the \n# code behind these exercises, it's available under an open source license here: https://github.com/Kaggle/learntools/\nfrom learntools.core import binder; binder.bind(globals())\nfrom learntools.python.ex5 import *\nprint('Setup complete.')",
      "execution_count": null,
      "outputs": []
    },
    {
      "metadata": {
        "_uuid": "67ec263a516288882734bb684ae209b0d06fafe5"
      },
      "cell_type": "markdown",
      "source": "# Exercises"
    },
    {
      "metadata": {
        "_uuid": "4be9f756045fd5e30453ceec64a9456fdaf672b1"
      },
      "cell_type": "markdown",
      "source": "## 1.\n\nHave you ever felt debugging involved a bit of luck? The following program has a bug. Try to identify the bug and fix it."
    },
    {
      "metadata": {
        "_uuid": "c06ebebe13b80f6a6a86365be278952aae4a17de",
        "trusted": true,
        "_kg_hide-output": false
      },
      "cell_type": "code",
      "source": "def has_lucky_number(nums):\n    \"\"\"Return whether the given list of numbers is lucky. A lucky list contains\n    at least one number divisible by 7.\n    \"\"\"\n    for num in nums:\n        if num % 7 == 0:\n            return True\n        else:\n            return False",
      "execution_count": null,
      "outputs": []
    },
    {
      "metadata": {
        "_uuid": "a15ea8c8796e6e83a0c63679bad5677f40181e51"
      },
      "cell_type": "markdown",
      "source": "Try to identify the bug and fix it in the cell below:"
    },
    {
      "metadata": {
        "_uuid": "a2e10aede648d86ffa2aff3e197a49ed9b1397fa",
        "trusted": true
      },
      "cell_type": "code",
      "source": "def has_lucky_number(nums):\n    \"\"\"Return whether the given list of numbers is lucky. A lucky list contains\n    at least one number divisible by 7.\n    \"\"\"\n    for num in nums:\n        if num % 7 == 0:\n            return True\n    return False\n\nq1.check()",
      "execution_count": null,
      "outputs": []
    },
    {
      "metadata": {
        "_uuid": "86ca121de6d16ec7f861bb8c70bbba1300119d8f",
        "trusted": true
      },
      "cell_type": "code",
      "source": "q1.hint()\nq1.solution()",
      "execution_count": null,
      "outputs": []
    },
    {
      "metadata": {
        "_uuid": "40e77018739f95365dc0bf4d04b0791bfb88dda7"
      },
      "cell_type": "markdown",
      "source": "## 2.\n\n### a.\nLook at the Python expression below. What do you think we'll get when we run it? When you've made your prediction, uncomment the code and run the cell to see if you were right."
    },
    {
      "metadata": {
        "_uuid": "ae59dab62987365753b6bf1c0b10183d3c6474ca",
        "trusted": true
      },
      "cell_type": "code",
      "source": "[1, 2, 3, 4] > 2",
      "execution_count": null,
      "outputs": []
    },
    {
      "metadata": {
        "_uuid": "7f120b77059149d7205c7c88b38e25891cd926e3"
      },
      "cell_type": "markdown",
      "source": "### b\nIf you’ve used R or certain Python libraries like numpy or pandas, you might have expected that when we ran the above code, Python would compare each element of the list to 2 (i.e. do an 'element-wise' comparison) and give us a list of booleans like `[False, False, True, True]`. \n\nImplement a function that reproduces this behaviour, returning a list of booleans corresponding to whether the corresponding element is greater than n.\n"
    },
    {
      "metadata": {
        "_uuid": "b2dacab7090660008041f12a22e2bd59d927f9aa",
        "trusted": true
      },
      "cell_type": "code",
      "source": "def elementwise_greater_than(L, thresh):\n    \"\"\"Return a list with the same length as L, where the value at index i is \n    True if L[i] is greater than thresh, and False otherwise.\n    \n    >>> elementwise_greater_than([1, 2, 3, 4], 2)\n    [False, False, True, True]\n    \"\"\"\n    return [ele > thresh for ele in L]\n    pass\n\nq2.check()",
      "execution_count": null,
      "outputs": []
    },
    {
      "metadata": {
        "_uuid": "6e8354775bf9bba685e613b80de71bbb9a1f74f4",
        "trusted": true
      },
      "cell_type": "code",
      "source": "q2.solution()",
      "execution_count": null,
      "outputs": []
    },
    {
      "metadata": {
        "_uuid": "ef499462586c47c3e24616732eded82bf3b9db8d"
      },
      "cell_type": "markdown",
      "source": "## 3.\n\nComplete the body of the function below according to its docstring"
    },
    {
      "metadata": {
        "_uuid": "48861762199b9d6464fcf98901ccf5f149b6b163",
        "trusted": true
      },
      "cell_type": "code",
      "source": "def menu_is_boring(meals):\n    \"\"\"Given a list of meals served over some period of time, return True if the\n    same meal has ever been served two days in a row, and False otherwise.\n    \"\"\"\n    for i in range(len(meals)-1):\n        if meals[i] == meals[i+1]:\n            return True\n    return False\n\nq3.check()",
      "execution_count": null,
      "outputs": []
    },
    {
      "metadata": {
        "_uuid": "a5082283c92029aadc2b9ff8e9943f4eff9160e3",
        "trusted": true
      },
      "cell_type": "code",
      "source": "q3.hint()\nq3.solution()",
      "execution_count": null,
      "outputs": []
    },
    {
      "metadata": {
        "_uuid": "eff2adb0ccd5f85b79302138189a544861d9b286"
      },
      "cell_type": "markdown",
      "source": "## 4. <span title=\"A bit spicy\" style=\"color: darkgreen \">🌶️</span>\n\nNext to the Blackjack table, the Python Challenge Casino has a slot machine. You can get a result from the slot machine by calling `play_slot_machine()`. The number it returns is your winnings in dollars. Usually it returns 0.  But sometimes you'll get lucky and get a big payday. Try running it below:"
    },
    {
      "metadata": {
        "_uuid": "e7f9e99f98c62bd6cab8a21712ba61627d2dc01e",
        "trusted": true
      },
      "cell_type": "code",
      "source": "play_slot_machine()",
      "execution_count": null,
      "outputs": []
    },
    {
      "metadata": {
        "_uuid": "c6fc35feebb1ff6f39a4579738630a108850655e"
      },
      "cell_type": "markdown",
      "source": "By the way, did we mention that each play costs $1? Don't worry, we'll send you the bill later.\n\nOn average, how much money can you expect to gain (or lose) every time you play the machine?  The casino keeps it a secret, but you can estimate the average value of each pull using a technique called the **Monte Carlo method**. To estimate the average outcome, we simulate the scenario many times, and return the average result.\n\nComplete the following function to calculate the average value per play of the slot machine."
    },
    {
      "metadata": {
        "_uuid": "010487f9cdd964f86fc095b9844f1d1428a9730f",
        "trusted": true
      },
      "cell_type": "code",
      "source": "def estimate_average_slot_payout(n_runs):\n    \"\"\"Run the slot machine n_runs times and return the average net profit per run.\n    Example calls (note that return value is nondeterministic!):\n    >>> estimate_average_slot_payout(1)\n    -1\n    >>> estimate_average_slot_payout(1)\n    0.5\n    \"\"\"\n    total = 0\n    for i in range(n_runs):\n        total = total + (play_slot_machine()-1)\n    return total/n_runs\n\nestimate_average_slot_payout(1000000)",
      "execution_count": null,
      "outputs": []
    },
    {
      "metadata": {
        "_uuid": "3f191ee9c65845a8cb0c7bfacf9d1ffb0cc0cb23"
      },
      "cell_type": "markdown",
      "source": "When you think you know the expected value per spin, uncomment the line below to see how close you were."
    },
    {
      "metadata": {
        "_uuid": "9f6395d3eb0ad70043949e78cba8ead90ff588ce",
        "trusted": true
      },
      "cell_type": "code",
      "source": "q4.solution()",
      "execution_count": null,
      "outputs": []
    },
    {
      "metadata": {
        "_uuid": "cec23259da5eaf9d642e105e0f9b6d4d61a6b5b6"
      },
      "cell_type": "markdown",
      "source": "## 5. <span title=\"Spicy\" style=\"color: coral\">🌶️🌶️</span>\n\nGary wants to know how many spins he can play before running out of money. (Remember, each turn at the slot machine costs $1.)\n\nSo, if he has $10, he can definitely play 10 spins (because he'll have enough money to pay for the 10th spin even if he never wins). But he could only play an 11th spin if his total winnings from the first 10 was enough to pay for the 11th spin. How likely is that?\n\nYou will estimate the probability with the Monte Carlo method. That is, you will simulate the scenario many times, and return the proportion of simulations where he ran out of money before a desired number of spins. \n\nComplete the function below to estimate the probability that he can complete a given number of spins of the machine before running out of money."
    },
    {
      "metadata": {
        "_uuid": "7a1aa6f26ceef65a496b565a5b0b0f06c8019bf6",
        "trusted": true
      },
      "cell_type": "code",
      "source": "def slots_survival_probability(start_balance, n_spins, n_simulations):\n    \"\"\"Return the approximate probability (as a number between 0 and 1) that we can complete the \n    given number of spins of the slot machine before running out of money, assuming we start \n    with the given balance. Estimate the probability by running the scenario the specified number of times.\n    \n    >>> slots_survival_probability(10.00, 10, 1000)\n    1.0\n    >>> slots_survival_probability(1.00, 2, 1000)\n    .25\n    \"\"\"\n    successes = 0\n    for x in range(n_simulations):\n        balance = start_balance\n        spins_left = n_spins\n        \n        while balance >= 1 and spins_left:\n            spins_left -= 1\n            balance -= 1\n            balance += play_slot_machine()\n        if spins_left == 0:\n            successes += 1\n    return successes/n_simulations\n        \nslots_survival_probability(1, 2, 1000)\n\n# q5.check()",
      "execution_count": null,
      "outputs": []
    },
    {
      "metadata": {
        "_uuid": "a187135378f7fa5f8fada435d4e6ff72e511f45d",
        "trusted": true
      },
      "cell_type": "code",
      "source": "q5.solution()",
      "execution_count": null,
      "outputs": []
    },
    {
      "metadata": {
        "_uuid": "d895b06b24c87d3a5fef8d2f5856fda7019c5d4d"
      },
      "cell_type": "markdown",
      "source": "If you have any questions, be sure to post them on the [forums](https://www.kaggle.com/learn-forum).\n\nRemember that your notebook is private by default, and in order to share it with other people or ask for help with it, you'll need to make it public. First, you'll need to save a version of your notebook that shows your current work by hitting the \"Commit & Run\" button. (Your work is saved automatically, but versioning your work lets you go back and look at what it was like at the point you saved it. It also let's you share a nice compiled notebook instead of just the raw code.) Then, once your notebook is finished running, you can go to the Settings tab in the panel to the left (you may have to expand it by hitting the [<] button next to the \"Commit & Run\" button) and setting the \"Visibility\" dropdown to \"Public\".\n\n# Keep Going\n\nWhen you're ready to continue, [click here](https://www.kaggle.com/colinmorris/strings-and-dictionaries) to continue on to the next tutorial on strings and dictionaries."
    }
  ],
  "metadata": {
    "kernelspec": {
      "display_name": "Python 3",
      "language": "python",
      "name": "python3"
    },
    "language_info": {
      "name": "python",
      "version": "3.6.6",
      "mimetype": "text/x-python",
      "codemirror_mode": {
        "name": "ipython",
        "version": 3
      },
      "pygments_lexer": "ipython3",
      "nbconvert_exporter": "python",
      "file_extension": ".py"
    },
    "learntools_metadata": {
      "lesson_index": 4,
      "type": "exercise"
    }
  },
  "nbformat": 4,
  "nbformat_minor": 1
}