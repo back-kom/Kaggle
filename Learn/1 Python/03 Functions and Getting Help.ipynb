{
  "cells": [
    {
      "metadata": {
        "_uuid": "f22503db4cbbe14d2e4ac2fd1cb0e1c956173dd6"
      },
      "cell_type": "markdown",
      "source": "# Functions and Getting Help\nIn this lesson, we'll be talking about functions: calling them, defining them, and looking them up using Python's built-in documentation.\n\nIn some languages, functions must be defined to always take a specific number of arguments, each having a particular type. Python functions are allowed much more flexibility. The `print` function is a good example of this:"
    },
    {
      "metadata": {
        "collapsed": true,
        "_uuid": "8fc672ffc4fa17f051fac0d538264b566274318a",
        "trusted": false
      },
      "cell_type": "code",
      "source": "print(\"The print function takes an input and prints it to the screen.\")\nprint(\"Each call to print starts on a new line.\")\nprint(\"You'll often call print with strings, but you can pass any kind of value. For example, a number:\")\nprint(2 + 2)\nprint(\"If print is called with multiple arguments...\", \"it joins them\",\n      \"(with spaces in between)\", \"before printing.\")\nprint('But', 'this', 'is', 'configurable', sep='!...')\nprint()\nprint(\"^^^ print can also be called with no arguments to print a blank line.\")",
      "execution_count": null,
      "outputs": []
    },
    {
      "metadata": {
        "_uuid": "d59cf91922251a6690609384fd8b1e58565d00b7"
      },
      "cell_type": "markdown",
      "source": "## \"What does this function do again?\"\n\nI showed the `abs` function in the previous tutorial, but what if you've forgotten what it does?\n\nThe `help()` function is possibly the most important Python function you can learn. If you can remember how to use `help()`, you hold the key to understanding just about any other function in Python."
    },
    {
      "metadata": {
        "collapsed": true,
        "_uuid": "ef7f5bc4b62fe20c97a912de1765927dbf4e774a",
        "trusted": false
      },
      "cell_type": "code",
      "source": "help(abs)",
      "execution_count": null,
      "outputs": []
    },
    {
      "metadata": {
        "_uuid": "1c10752f958eb1a3e07e7b796b840b2796b4a44c"
      },
      "cell_type": "markdown",
      "source": "When applied to a function, `help()` displays...\n\n- the header of that function `abs(x, /)`. In this case, this tells us that `abs()` takes a single argument `x`. (The forward slash isn't important, but if you're curious, you can read about it [here](https://stackoverflow.com/questions/24735311/python-what-does-the-slash-mean-in-the-output-of-helprange))\n- A brief English description of what the function does."
    },
    {
      "metadata": {
        "_uuid": "d78a5d4fb50ba92d0f488f8db655c733fcd0c17f"
      },
      "cell_type": "markdown",
      "source": "**Common pitfall:** when you're looking up a function, remember to pass in the name of the function itself, and not the result of calling that function. \n\nWhat happens if we invoke help on a *call* to the function `abs()`? Unhide the output of the cell below to see."
    },
    {
      "metadata": {
        "_kg_hide-output": true,
        "collapsed": true,
        "_uuid": "f77095d0e3d9e10211119d729501b74ef0e7da7c",
        "trusted": false
      },
      "cell_type": "code",
      "source": "help(abs(-2))",
      "execution_count": null,
      "outputs": []
    },
    {
      "metadata": {
        "_uuid": "db6820a49eaa8dd74114e9fa8657abf7fe972517"
      },
      "cell_type": "markdown",
      "source": "Python evaluates an expression like this from the inside out. First it calculates the value of `abs(-2)`, then it provides help on whatever the value of that expression is.\n\n<small>(And it turns out to have a lot to say about integers! In Python, even something as simple-seeming as an integer is actually an object with a fair amount of internal complexity. After we talk later about objects, methods, and attributes in Python, the voluminous help output above will make more sense.)</small>\n\n`abs` is a very simple function with a short docstring. `help` shines even more when dealing with more complex, configurable functions like `print`:"
    },
    {
      "metadata": {
        "collapsed": true,
        "_uuid": "5ba7243f484da4d28ea2bd83a02ffcbaa490c0fc",
        "trusted": false
      },
      "cell_type": "code",
      "source": "help(print)",
      "execution_count": null,
      "outputs": []
    },
    {
      "metadata": {
        "_uuid": "873e1c8fdfed5e1d18d3f7779ab55d09866055e7"
      },
      "cell_type": "markdown",
      "source": "Some of this might look inscrutable for now (what's `sys.stdout`?), but this docstring does shed some light on that `sep` parameter we used in one of our `print` examples at the beginning. "
    },
    {
      "metadata": {
        "_uuid": "0bbff0a3e798cd510bf34ed69e3fbcac975596fa"
      },
      "cell_type": "markdown",
      "source": "## Defining functions\n\nBuiltin functions are great, but we can only get so far with them before we need to start defining our own functions. Below is a simple example."
    },
    {
      "metadata": {
        "collapsed": true,
        "_uuid": "4d332ad66316e6f2d5875779ac9b060c13c228b2",
        "trusted": false
      },
      "cell_type": "code",
      "source": "def least_difference(a, b, c):\n    diff1 = abs(a - b)\n    diff2 = abs(b - c)\n    diff3 = abs(a - c)\n    return min(diff1, diff2, diff3)",
      "execution_count": null,
      "outputs": []
    },
    {
      "metadata": {
        "_uuid": "e3c479880e94ed1b438de9d01188035850145891"
      },
      "cell_type": "markdown",
      "source": "This creates a function called `least_difference`, which takes three arguments, `a`, `b`, and `c`.\n\nFunctions start with a header introduced by the `def` keyword. The indented block of code following the `:` is run when the function is called.\n\n`return` is another keyword uniquely associated with functions. When Python encounters a `return` statement, it exits the function immediately, and passes the value on the right hand side to the calling context.\n\nIs it clear what `least_difference()` does from the source code? If we're not sure, we can always try it out on a few examples:"
    },
    {
      "metadata": {
        "collapsed": true,
        "_uuid": "a2d6037e8c52e336751d1d292cc48d5b48d62d10",
        "trusted": false
      },
      "cell_type": "code",
      "source": "print(\n    least_difference(1, 10, 100),\n    least_difference(1, 10, 10),\n    least_difference(5, 6, 7), # Python allows trailing commas in argument lists. How nice is that?\n)",
      "execution_count": null,
      "outputs": []
    },
    {
      "metadata": {
        "_uuid": "d452d1bac5d9f031cb1a4a0a1e26e8fd343bc180"
      },
      "cell_type": "markdown",
      "source": "Or maybe the `help()` function can tell us something about it."
    },
    {
      "metadata": {
        "collapsed": true,
        "_uuid": "804deebf7c94e6b7e36e07929dff3b5c79709c98",
        "trusted": false
      },
      "cell_type": "code",
      "source": "help(least_difference)",
      "execution_count": null,
      "outputs": []
    },
    {
      "metadata": {
        "_uuid": "07ec5838b2690b8c8e176c575323bc566b8c4dab"
      },
      "cell_type": "markdown",
      "source": "Unsurprisingly, Python isn't smart enough to read my code and turn it into a nice English description. However, when I write a function, I can provide a description in what's called the **docstring**.\n\n### Docstrings"
    },
    {
      "metadata": {
        "collapsed": true,
        "_uuid": "8b3a7838f305f0c3ff412daeffd6c9ee179e3d7f",
        "trusted": false
      },
      "cell_type": "code",
      "source": "def least_difference(a, b, c):\n    \"\"\"Return the smallest difference between any two numbers\n    among a, b and c.\n    \n    >>> least_difference(1, 5, -5)\n    4\n    \"\"\"\n    diff1 = abs(a - b)\n    diff2 = abs(b - c)\n    diff3 = abs(a - c)\n    return min(diff1, diff2, diff3)",
      "execution_count": null,
      "outputs": []
    },
    {
      "metadata": {
        "_uuid": "e7bf3ab8b037ac0c32152531e71e8ba21fab7e8b"
      },
      "cell_type": "markdown",
      "source": "The docstring is a triple-quoted string (which may span multiple lines) that comes immediately after the header of a function. When we call `help()` on a function, it shows the docstring."
    },
    {
      "metadata": {
        "collapsed": true,
        "_uuid": "7fa1a1bcf5277fb55d3b00250e13a7b8a465590c",
        "trusted": false
      },
      "cell_type": "code",
      "source": "help(least_difference)",
      "execution_count": null,
      "outputs": []
    },
    {
      "metadata": {
        "_uuid": "3084703c401e27dd4e3bc29f6c23d2edb0b06632"
      },
      "cell_type": "markdown",
      "source": "> **Aside: example calls**\n> The last two lines of the docstring are an example function call and result. (The `>>>` is a reference to the command prompt used in Python interactive shells.) Python doesn't run the example call - it's just there for the benefit of the reader. The convention of including 1 or more example calls in a function's docstring is far from universally observed, but it can be very effective at helping someone understand your function. For a real-world example of, see [this docstring for the numpy function `np.eye`](https://github.com/numpy/numpy/blob/v1.14.2/numpy/lib/twodim_base.py#L140-L194)."
    },
    {
      "metadata": {
        "_uuid": "cf65f5bae66e5fff550ef14b0becf805d357118e"
      },
      "cell_type": "markdown",
      "source": "\n\nDocstrings are a nice way to document your code for others - or even for yourself. (How many times have you come back to some code you were working on a day ago and wondered \"what was I thinking?\")"
    },
    {
      "metadata": {
        "_uuid": "3324737c2ef6d5075e10720140529c897bcd301b"
      },
      "cell_type": "markdown",
      "source": "## Functions that don't return\n\nWhat would happen if we didn't include the `return` keyword in our function?"
    },
    {
      "metadata": {
        "collapsed": true,
        "_uuid": "bfd7eb24739d44830ede2975e4da749cc1300793",
        "trusted": false
      },
      "cell_type": "code",
      "source": "def least_difference(a, b, c):\n    \"\"\"Return the smallest difference between any two numbers\n    among a, b and c.\n    \"\"\"\n    diff1 = abs(a - b)\n    diff2 = abs(b - c)\n    diff3 = abs(a - c)\n    min(diff1, diff2, diff3)\n    \nprint(\n    least_difference(1, 10, 100),\n    least_difference(1, 10, 10),\n    least_difference(5, 6, 7),\n)",
      "execution_count": null,
      "outputs": []
    },
    {
      "metadata": {
        "_uuid": "89232cb0a6d307b8c796bb754beb1dbab2e56a5b"
      },
      "cell_type": "markdown",
      "source": "Python allows us to define such functions. The result of calling them is the special value `None`. (This is similar to the concept of \"null\" in other languages.)\n\nWithout a `return` statement, `least_difference` is completely pointless, but a function with side effects may do something useful without returning anything. We've already seen two examples of this: `print()` and `help()` don't return anything. We only call them for their side effects (putting some text on the screen). Other examples of useful side effects include writing to a file, or modifying an input."
    },
    {
      "metadata": {
        "collapsed": true,
        "_uuid": "bdaa901c1dd2ad4c6f9e3ec5417428027973c324",
        "trusted": false
      },
      "cell_type": "code",
      "source": "mystery = print()\nprint(mystery)",
      "execution_count": null,
      "outputs": []
    },
    {
      "metadata": {
        "_uuid": "25148dae3943fc0dd78f6424c67f872f45b1e694"
      },
      "cell_type": "markdown",
      "source": "## Default arguments\n\nWhen we called `help(print)`, we saw that the `print` function has several optional arguments. For example, we can specify a value for `sep` to put some special string in between our printed arguments:"
    },
    {
      "metadata": {
        "collapsed": true,
        "_uuid": "7f8333f841cca6e027877ff30a18875b070314dc",
        "trusted": false
      },
      "cell_type": "code",
      "source": "print(1, 2, 3, sep=' < ')",
      "execution_count": null,
      "outputs": []
    },
    {
      "metadata": {
        "_uuid": "a71bdc415fe5debe6d64deb6fd63192b4ac66872"
      },
      "cell_type": "markdown",
      "source": "But if we don't specify a value, `sep` is treated as having a default value of `' '` (a single space)."
    },
    {
      "metadata": {
        "collapsed": true,
        "_uuid": "823dd906ccd59cd9e180c73a8ccff762d017b48b",
        "trusted": false
      },
      "cell_type": "code",
      "source": "print(1, 2, 3)",
      "execution_count": null,
      "outputs": []
    },
    {
      "metadata": {
        "_uuid": "6f48201e3af9d73798df523a0db25d78a4821cb4"
      },
      "cell_type": "markdown",
      "source": "Adding optional arguments with default values to the functions we define turns out to be pretty easy:"
    },
    {
      "metadata": {
        "collapsed": true,
        "_uuid": "075ce44d133f4008444a8f282af9ff4f5d3ec30d",
        "trusted": false
      },
      "cell_type": "code",
      "source": "def greet(who=\"Colin\"):\n    print(\"Hello,\", who)\n    \ngreet()\ngreet(who=\"Kaggle\")\n# (In this case, we don't need to specify the name of the argument, because it's unambiguous.)\ngreet(\"world\")",
      "execution_count": null,
      "outputs": []
    },
    {
      "metadata": {
        "_uuid": "56cbd0f0760763a7cec7d794c85a53e684e84529"
      },
      "cell_type": "markdown",
      "source": "<!-- Mention that non-default args must come before default? -->\n\n## Functions are objects too"
    },
    {
      "metadata": {
        "collapsed": true,
        "_uuid": "207d34e9a8fd7f3e4813447d2e3803e90a356b3d",
        "trusted": false
      },
      "cell_type": "code",
      "source": "def f(n):\n    return n * 2\n\nx = 12.5",
      "execution_count": null,
      "outputs": []
    },
    {
      "metadata": {
        "_uuid": "72ad9d906447545cba4c96033febc8e5f5b597c5"
      },
      "cell_type": "markdown",
      "source": "The syntax for creating them may be different, but `f` and `x` in the code above aren't so fundamentally different. They're each variables that refer to objects. `x` refers to an object of type `float`, and `f` refers to an object of type... well, let's ask Python:"
    },
    {
      "metadata": {
        "collapsed": true,
        "_uuid": "6f6ee96e5dfff1a786cca06978bdc735b38462ae",
        "trusted": false
      },
      "cell_type": "code",
      "source": "print(\n    type(x),\n    type(f), sep='\\n'\n)",
      "execution_count": null,
      "outputs": []
    },
    {
      "metadata": {
        "_uuid": "409c513f154dd34c5cbe3f1d786b8362bfb11efc"
      },
      "cell_type": "markdown",
      "source": "We can even ask Python to print `f` out:"
    },
    {
      "metadata": {
        "collapsed": true,
        "_uuid": "a9bd722b8fadd34416a882a8f34e8b56af9e9ca0",
        "trusted": false
      },
      "cell_type": "code",
      "source": "print(x)\nprint(f)",
      "execution_count": null,
      "outputs": []
    },
    {
      "metadata": {
        "_uuid": "73a3b88505881470ed505219a93e5269522bbcfb"
      },
      "cell_type": "markdown",
      "source": "...though what it shows isn't super useful.\n\nNotice that the code cells above have examples of functions (`type`, and `print`) taking *another function* as input. This opens up some interesting possibilities - we can *call* the function we receive as an argument."
    },
    {
      "metadata": {
        "collapsed": true,
        "_uuid": "2f332863823e5d7ba20495ee91cee11233cb77f3",
        "trusted": false
      },
      "cell_type": "code",
      "source": "def call(fn, arg):\n    \"\"\"Call fn on arg\"\"\"\n    return fn(arg)\n\ndef squared_call(fn, arg):\n    \"\"\"Call fn on the result of calling fn on arg\"\"\"\n    return fn(fn(arg))\n\nprint(\n    call(f, 1),\n    squared_call(f, 1), \n    sep='\\n', # '\\n' is the newline character - it starts a new line\n)",
      "execution_count": null,
      "outputs": []
    },
    {
      "metadata": {
        "_uuid": "df0dbdcf5bc665089de3c57861a8cc95c64130bd"
      },
      "cell_type": "markdown",
      "source": "You probably won't often define [higher order functions](https://en.wikipedia.org/wiki/Higher-order_function) like this yourself, but there are some existing ones (built in to Python and in libraries like pandas or numpy) that you might find useful to call. For example, `max`.\n\nBy default, `max` returns the largest of its arguments. But if we pass in a function using the optional `key` argument, it returns the argument `x` that maximizes `key(x)` (aka the 'argmax')."
    },
    {
      "metadata": {
        "collapsed": true,
        "_uuid": "3f5184cbce8a91344e58d46c91c53294ed986ae4",
        "trusted": false
      },
      "cell_type": "code",
      "source": "def mod_5(x):\n    \"\"\"Return the remainder of x after dividing by 5\"\"\"\n    return x % 5\n\nprint(\n    'Which number is biggest?',\n    max(100, 51, 14),\n    'Which number is the biggest modulo 5?',\n    max(100, 51, 14, key=mod_5),\n    sep='\\n',\n)",
      "execution_count": null,
      "outputs": []
    },
    {
      "metadata": {
        "_uuid": "66a39192320807586e9e6385b45e1bec2d68a27e"
      },
      "cell_type": "markdown",
      "source": "### Lambda functions\n\nIf you're writing a short throwaway function whose body fits into a single line (like `mod_5` above), Python's `lambda` syntax is conveniently compact."
    },
    {
      "metadata": {
        "collapsed": true,
        "_uuid": "32ec811ac1501a638495f52c64000f3d4e9e167b",
        "trusted": false
      },
      "cell_type": "code",
      "source": "mod_5 = lambda x: x % 5\n\n# Note that we don't use the \"return\" keyword above (it's implicit)\n# (The line below would produce a SyntaxError)\n#mod_5 = lambda x: return x % 5\n\nprint('101 mod 5 =', mod_5(101))",
      "execution_count": null,
      "outputs": []
    },
    {
      "metadata": {
        "collapsed": true,
        "_uuid": "1f7836609f88d5e8205c502fcc191b52eae4106b",
        "trusted": false
      },
      "cell_type": "code",
      "source": "# Lambdas can take multiple comma-separated arguments\nabs_diff = lambda a, b: abs(a-b)\nprint(\"Absolute difference of 5 and 7 is\", abs_diff(5, 7))",
      "execution_count": null,
      "outputs": []
    },
    {
      "metadata": {
        "collapsed": true,
        "_uuid": "dbfe0bb2d2e27579990e0ce7ec66c46fbc381317",
        "trusted": false
      },
      "cell_type": "code",
      "source": "# Or no arguments\nalways_32 = lambda: 32\nalways_32()",
      "execution_count": null,
      "outputs": []
    },
    {
      "metadata": {
        "_uuid": "cf2e09982c2ca35000c1c972497d5b3d699c2cf8"
      },
      "cell_type": "markdown",
      "source": "With judicious use of lambdas, you can occasionally solve complex problems in a single line. "
    },
    {
      "metadata": {
        "collapsed": true,
        "_uuid": "d07ff141c702d51d9dc51f1b6fef4e2e2b818d58",
        "trusted": false
      },
      "cell_type": "code",
      "source": "# Preview of lists and strings. (We'll go in depth into both soon)\n# - len: return the length of a sequence (such as a string or list)\n# - sorted: return a sorted version of the given sequence (optional key \n#           function works similarly to max and min)\n# - s.lower() : return a lowercase version of string s\nnames = ['jacques', 'Ty', 'Mia', 'pui-wa']\nprint(\"Longest name is:\", max(names, key=lambda name: len(name))) # or just key=len\nprint(\"Names sorted case insensitive:\", sorted(names, key=lambda name: name.lower()))",
      "execution_count": null,
      "outputs": []
    },
    {
      "metadata": {
        "_uuid": "32d8ddcb7365b9656736d4448a832c8ea9f0a986"
      },
      "cell_type": "markdown",
      "source": "# Your turn!\n\nHead over to [the Exercises notebook](https://www.kaggle.com/kernels/fork/1275158) to get some hands-on practice working with functions and getting help."
    }
  ],
  "metadata": {
    "kernelspec": {
      "display_name": "Python 3",
      "language": "python",
      "name": "python3"
    },
    "language_info": {
      "name": "python",
      "version": "3.6.6",
      "mimetype": "text/x-python",
      "codemirror_mode": {
        "name": "ipython",
        "version": 3
      },
      "pygments_lexer": "ipython3",
      "nbconvert_exporter": "python",
      "file_extension": ".py"
    },
    "learntools_metadata": {
      "lesson_index": 1,
      "type": "tutorial"
    }
  },
  "nbformat": 4,
  "nbformat_minor": 1
}