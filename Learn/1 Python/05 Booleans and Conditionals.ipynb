{
  "cells": [
    {
      "metadata": {
        "_uuid": "d0fb2b573e9e8f02f372db4118720dab64d3360a"
      },
      "cell_type": "markdown",
      "source": "# Booleans\n\nPython has a type `bool` which can take on one of two values: `True` and `False`."
    },
    {
      "metadata": {
        "collapsed": true,
        "_uuid": "231fd69493498366a375cd1489680b8172594ad9",
        "trusted": false
      },
      "cell_type": "code",
      "source": "x = True\nprint(x)\nprint(type(x))",
      "execution_count": null,
      "outputs": []
    },
    {
      "metadata": {
        "_uuid": "3df750aad0ce3e12c20bae00e6cf4388fc54a192"
      },
      "cell_type": "markdown",
      "source": "Rather than putting `True` or `False` directly in our code, we usually get boolean values from **boolean operators**. These are operators that answer yes/no questions. We'll go through some of these operators below. "
    },
    {
      "metadata": {
        "_uuid": "db7cd7b52fa40ffd513b889f5b6c177dc774647c"
      },
      "cell_type": "markdown",
      "source": "## Comparison Operations\n\n| Operation     | Description                       || Operation     | Description                          |\n|---------------|-----------------------------------||---------------|--------------------------------------|\n| ``a == b``    | ``a`` equal to ``b``              || ``a != b``    | ``a`` not equal to ``b``             |\n| ``a < b``     | ``a`` less than ``b``             || ``a > b``     | ``a`` greater than ``b``             |\n| ``a <= b``    | ``a`` less than or equal to ``b`` || ``a >= b``    | ``a`` greater than or equal to ``b`` |\n\n"
    },
    {
      "metadata": {
        "collapsed": true,
        "_uuid": "e469ac1baf941baf33e5377de65617d53587daad",
        "trusted": false
      },
      "cell_type": "code",
      "source": "def can_run_for_president(age):\n    \"\"\"Can someone of the given age run for president in the US?\"\"\"\n    # The US Constitution says you must \"have attained to the Age of thirty-five Years\"\n    return age >= 35\n\nprint(\"Can a 19-year-old run for president?\", can_run_for_president(19))\nprint(\"Can a 45-year-old run for president?\", can_run_for_president(45))",
      "execution_count": null,
      "outputs": []
    },
    {
      "metadata": {
        "_uuid": "96ff0d723129df22a5e3169cb0272b3a1c8c829d"
      },
      "cell_type": "markdown",
      "source": "Comparisons are a little bit clever..."
    },
    {
      "metadata": {
        "collapsed": true,
        "_uuid": "90ee1c9dd7390f4142d2678867162e90a1803cae",
        "trusted": false
      },
      "cell_type": "code",
      "source": "3.0 == 3",
      "execution_count": null,
      "outputs": []
    },
    {
      "metadata": {
        "_uuid": "3a26c9ba175d1a9757d8a4e400289e13e77a1e55"
      },
      "cell_type": "markdown",
      "source": "But not too clever..."
    },
    {
      "metadata": {
        "collapsed": true,
        "_uuid": "9e2cc8f8d7e8b1bacbbd605d88fb5c3358c1dd81",
        "trusted": false
      },
      "cell_type": "code",
      "source": "'3' == 3",
      "execution_count": null,
      "outputs": []
    },
    {
      "metadata": {
        "_uuid": "d232424bd98ac6af47d9c06ffeef9b4dc93399ce"
      },
      "cell_type": "markdown",
      "source": "Comparison operators can be combined with the arithmetic operators we've already seen to express a virtually limitless range of mathematical tests. For example, we can check if a number is odd by checking that the modulus with 2 returns 1:"
    },
    {
      "metadata": {
        "collapsed": true,
        "_uuid": "85508223f541aafa1accc75e27f8f178b5f4a01e",
        "trusted": false
      },
      "cell_type": "code",
      "source": "def is_odd(n):\n    return (n % 2) == 1\n\nprint(\"Is 100 odd?\", is_odd(100))\nprint(\"Is -1 odd?\", is_odd(-1))",
      "execution_count": null,
      "outputs": []
    },
    {
      "metadata": {
        "_uuid": "6261fa4d654447db9b4b1be9c1b6b6afe279bf34"
      },
      "cell_type": "markdown",
      "source": "Remember to use `==` instead of `=` when making comparisons. If you write `n == 2` you are asking about the value of n. When you write `n = 2` you are changing the value of n."
    },
    {
      "metadata": {
        "_uuid": "d40a2aac0e22ae344981134fe9438a5573e77f8e"
      },
      "cell_type": "markdown",
      "source": "## Combining Boolean Values\nPython provides operators to combine boolean values using the standard concepts of \"and\", \"or\", and \"not\". And in fact, the corresponding Python operators use just those words: ``and``, ``or``, and ``not``.\n\nWith these, we can make our `can_run_for_president` function more accurate."
    },
    {
      "metadata": {
        "collapsed": true,
        "_uuid": "db83fd958c6b04e2d865709e1d3ce6aef6553e5b",
        "trusted": false
      },
      "cell_type": "code",
      "source": "def can_run_for_president(age, is_natural_born_citizen):\n    \"\"\"Can someone of the given age and citizenship status run for president in the US?\"\"\"\n    # The US Constitution says you must be a natural born citizen *and* at least 35 years old\n    return is_natural_born_citizen and (age >= 35)\n\nprint(can_run_for_president(19, True))\nprint(can_run_for_president(55, False))\nprint(can_run_for_president(55, True))",
      "execution_count": null,
      "outputs": []
    },
    {
      "metadata": {
        "_uuid": "207e6282c8236b15151f18eb6d15d278c0221a6b"
      },
      "cell_type": "markdown",
      "source": "Quick, can you guess the value of this expression?"
    },
    {
      "metadata": {
        "_kg_hide-output": true,
        "collapsed": true,
        "_uuid": "5ad8398d1e078c35a8f315a34b332bfc46189f62",
        "trusted": false
      },
      "cell_type": "code",
      "source": "True or True and False",
      "execution_count": null,
      "outputs": []
    },
    {
      "metadata": {
        "_uuid": "79231bc95b5bdffd9c05da7371c5e197e0ee807d"
      },
      "cell_type": "markdown",
      "source": "(Click the \"output\" button to see the answer)\n\nPython has precedence rules that determine the order in which operations get evaluated in expressions like above. For example, `and` has a higher precedence than `or`, which is why the first expression above is `True`. If we had evaluated it from left to right, we would have calculated `True or True` first (which is `True`), and then taken the `and` of that result with `False`, giving a final value of `False`.\n\nYou could try to [memorize the order of precedence](https://docs.python.org/3/reference/expressions.html#operator-precedence), but a safer bet is to just use liberal parentheses. Not only does this help prevent bugs, it makes your intentions clearer to anyone who reads your code. \n\nFor example, consider the following expression:\n\n```python\nprepared_for_weather = have_umbrella or rain_level < 5 and have_hood or not rain_level > 0 and is_workday\n```\n\nI'm trying to say that I'm safe from today's weather....\n- if I have an umbrella...\n- or if the rain isn't too heavy and I have a hood...\n- otherwise, I'm still fine unless it's raining *and* it's a workday\n\nBut not only is my Python code hard to read, it has a bug. We can address both problems by adding some parentheses:\n\n```python\nprepared_for_weather = have_umbrella or (rain_level < 5 and have_hood) or not (rain_level > 0 and is_workday)\n```\n\nYou can add even more parentheses if you think it helps readability:\n\n```python\nprepared_for_weather = have_umbrella or ((rain_level < 5) and have_hood) or (not (rain_level > 0 and is_workday))\n```\n\nWe can also split it over multiple lines to emphasize the 3-part structure described above:\n\n```python\nprepared_for_weather = (\n    have_umbrella \n    or ((rain_level < 5) and have_hood) \n    or (not (rain_level > 0 and is_workday))\n)\n```"
    },
    {
      "metadata": {
        "_uuid": "82c51e383b824d336b7c20a6d81b059f9461a04b"
      },
      "cell_type": "markdown",
      "source": "# Conditionals\n\nWhile useful enough in their own right, booleans really start to shine when combined with *conditional statements*, using the keywords ``if``, ``elif``, and ``else``.\n\nConditional statements, often referred to as *if-then* statements, allow the programmer to execute certain pieces of code depending on some Boolean condition.\nA basic example of a Python conditional statement is this:"
    },
    {
      "metadata": {
        "collapsed": true,
        "_uuid": "d0d009be4d8e6812712f34d6f9494cb463cb4003",
        "trusted": false
      },
      "cell_type": "code",
      "source": "def inspect(x):\n    if x == 0:\n        print(x, \"is zero\")\n    elif x > 0:\n        print(x, \"is positive\")\n    elif x < 0:\n        print(x, \"is negative\")\n    else:\n        print(x, \"is unlike anything I've ever seen...\")\n\ninspect(0)\ninspect(-15)",
      "execution_count": null,
      "outputs": []
    },
    {
      "metadata": {
        "_uuid": "5b1e6fbd9a31cce207ca4716581f88a945042803"
      },
      "cell_type": "markdown",
      "source": "Python adopts the ``if`` and ``else`` often used in other languages; its more unique keyword is ``elif``, a contraction of \"else if\".\nIn these conditional clauses, ``elif`` and ``else`` blocks are optional; additionally, you can include as many ``elif`` statements as you would like.\n\nNote especially the use of colons (``:``) and whitespace to denote separate blocks of code. This is similar to what happens when we define a function - the function header ends with `:`, and the following line is indented with 4 spaces. All subsequent indented lines belong to the body of the function, until we encounter an unindented line, ending the function definition."
    },
    {
      "metadata": {
        "collapsed": true,
        "_uuid": "ee8c0e8692ef2ec68a241993ce15f57a66507f82",
        "trusted": false
      },
      "cell_type": "code",
      "source": "def f(x):\n    if x > 0:\n        print(\"Only printed when x is positive; x =\", x)\n        print(\"Also only printed when x is positive; x =\", x)\n    print(\"Always printed, regardless of x's value; x =\", x)\n\nf(1)\nf(0)",
      "execution_count": null,
      "outputs": []
    },
    {
      "metadata": {
        "_uuid": "cc6babf9acec8a873186e56144999027dbb2344a"
      },
      "cell_type": "markdown",
      "source": "## Boolean conversion\n\nWe've seen `int()`, which turns things into ints, and `float()`, which turns things into floats, so you might not be surprised to hear that Python has a `bool()` function which turns things into bools."
    },
    {
      "metadata": {
        "collapsed": true,
        "_uuid": "c015122d6c5a941a44a322465cd7466e2cebae3c",
        "trusted": false
      },
      "cell_type": "code",
      "source": "print(bool(1)) # all numbers are treated as true, except 0\nprint(bool(0))\nprint(bool(\"asf\")) # all strings are treated as true, except the empty string \"\"\nprint(bool(\"\"))\n# Generally empty sequences (strings, lists, and other types we've yet to see like lists and tuples)\n# are \"falsey\" and the rest are \"truthy\"",
      "execution_count": null,
      "outputs": []
    },
    {
      "metadata": {
        "_uuid": "d0ae7500b6e0491c37efae17010b1f93e94469e0"
      },
      "cell_type": "markdown",
      "source": "We can use non-boolean objects in `if` conditions and other places where a boolean would be expected. Python will implicitly treat them as their corresponding boolean value:"
    },
    {
      "metadata": {
        "collapsed": true,
        "_uuid": "aa347735dea02397add7650b384a543b30df65a8",
        "trusted": false
      },
      "cell_type": "code",
      "source": "if 0:\n    print(0)\nelif \"spam\":\n    print(\"spam\")",
      "execution_count": null,
      "outputs": []
    },
    {
      "metadata": {
        "_uuid": "33d0740eec58df826ff00648336ea7c440670e66"
      },
      "cell_type": "markdown",
      "source": "## Conditional expressions (aka 'ternary')\n\nSetting a variable to either of two values depending on some condition is a pretty common pattern."
    },
    {
      "metadata": {
        "collapsed": true,
        "_uuid": "6c08303f1157c43fc2dd081324d04179ef7a1fe7",
        "trusted": false
      },
      "cell_type": "code",
      "source": "def quiz_message(grade):\n    if grade < 50:\n        outcome = 'failed'\n    else:\n        outcome = 'passed'\n    print('You', outcome, 'the quiz with a grade of', grade)\n    \nquiz_message(80)",
      "execution_count": null,
      "outputs": []
    },
    {
      "metadata": {
        "_uuid": "14e50fb154b48b8ebd64a1f941f260fe70d8553e"
      },
      "cell_type": "markdown",
      "source": "Python has a handy single-line 'conditional expression' syntax to simplify these cases:"
    },
    {
      "metadata": {
        "collapsed": true,
        "_uuid": "a572ec16b189710abd443c61f3f1a3f6779687cd",
        "trusted": false
      },
      "cell_type": "code",
      "source": "def quiz_message(grade):\n    outcome = 'failed' if grade < 50 else 'passed'\n    print('You', outcome, 'the quiz with a grade of', grade)\n    \nquiz_message(45)",
      "execution_count": null,
      "outputs": []
    },
    {
      "metadata": {
        "_uuid": "2705fab4f9c9f565c410b3aeb77ba797fabb52c8"
      },
      "cell_type": "markdown",
      "source": "<small>You may recognize this as being similar to the <i>ternary operator</i> that exists in many other languages. For example, in javascript, we would write the assignment above as `var outcome = grade < 50 ? 'failed' : 'passed'`. (When it comes to readability, I think Python is the winner here.)</small>"
    },
    {
      "metadata": {
        "_uuid": "53f042ba3d1dbcb4329862931d480eac8eaf347f"
      },
      "cell_type": "markdown",
      "source": "# Your turn!\n\nHead over to [the Exercises notebook](https://www.kaggle.com/kernels/fork/1275165) to get some hands-on practice working with booleans and conditionals."
    }
  ],
  "metadata": {
    "kernelspec": {
      "display_name": "Python 3",
      "language": "python",
      "name": "python3"
    },
    "language_info": {
      "name": "python",
      "version": "3.6.6",
      "mimetype": "text/x-python",
      "codemirror_mode": {
        "name": "ipython",
        "version": 3
      },
      "pygments_lexer": "ipython3",
      "nbconvert_exporter": "python",
      "file_extension": ".py"
    },
    "learntools_metadata": {
      "lesson_index": 2,
      "type": "tutorial"
    }
  },
  "nbformat": 4,
  "nbformat_minor": 1
}